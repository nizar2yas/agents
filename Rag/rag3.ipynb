{
 "cells": [
  {
   "cell_type": "markdown",
   "metadata": {
    "vscode": {
     "languageId": "plaintext"
    }
   },
   "source": [
    "# Rag using Document ai spliter\n",
    "\n",
    "due to problems using unstructured package to split document, I to stay in google echo-system I'll use Document AI to split a documents, thuis this notebook is for that purpose.<br>\n",
    "I followed this [playlist](https://www.youtube.com/watch?v=9izcbNYmP8M&list=PLIivdWyY5sqIR88BxIK-3w14Vm-jTH1id&index=2) to get started with document AI  "
   ]
  },
  {
   "cell_type": "code",
   "execution_count": 1,
   "metadata": {},
   "outputs": [],
   "source": [
    "PROJECT_ID = \"x-project-00\"\n",
    "LOCATION = \"eu\"\n",
    "DOCUMENT_OCR_DISPLAY_NAME = \"my-layout-processor\"\n",
    "PROCESSOR_ID = \"92d70cd187ed276\"\n",
    "FILE_PATH = \"X3000_TurboFixer.pdf\"\n",
    "BUCKET_NAME = \"ai_test_bckt\"\n",
    "MIME_TYPE = \"application/pdf\""
   ]
  },
  {
   "cell_type": "markdown",
   "metadata": {},
   "source": [
    "# Synchronous call \n",
    "eused for small files, the result are send to the caller after processing"
   ]
  },
  {
   "cell_type": "code",
   "execution_count": null,
   "metadata": {},
   "outputs": [],
   "source": [
    "from google.cloud import documentai_v1beta3 as documentai\n",
    "from google.cloud import storage\n",
    "from google.api_core.client_options import ClientOptions\n",
    "\n",
    "# Instantiates a client\n",
    "storage_client = storage.Client()\n",
    "opts = ClientOptions(api_endpoint=f\"{LOCATION}-documentai.googleapis.com\")\n",
    "\n",
    "client = documentai.DocumentProcessorServiceClient(client_options=opts)\n",
    "# The full resource name of the processor, e.g.:\n",
    "# projects/project-id/locations/location/processor/processor-id\n",
    "# You must create new processors in the Cloud Console first\n",
    "name = f\"projects/{PROJECT_ID}/locations/{LOCATION}/processors/{PROCESSOR_ID}\"\n",
    "name2 = \"projects/815082548201/locations/eu/processors/92d70cd187ed276\"\n",
    "bucket = storage_client.bucket(BUCKET_NAME)\n",
    "blob = bucket.blob(FILE_PATH)\n",
    "with blob.open(\"rb\") as image:\n",
    "    image_content = image.read()\n",
    "# Read the file into memory\n",
    "document = {\"content\": image_content, \"mime_type\": \"application/pdf\"}\n",
    "# Configure the process request\n",
    "request = {\"name\": name, \"document\": document}\n",
    "# Use the Document AI client to process the sample form\n",
    "result = client.process_document(request=request)\n",
    "result"
   ]
  },
  {
   "cell_type": "code",
   "execution_count": null,
   "metadata": {},
   "outputs": [],
   "source": [
    "result.document"
   ]
  },
  {
   "cell_type": "code",
   "execution_count": null,
   "metadata": {},
   "outputs": [],
   "source": [
    "import collections\n",
    "\n",
    "pdf_categories2 = [el.category for el in elements]\n",
    "print(collections.Counter(pdf_categories2))"
   ]
  },
  {
   "cell_type": "code",
   "execution_count": null,
   "metadata": {},
   "outputs": [],
   "source": [
    "result.document.pages[0].key"
   ]
  },
  {
   "cell_type": "code",
   "execution_count": null,
   "metadata": {},
   "outputs": [],
   "source": [
    "result.document.entities"
   ]
  },
  {
   "cell_type": "code",
   "execution_count": null,
   "metadata": {},
   "outputs": [],
   "source": [
    "a = [(r.page_number, r.layout) for r in result.document.pages]\n",
    "a"
   ]
  },
  {
   "cell_type": "code",
   "execution_count": null,
   "metadata": {},
   "outputs": [],
   "source": [
    "from typing import Optional\n",
    "\n",
    "from google.api_core.client_options import ClientOptions\n",
    "from google.cloud import documentai  # type: ignore\n",
    "\n",
    "# TODO(developer): Uncomment these variables before running the sample.\n",
    "# project_id = \"YOUR_PROJECT_ID\"\n",
    "# location = \"YOUR_PROCESSOR_LOCATION\" # Format is \"us\" or \"eu\"\n",
    "# processor_id = \"YOUR_PROCESSOR_ID\" # Create processor before running sample\n",
    "# file_path = \"/path/to/local/pdf\"\n",
    "# mime_type = \"application/pdf\" # Refer to https://cloud.google.com/document-ai/docs/file-types for supported file types\n",
    "# field_mask = \"text,entities,pages.pageNumber\"  # Optional. The fields to return in the Document object.\n",
    "# processor_version_id = \"YOUR_PROCESSOR_VERSION_ID\" # Optional. Processor version to use\n",
    "\n",
    "\n",
    "def process_document_sample(\n",
    "    project_id: str,\n",
    "    location: str,\n",
    "    processor_id: str,\n",
    "    file_path: str,\n",
    "    mime_type: str,\n",
    "    field_mask: Optional[str] = None,\n",
    "    processor_version_id: Optional[str] = None,\n",
    ") -> None:\n",
    "    # You must set the `api_endpoint` if you use a location other than \"us\".\n",
    "    opts = ClientOptions(api_endpoint=f\"{location}-documentai.googleapis.com\")\n",
    "\n",
    "    client = documentai.DocumentProcessorServiceClient(client_options=opts)\n",
    "\n",
    "    if processor_version_id:\n",
    "        # The full resource name of the processor version, e.g.:\n",
    "        # `projects/{project_id}/locations/{location}/processors/{processor_id}/processorVersions/{processor_version_id}`\n",
    "        name = client.processor_version_path(\n",
    "            project_id, location, processor_id, processor_version_id\n",
    "        )\n",
    "    else:\n",
    "        # The full resource name of the processor, e.g.:\n",
    "        # `projects/{project_id}/locations/{location}/processors/{processor_id}`\n",
    "        name = client.processor_path(project_id, location, processor_id)\n",
    "\n",
    "    # Read the file into memory\n",
    "    with open(file_path, \"rb\") as image:\n",
    "        image_content = image.read()\n",
    "\n",
    "    # Load binary data\n",
    "    raw_document = documentai.RawDocument(content=image_content, mime_type=mime_type)\n",
    "\n",
    "    # For more information: https://cloud.google.com/document-ai/docs/reference/rest/v1/ProcessOptions\n",
    "    # Optional: Additional configurations for processing.\n",
    "    process_options = documentai.ProcessOptions(\n",
    "        # Process only specific pages\n",
    "        individual_page_selector=documentai.ProcessOptions.IndividualPageSelector(\n",
    "            pages=[1]\n",
    "        )\n",
    "    )\n",
    "\n",
    "    # Configure the process request\n",
    "    request = documentai.ProcessRequest(\n",
    "        name=name,\n",
    "        raw_document=raw_document,\n",
    "        field_mask=field_mask,\n",
    "        process_options=process_options,\n",
    "    )\n",
    "\n",
    "    result = client.process_document(request=request)\n",
    "\n",
    "    # For a full list of `Document` object attributes, reference this page:\n",
    "    # https://cloud.google.com/document-ai/docs/reference/rest/v1/Document\n",
    "    document = result.document\n",
    "\n",
    "    # Read the text recognition output from the processor\n",
    "    print(\"The document contains the following text:\")\n",
    "    print(document.text)\n",
    "\n",
    "process_document_sample(PROJECT_ID,LOCATION, PROCESSOR_ID,FILE_PATH,\"application/pdf\")"
   ]
  },
  {
   "cell_type": "markdown",
   "metadata": {},
   "source": [
    "# Asynchronous \n",
    "used for bigger/multiple files, the input and output are stored in gcs"
   ]
  },
  {
   "cell_type": "code",
   "execution_count": 4,
   "metadata": {},
   "outputs": [],
   "source": [
    "from google.cloud import documentai_v1beta3 as documentai\n",
    "from google.cloud import storage\n",
    "from google.api_core.client_options import ClientOptions\n",
    "\n",
    "client_options = {\"api_endpoint\": \"{}-documentai.googleapis.com\".format(LOCATION)}\n",
    "client = documentai.DocumentProcessorServiceClient(client_options=client_options)\n",
    "storage_client = storage.Client()"
   ]
  },
  {
   "cell_type": "code",
   "execution_count": 7,
   "metadata": {},
   "outputs": [
    {
     "name": "stdout",
     "output_type": "stream",
     "text": [
      "Input Files:\n",
      "gs://ai_test_bckt/X3000_TurboFixer.pdf\n"
     ]
    }
   ],
   "source": [
    "blobs = storage_client.list_blobs(BUCKET_NAME)\n",
    "input_configs = []\n",
    "print(\"Input Files:\")\n",
    "for blob in blobs:\n",
    "    if \".pdf\" in blob.name and FILE_PATH in blob.name:\n",
    "        source = \"gs://{bucket}/{name}\".format(bucket = BUCKET_NAME, name = blob.name)\n",
    "        print(source)\n",
    "        input_config = documentai.types.document_processor_service.BatchProcessRequest.BatchInputConfig(\n",
    "            gcs_source=source, mime_type=\"application/pdf\"\n",
    "        )\n",
    "        input_configs.append(input_config)"
   ]
  },
  {
   "cell_type": "code",
   "execution_count": 9,
   "metadata": {},
   "outputs": [],
   "source": [
    "destination_uri = f\"gs://{BUCKET_NAME}/out\"\n",
    "output_config = documentai.types.document_processor_service.BatchProcessRequest.BatchOutputConfig(\n",
    "    gcs_destination=destination_uri\n",
    ")"
   ]
  },
  {
   "cell_type": "code",
   "execution_count": 11,
   "metadata": {},
   "outputs": [],
   "source": [
    "name = f\"projects/{PROJECT_ID}/locations/{LOCATION}/processors/{PROCESSOR_ID}\"\n",
    "\n",
    "request = documentai.types.document_processor_service.BatchProcessRequest(\n",
    "    name=name,\n",
    "    input_configs=input_configs,\n",
    "    output_config=output_config,\n",
    ")"
   ]
  },
  {
   "cell_type": "code",
   "execution_count": 12,
   "metadata": {},
   "outputs": [
    {
     "name": "stdout",
     "output_type": "stream",
     "text": [
      "Batch process  completed.\n"
     ]
    }
   ],
   "source": [
    "operation = client.batch_process_documents(request)\n",
    "# Wait for the operation to finish\n",
    "operation.result(timeout=800)\n",
    "print (f\"Batch process  completed. the output will be in {BUCKET_NAME}/out\")"
   ]
  }
 ],
 "metadata": {
  "kernelspec": {
   "display_name": "venv",
   "language": "python",
   "name": "python3"
  },
  "language_info": {
   "codemirror_mode": {
    "name": "ipython",
    "version": 3
   },
   "file_extension": ".py",
   "mimetype": "text/x-python",
   "name": "python",
   "nbconvert_exporter": "python",
   "pygments_lexer": "ipython3",
   "version": "3.12.8"
  }
 },
 "nbformat": 4,
 "nbformat_minor": 2
}
