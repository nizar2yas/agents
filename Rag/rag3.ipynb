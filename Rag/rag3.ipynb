{
 "cells": [
  {
   "cell_type": "markdown",
   "metadata": {
    "vscode": {
     "languageId": "plaintext"
    }
   },
   "source": [
    "# Rag using Document ai spliter\n",
    "\n",
    "due to problems using unstructured package to split document, I to stay in google echo-system I'll use Document AI to split a documents, thuis this notebook is for that purpose.<br>\n",
    "I followed this [playlist](https://www.youtube.com/watch?v=9izcbNYmP8M&list=PLIivdWyY5sqIR88BxIK-3w14Vm-jTH1id&index=2) to get started with document AI  "
   ]
  },
  {
   "cell_type": "code",
   "execution_count": 1,
   "metadata": {},
   "outputs": [],
   "source": [
    "PROJECT_ID = \"x-project-00\"\n",
    "API_LOCATION = \"eu\"\n",
    "\n",
    "document_ocr_display_name = \"my-layout-processor\"\n",
    "processor_id = \"92d70cd187ed276\"\n",
    "file_path = \"gs://ai_test_bckt/doc_latest.md\"\n",
    "mime_type = \"application/pdf\"\n"
   ]
  },
  {
   "cell_type": "code",
   "execution_count": null,
   "metadata": {},
   "outputs": [],
   "source": [
    "def get_client() -> docai.DocumentProcessorServiceClient:\n",
    "    client_options = {\"api_endpoint\": f\"{API_LOCATION}-documentai.googleapis.com\"}\n",
    "    return docai.DocumentProcessorServiceClient(client_options=client_options)\n",
    "\n",
    "def get_parent(client: docai.DocumentProcessorServiceClient) -> str:\n",
    "    return client.common_location_path(PROJECT_ID, API_LOCATION)\n",
    "\n",
    "def get_client_and_parent() -> Tuple[docai.DocumentProcessorServiceClient, str]:\n",
    "    client = get_client()\n",
    "    parent = get_parent(client)\n",
    "    return client, parent\n",
    "    "
   ]
  },
  {
   "cell_type": "code",
   "execution_count": null,
   "metadata": {},
   "outputs": [],
   "source": [
    "from google.cloud import documentai_v1beta3 as documentai\n",
    "from google.cloud import storage\n",
    "\n",
    "# Instantiates a client\n",
    "storage_client = storage.Client()\n",
    "client = documentai.DocumentProcessorServiceClient()\n",
    "# The full resource name of the processor, e.g.:\n",
    "# projects/project-id/locations/location/processor/processor-id\n",
    "# You must create new processors in the Cloud Console first\n",
    "name = f\"projects/{PROJECT_ID}/locations/{API_LOCATION}/processors/{processor_id}\"\n",
    "with open(file_path, \"rb\") as image:\n",
    "    image_content = image.read()\n",
    "# Read the file into memory\n",
    "document = {\"content\": image_content, \"mime_type\": \"application/pdf\"}\n",
    "# Configure the process request\n",
    "request = {\"name\": name, \"document\": document}\n",
    "# Use the Document AI client to process the sample form\n",
    "result = client.process_document(request=request)\n",
    "result"
   ]
  }
 ],
 "metadata": {
  "kernelspec": {
   "display_name": "venv",
   "language": "python",
   "name": "python3"
  },
  "language_info": {
   "codemirror_mode": {
    "name": "ipython",
    "version": 3
   },
   "file_extension": ".py",
   "mimetype": "text/x-python",
   "name": "python",
   "nbconvert_exporter": "python",
   "pygments_lexer": "ipython3",
   "version": "3.12.8"
  }
 },
 "nbformat": 4,
 "nbformat_minor": 2
}
