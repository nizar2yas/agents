{
 "cells": [
  {
   "cell_type": "markdown",
   "metadata": {},
   "source": [
    "# (WORKS) RAG2 : \n",
    "I'll try to use cloud sql (postgres) instead of local pgvector"
   ]
  },
  {
   "cell_type": "code",
   "execution_count": 4,
   "metadata": {},
   "outputs": [],
   "source": [
    "from langchain_google_cloud_sql_pg import PostgresEngine\n",
    "from langchain_google_vertexai import VertexAIEmbeddings\n",
    "from langchain_google_cloud_sql_pg import PostgresVectorStore\n",
    "from unstructured.partition.md import partition_md\n",
    "from unstructured.staging.base import dict_to_elements\n",
    "from unstructured.chunking.title import chunk_by_title\n",
    "import uuid"
   ]
  },
  {
   "cell_type": "code",
   "execution_count": 9,
   "metadata": {},
   "outputs": [],
   "source": [
    "PROJECT_ID = \"x-project-00\"\n",
    "REGION = \"europe-west1\"\n",
    "INSTANCE = \"vector-db\"\n",
    "DATABASE = \"X3000_TurboFixer\"\n",
    "USER = \"postgres\"\n",
    "PASSWORD = \"admin\"\n",
    "TABLE_NAME = \"vector_table2\""
   ]
  },
  {
   "cell_type": "code",
   "execution_count": 10,
   "metadata": {},
   "outputs": [],
   "source": [
    "engine = await PostgresEngine.afrom_instance(\n",
    "    project_id=PROJECT_ID, region=REGION, instance=INSTANCE, database=DATABASE, user=USER, password=PASSWORD\n",
    ")"
   ]
  },
  {
   "cell_type": "code",
   "execution_count": 36,
   "metadata": {},
   "outputs": [
    {
     "data": {
      "text/plain": [
       "langchain_google_cloud_sql_pg.engine.PostgresEngine"
      ]
     },
     "execution_count": 36,
     "metadata": {},
     "output_type": "execute_result"
    }
   ],
   "source": [
    "type(engine)"
   ]
  },
  {
   "cell_type": "code",
   "execution_count": 11,
   "metadata": {},
   "outputs": [],
   "source": [
    "await engine.ainit_vectorstore_table(\n",
    "    table_name=TABLE_NAME,\n",
    "    vector_size=768,  # Vector size for VertexAI model(textembedding-gecko@latest)\n",
    ")"
   ]
  },
  {
   "cell_type": "code",
   "execution_count": 12,
   "metadata": {},
   "outputs": [],
   "source": [
    "embeddings = VertexAIEmbeddings(model_name=\"text-embedding-004\", project = PROJECT_ID)"
   ]
  },
  {
   "cell_type": "code",
   "execution_count": 13,
   "metadata": {},
   "outputs": [],
   "source": [
    "store = await PostgresVectorStore.create(  # Use .create() to initialize an async vector store\n",
    "    engine = engine,\n",
    "    table_name = TABLE_NAME,\n",
    "    embedding_service = embeddings,\n",
    ")"
   ]
  },
  {
   "cell_type": "code",
   "execution_count": 22,
   "metadata": {},
   "outputs": [],
   "source": [
    "partitioned_elements = partition_md(filename=\"..\\\\synthetic_data_generator\\\\doc_latest.md\")\n",
    "elements_dict = [el.to_dict() for el in partitioned_elements if el.category != \"UncategorizedText\"]"
   ]
  },
  {
   "cell_type": "code",
   "execution_count": 31,
   "metadata": {},
   "outputs": [],
   "source": [
    "elements = dict_to_elements(elements_dict)\n",
    "\n",
    "chunks = chunk_by_title(\n",
    "    elements,\n",
    "    combine_text_under_n_chars=800,\n",
    "    max_characters=1500,\n",
    "    # overlap=50\n",
    ")"
   ]
  },
  {
   "cell_type": "code",
   "execution_count": 34,
   "metadata": {},
   "outputs": [],
   "source": [
    "documents = []\n",
    "ids = []\n",
    "for element in chunks:\n",
    "    metadatas = element.metadata.to_dict()\n",
    "    del metadatas[\"languages\"]\n",
    "    metadatas[\"source\"] = metadatas[\"filename\"]\n",
    "    documents.append(element.text)\n",
    "    ids.append(str(uuid.uuid4()))\n"
   ]
  },
  {
   "cell_type": "code",
   "execution_count": 35,
   "metadata": {},
   "outputs": [
    {
     "data": {
      "text/plain": [
       "['3823d4d0-aac0-4b46-8695-2a0eeb5bff40',\n",
       " 'fa397007-9ff5-4203-b5d7-ac6490f158a7',\n",
       " '41c5a950-7532-417b-a62d-61637b41c15c',\n",
       " 'c4d9ebde-8cfe-4a2b-9b68-ad9fc3e64da6',\n",
       " 'b1e06fff-5686-4a35-a9b9-56fd031f9d99',\n",
       " '161db09c-2df0-47ad-be91-900df50c64d8',\n",
       " '96819d35-5e32-4f87-929f-aededa695469',\n",
       " '649c146d-5c41-4f0b-bbf7-c24efc171a57',\n",
       " 'ebbe122e-89b6-4205-9ac7-8f220f23930c',\n",
       " '36459c22-d6c8-4187-ab59-5e5b7077ea0c',\n",
       " '5ff69022-f3cb-4594-af87-001ed09c8ccc',\n",
       " 'c015d5f1-326f-4c01-b31e-aa1c60d97b28',\n",
       " '0812134b-38ee-4b1e-bac9-5a5a5ab61c6e',\n",
       " 'c72009a0-3791-43d2-b708-78fa42d249a7',\n",
       " '7c180505-3e01-4641-b854-b608925dbbb2',\n",
       " '80f6432a-c373-411d-8808-bca193c55cce']"
      ]
     },
     "execution_count": 35,
     "metadata": {},
     "output_type": "execute_result"
    }
   ],
   "source": [
    "await store.aadd_texts(documents, metadatas=metadatas, ids=ids)\n"
   ]
  }
 ],
 "metadata": {
  "kernelspec": {
   "display_name": "venv",
   "language": "python",
   "name": "python3"
  },
  "language_info": {
   "codemirror_mode": {
    "name": "ipython",
    "version": 3
   },
   "file_extension": ".py",
   "mimetype": "text/x-python",
   "name": "python",
   "nbconvert_exporter": "python",
   "pygments_lexer": "ipython3",
   "version": "3.12.8"
  }
 },
 "nbformat": 4,
 "nbformat_minor": 2
}
