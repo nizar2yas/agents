{
 "cells": [
  {
   "cell_type": "markdown",
   "metadata": {},
   "source": [
    "# (WORKS) RAG2 : \n",
    "I'll try to use cloud sql (postgres) instead of local pgvector"
   ]
  },
  {
   "cell_type": "markdown",
   "metadata": {},
   "source": [
    "## I.Add documents to vector DB"
   ]
  },
  {
   "cell_type": "code",
   "execution_count": 4,
   "metadata": {},
   "outputs": [],
   "source": [
    "from langchain_google_cloud_sql_pg import PostgresEngine\n",
    "from langchain_google_vertexai import VertexAIEmbeddings\n",
    "from langchain_google_cloud_sql_pg import PostgresVectorStore\n",
    "from unstructured.partition.md import partition_md\n",
    "from unstructured.staging.base import dict_to_elements\n",
    "from unstructured.chunking.title import chunk_by_title\n",
    "import uuid"
   ]
  },
  {
   "cell_type": "code",
   "execution_count": 9,
   "metadata": {},
   "outputs": [],
   "source": [
    "PROJECT_ID = \"x-project-00\"\n",
    "REGION = \"europe-west1\"\n",
    "INSTANCE = \"vector-db\"\n",
    "DATABASE = \"X3000_TurboFixer\"\n",
    "USER = \"postgres\"\n",
    "PASSWORD = \"admin\"\n",
    "TABLE_NAME = \"vector_table2\""
   ]
  },
  {
   "cell_type": "code",
   "execution_count": 10,
   "metadata": {},
   "outputs": [],
   "source": [
    "engine = await PostgresEngine.afrom_instance(\n",
    "    project_id=PROJECT_ID, region=REGION, instance=INSTANCE, database=DATABASE, user=USER, password=PASSWORD\n",
    ")"
   ]
  },
  {
   "cell_type": "code",
   "execution_count": 36,
   "metadata": {},
   "outputs": [
    {
     "data": {
      "text/plain": [
       "langchain_google_cloud_sql_pg.engine.PostgresEngine"
      ]
     },
     "execution_count": 36,
     "metadata": {},
     "output_type": "execute_result"
    }
   ],
   "source": [
    "type(engine)"
   ]
  },
  {
   "cell_type": "code",
   "execution_count": 11,
   "metadata": {},
   "outputs": [],
   "source": [
    "await engine.ainit_vectorstore_table(\n",
    "    table_name=TABLE_NAME,\n",
    "    vector_size=768,  # Vector size for VertexAI model(textembedding-gecko@latest)\n",
    ")"
   ]
  },
  {
   "cell_type": "code",
   "execution_count": 12,
   "metadata": {},
   "outputs": [],
   "source": [
    "embeddings = VertexAIEmbeddings(model_name=\"text-embedding-004\", project = PROJECT_ID)"
   ]
  },
  {
   "cell_type": "code",
   "execution_count": 13,
   "metadata": {},
   "outputs": [],
   "source": [
    "store = await PostgresVectorStore.create(  # Use .create() to initialize an async vector store\n",
    "    engine = engine,\n",
    "    table_name = TABLE_NAME,\n",
    "    embedding_service = embeddings,\n",
    ")"
   ]
  },
  {
   "cell_type": "code",
   "execution_count": 22,
   "metadata": {},
   "outputs": [],
   "source": [
    "partitioned_elements = partition_md(filename=\"..\\\\synthetic_data_generator\\\\doc_latest.md\")\n",
    "elements_dict = [el.to_dict() for el in partitioned_elements if el.category != \"UncategorizedText\"]"
   ]
  },
  {
   "cell_type": "code",
   "execution_count": 31,
   "metadata": {},
   "outputs": [],
   "source": [
    "elements = dict_to_elements(elements_dict)\n",
    "\n",
    "chunks = chunk_by_title(\n",
    "    elements,\n",
    "    combine_text_under_n_chars=800,\n",
    "    max_characters=1500,\n",
    "    # overlap=50\n",
    ")"
   ]
  },
  {
   "cell_type": "code",
   "execution_count": 34,
   "metadata": {},
   "outputs": [],
   "source": [
    "documents = []\n",
    "ids = []\n",
    "for element in chunks:\n",
    "    metadatas = element.metadata.to_dict()\n",
    "    del metadatas[\"languages\"]\n",
    "    metadatas[\"source\"] = metadatas[\"filename\"]\n",
    "    documents.append(element.text)\n",
    "    ids.append(str(uuid.uuid4()))\n"
   ]
  },
  {
   "cell_type": "code",
   "execution_count": 35,
   "metadata": {},
   "outputs": [
    {
     "data": {
      "text/plain": [
       "['3823d4d0-aac0-4b46-8695-2a0eeb5bff40',\n",
       " 'fa397007-9ff5-4203-b5d7-ac6490f158a7',\n",
       " '41c5a950-7532-417b-a62d-61637b41c15c',\n",
       " 'c4d9ebde-8cfe-4a2b-9b68-ad9fc3e64da6',\n",
       " 'b1e06fff-5686-4a35-a9b9-56fd031f9d99',\n",
       " '161db09c-2df0-47ad-be91-900df50c64d8',\n",
       " '96819d35-5e32-4f87-929f-aededa695469',\n",
       " '649c146d-5c41-4f0b-bbf7-c24efc171a57',\n",
       " 'ebbe122e-89b6-4205-9ac7-8f220f23930c',\n",
       " '36459c22-d6c8-4187-ab59-5e5b7077ea0c',\n",
       " '5ff69022-f3cb-4594-af87-001ed09c8ccc',\n",
       " 'c015d5f1-326f-4c01-b31e-aa1c60d97b28',\n",
       " '0812134b-38ee-4b1e-bac9-5a5a5ab61c6e',\n",
       " 'c72009a0-3791-43d2-b708-78fa42d249a7',\n",
       " '7c180505-3e01-4641-b854-b608925dbbb2',\n",
       " '80f6432a-c373-411d-8808-bca193c55cce']"
      ]
     },
     "execution_count": 35,
     "metadata": {},
     "output_type": "execute_result"
    }
   ],
   "source": [
    "await store.aadd_texts(documents, metadatas=metadatas, ids=ids)\n"
   ]
  },
  {
   "cell_type": "markdown",
   "metadata": {},
   "source": [
    "## II.Connect to remote DB\n"
   ]
  },
  {
   "cell_type": "code",
   "execution_count": 12,
   "metadata": {},
   "outputs": [],
   "source": [
    "from langchain_google_cloud_sql_pg import PostgresVectorStore, PostgresEngine\n",
    "from langchain_google_vertexai import VertexAIEmbeddings\n",
    "from asyncpg.exceptions import UndefinedObjectError\n",
    "from sqlalchemy.exc import ProgrammingError"
   ]
  },
  {
   "cell_type": "code",
   "execution_count": 6,
   "metadata": {},
   "outputs": [],
   "source": [
    "PROJECT_ID =  \"x-project-00\"\n",
    "REGION =  \"europe-west1\"\n",
    "INSTANCE =  \"vector-db\"\n",
    "DATABASE =  \"X3000_TurboFixer\"\n",
    "USER =  \"postgres\"\n",
    "TABLE_NAME =  \"vector_table2\"\n",
    "PASSWORD = \"admin\"\n",
    "embeddings = VertexAIEmbeddings( model_name=\"text-embedding-004\", project=PROJECT_ID)"
   ]
  },
  {
   "cell_type": "markdown",
   "metadata": {},
   "source": [
    "### Create db instance"
   ]
  },
  {
   "cell_type": "code",
   "execution_count": null,
   "metadata": {},
   "outputs": [],
   "source": [
    "def init_vector_table(engine):\n",
    "    try:\n",
    "        engine.init_vectorstore_table(\n",
    "            table_name=TABLE_NAME,\n",
    "            # Vector size for VertexAI model(textembedding-gecko@latest)\n",
    "            vector_size=768,\n",
    "        )\n",
    "    except ProgrammingError as e:\n",
    "        if hasattr(e, \"orig\") and hasattr(e.orig, \"args\") and \"DuplicateTableError\" in e.orig.args[0]:\n",
    "            return\n",
    "        else:\n",
    "            raise e\n",
    "    except UndefinedObjectError as e:\n",
    "        raise UndefinedObjectError from e\n",
    "\n",
    "def instantiate_db(embeddings):\n",
    "    engine = PostgresEngine.from_instance(\n",
    "        project_id=PROJECT_ID, region=REGION, instance=INSTANCE, database=DATABASE, user=USER, password=PASSWORD\n",
    "    )\n",
    "\n",
    "    init_vector_table(engine)\n",
    "\n",
    "    return PostgresVectorStore.create_sync(  # Use .create() to initialize an async vector store\n",
    "        engine=engine,\n",
    "        embedding_service=embeddings,\n",
    "        table_name=TABLE_NAME\n",
    "    )\n",
    "\n",
    "vector_store = instantiate_db(embeddings)"
   ]
  },
  {
   "cell_type": "markdown",
   "metadata": {},
   "source": [
    "### Use the vector instance"
   ]
  },
  {
   "cell_type": "code",
   "execution_count": 40,
   "metadata": {},
   "outputs": [
    {
     "data": {
      "text/plain": [
       "[(Document(metadata={'emphasized_text_contents': ['Always power down and disconnect the machine before attempting any component replacement.', 'Component Name', 'Description', 'Replacement Interval/Conditions', 'Replacement Instructions', 'Safety Precautions', 'Supplier(s) & Contact', 'What to do in this case'], 'emphasized_text_tags': ['b', 'b', 'b', 'b', 'b', 'b', 'b', 'b'], 'filetype': 'text/markdown', 'orig_elements': 'eJy9Vl9v2zYQ/yoHP6zt5qiSJVuW+9Ii7YYATWAsGRagKIITdbKJUqRAUnG8Yt99R8mu3aRrOqzbi2GRx+Pd789J7z6OSFFD2t/IarSAUTHDejonmiLVWVELojgr8pzmOZVFVqWjMYwa8lihR47/OBLoaWXs9qai1q95KeGIWiry25ZCRk93/nmD9kNlNjocV6hXHa7I8e67EenV6D2vtmgPVWCMdVFRUiRFmaf5LMM8judJLLCMUZTZ6M/xkDgEn52dRXCOUnvSqAUB6gp+pVah6DsLd+6LuZJeUTh9v++yyEWK3G8lspgmdZWWQsxwNqVJxnd/Q9+T79D3o+gf951GEzhdc1LCUhEs0Xq3+KZm55N0kqezSUkijyd5klaiLOdpghXxo6AHzVLTrtHJP6i6CbffCBPA9kMnr9QGtw5asyELodmegEo6jtIkPPg1QYNiLTVBSbWxTJH3nNNLveLgLQjTtEZzRrAH3qIen/tXe1wN15b99r9F/FHejxG/4kZqo5TZhMJ9D7uSzjtApfal96ufGnJg6h6A6zSOY7jqbGl+lndkxyC1UF3VZ1qTZOjICSsZFKPd+BgICNK2t6h4OUArtfO2E31gBP8d/EdSukBr0ctbugpQfEFSeT2dpGWcMJBxMZ0lSZ1koigpFVjNZ/OHknrgn/T/ZvP6enl5/fabDCNomrFlRB1PRZGmeYmIWTbDuUizeVnU/8wwp5/gvsCmR+b1gfrweDS84GzH/fNToyvZc/4w5KCHsHeJNaMIS0sCu8Nq17ZKkn3qnsEPwNk8in42/r5GFolh7bCyWC3SgUBHj7mPd7/y8z28+aimjtn8HNRF6N65jrV+SdoZC0cQL+DcaOmNdeC2jp0A7S44gisrVyvinTfJ/HoJZC2fFaYi2KxJQ42d8tsIHmFosQ8A2TRUSda62kLHBbLDBMnb4Lz7N9zPeiB1AT9CEsHrg6cHtzNpXxotEYdPInhrgseGiF7q4AYonlqqh9Ov2pa45jvI+F3Ck4HHBq4sNs9CijSCU6aj7hTXfm+e7DJtpA2drNFqBjCCC7O7cBfLxXOpMozBkN0SOkdNqbYhfxbBb5pJoc1xysZ0uh9MpUXxgTw87dxuRgK2rTWtDXBCECX0pyvLc8n2JU8Dho25HYowqtpn3Y/NMKfDluZLh61wbMa8y9WaHToMy/slOBIsjqHqPFxxDMXnGIyBs3b9Cu7OHYEREswjWPbsGf3ZaA4lch+y3kLd6T4clQxie+jnBbzRvbgHHbBjD/xQtZ/y/G1QKa4k2nuA40LTMgzyF4C3RvKLghFtQ7kBJZ4Q2/Cf7gT3wlGBNsHK/OLwWMAvypSorkis4dKofW0/JSfT6fQkmaQn2XSWj8HxaWP9y1Uf7jnc7aMjfve8gHNeWlqz+4bZJyjm+cmMB+8Y2rD+suGoIIDwEM7B30yuBewMo42Xtdz2MIdbtRSSOcbSdAN3kl1Pg1vEmsSHQYje8L+g1/D0ZPDOk6+8Dd//BcGjx1A=', 'source': 'doc_latest.md'}, page_content=\"III. Maintenance and Replacement\\n\\n3.2 Changeable Parts:\\n\\nThe following table lists all replaceable components of the X3000 TurboFixer, including their descriptions, replacement intervals, and instructions. Always power down and disconnect the machine before attempting any component replacement.\\n\\nXXPSXL\\n\\nComponent Name: Pressure Sensor Description: Monitors system pressure. Triggers E18XP error code when faulty. Replacement Interval/Conditions: Replace immediately upon receiving E18XP error code. Replacement Instructions: * 1. Disconnect power to the X3000 TurboFixer. * 2. Locate the XXPSXL sensor (refer to Appendix 4.2 for diagram). * 3. Carefully disconnect the sensor wiring harness. Note the connection points for reassembly. * 4. Unscrew the sensor mounting bracket (using the appropriate size screwdriver). * 5. Remove the old sensor and install the new sensor. * 6. Tighten the mounting bracket securely. * 7. Reconnect the wiring harness, ensuring a secure connection. * 8. Power on the machine and verify functionality. Safety Precautions: Ensure power is disconnected before handling. Sensor is sensitive; avoid dropping or applying excessive force. Supplier(s) & Contact: GlobalTech Solutions: +1-555-123-4567, support@globaltechsolutions.com; MechPro Parts: +1-555-987-6543, parts@mechproparts.com What to do in this case: : * 1. notifiy the technicien about the issue * 2. check the stock for the 'XXPSXL'\"),\n",
       "  0.3110166429758776),\n",
       " (Document(metadata={'emphasized_text_contents': ['E31:', 'E32:', 'E33:', 'E34:', 'E35:', 'E18XP', 'Phone:', 'Email:', 'Website:', 'Important:'], 'emphasized_text_tags': ['b', 'b', 'b', 'b', 'b', 'b', 'b', 'b', 'b', 'b'], 'filetype': 'text/markdown', 'orig_elements': 'eJzNl29v2zYQxr8K4Vcb1mQU/9Ov1rUdEKAbAqTbAhRFcCSPsRZZMiQ5qVvsu+9kx0maBIu6GpkBv7DNk8T7PXfHR+8/T7DCOdb9WZkmUzZJkXOflOBolUgcVQhOei4TauO1g8kLNpljDwl6oPjPkwg9njft6izhop/RX5Iicllhv1rgcMceP/Y/zqG9SM1VPVxeQX2+hHPsaPX9BOvzyQf6dwHt7S6cc9F77r3y3sgClVbCO6MKHxQvvJn8/WJz4yFYHMpDzV6mS6gjJvambZu2mw5P2m7hXdlXOFxzP1tAXYANnjIMMqB0WfjkFfiQZXCIT2dbUATOFzPoyk+YzoY9ncWm7ukZm/zeyGK6TvB+VA/nm4iwXv5WZE8KdxfZsCl2RLtsa6jYq2Y+X9Yl5VY29YYfO2CvZhgvWLkNil8EhWX3gv6qa4zDb/oBdRpiFk09pH54F//bsuuPepw/poDxDlTA4K0OKYOSpK+zGcMgSVRqJwqIfVRATNlrSoqd9E1LN77HfciXdddLCS/LiI8ADxAvlgu2aBuq/GWL47kL4aWJInKrUHINyYNLSYaiUFZ5x3fCXe4jdzllJ03ur+gW7PcF5XcffbddXW5W13Q7Il5jf9W0F3dk2Khwc8FQ/9QfoazKfjVaCs+1ydLbIK1DH2OWwgQhkgGkj9iNFGofpVAkBcZlS7TYyaojPvel2K52m9UO+76sz4fqj4MmgxR921TX7QAVtPPr2PGtoICQg5A6Fw5tcF5AstzoKFNGNebIG8Ff7yN/Pd1ifwVVGdovD4A/sC3zDfp4J+J23mywp7+WXc+gow7BhGk0+cQ1nbLOJcOVLIKiwleajv0ceSFjNLsgX7jT4/1DP+yKHRPAjihSE9QdId+Cb3FRQUTWz/BBzHfH0PZU9gnZlJ2eHp+cvv1+dKGnArLlOpuUBffaS0FDJ1guIxcciqdxi114O7JxihQnfXURoBBeYRYWMERLExDueTtF9qTuIQ59z06Wi0XT9qO8nSFf55xVgSsjBFobrC9osuYotEERH2T7rYk9ifduYkeZrZolWx8zNYSK1G5I+K6pLjfClyQ7Mshkv1huqqq5GgAMKzTwlnRBN2uaNRRqzwU1YmguySIsKoQO13ORmK3jTyXnnL1btqH5pfxIt+s2FFmPMKd7t9S5HZXNYJ+/aN3foB0a/hLfDZt+DLFOykRugnOeI0SefAG6QCGTtbnIO+jf4xkZymeZnV8l32Zb7IfiwHF+oLU+KEQhxjaiRm0DuS2uRER60dAIYLjWGLIyEvwu5t4cymr/uG22ta3An/qbojwk7zQaX3TS5mjAGp8Ko61UmaYJ96i9iXkXB/afGLqy38PC226MXV1dHf43fMkYcv1gi6yNQGNjMpqe5QEgkwGyD/D9K6mj+aAk1P3+sbrdGvsZac7djMX11NyU4M3EnMH14L0dtmVNF803lqdFSKvpV01H7ZSXaCSKHEAJrY112QuF6IJJY7v8WYn9Sr6iYvVyHuiYaPKjx8dotyFNLiAAYMyBO3rdNCk4EKqgr9Y/LLP/P/0TcrxwP/85xFlZ4+gX6yLbTI7G2iRj5lJoUC4EibagF2wcYbKePe3X2MW2XKzr/DppcvhkMUaPFB+sFolEDfQtEgKl6K3KusCFNyaPNPLPmvTLesVwbbgHM92xVHbkuleYRp9CmfuQtEVveFLkNF3hYhZKRiEDFfse5nyydoqD71xPO6jWU431cIH14D/vOstbE/o4kA//ABVQDow=', 'source': 'doc_latest.md'}, page_content='2.3.5 Advanced Errors:\\n\\nE31: Internal Communication Error - Check internal communication bus, connections, and components.\\n\\nE32: Data Storage Error - Check data storage device, connections, and backup procedures.\\n\\nE33: Software Update Error - Check software update process, network connection, and software compatibility.\\n\\nE34: Security System Error - Check security system settings, access controls, and alarm systems.\\n\\nE35: System Calibration Error - Verify system calibration procedures and adjust as needed.\\n\\nE18XP Pressure Sensor Error - replace the Pressure Sensor (Part code : XXPSXL)\\n\\n2.4 Contacting Support\\n\\nIf you are unable to resolve the issue after following the troubleshooting steps above, please contact the X3000 TurboFixer support team for assistance.\\n\\nPhone: +1-800-555-1212\\n\\nEmail: support@turboFixer.com\\n\\nWebsite: www.turboFixer.com\\n\\nImportant: Before contacting support, please have the following information ready:\\n\\nModel number of the X3000 TurboFixer\\n\\nSerial number of the machine\\n\\nDescription of the problem\\n\\nAny error codes displayed\\n\\nSteps you have already taken to troubleshoot the issue'),\n",
       "  0.31736679984987204),\n",
       " (Document(metadata={'emphasized_text_contents': ['E11:', 'E12:', 'E13:', 'E14:', 'E15:', 'E16:', 'E17:', 'E18:', 'E19:', 'E20:'], 'emphasized_text_tags': ['b', 'b', 'b', 'b', 'b', 'b', 'b', 'b', 'b', 'b'], 'filetype': 'text/markdown', 'orig_elements': 'eJzN191r2zAQAPB/Rfg56/T9kddS2GCDQcdeygiS7pSaJrax3XZZ2f8+uU62Ni0UWhf8mNNZvvv5ENHFXYEb3GLVr0oolqRIwUvQSoC1IjLnuFIgIkUqVDLAaLEgxRZ7D773Of+uiL7Hdd3uVoBNf5lDImekcoP9rsFhxx5/9R+3vr2C+rYaHt/4an3t19jl1YsCq3XxM0cb3/6vwlobnaPOSee0YCiV5M5qyVyQlDld/FmMGw/J/ESccHLeYCxTGclpvW3qKu9Fztq2brvl8M5DMd/LfoPD08d9e2TKasDEI/MSGbdGMGkgaJUgcP9y3yxn4La59F35G2E1VLeKddXnd4ydnjG2vG/1OKv36zEj3C+/Fe/FT/gQbyiKfK37uiVsBCMfyOklxiuy3UdzExXGvqyrbkGa+hZb0l03zWa3IL6CfVq6ru5T/KbsdycPyb+UXf+5x+1z6kADV5F6rZOzllmltHPorLSIwhgziTqfozo/qPNn1fl7qmPKk06DC0yB4ywGbQWqJAyCTsbLSdTFHNXFkpxj1T0z7N0h/Mg9ZtjQ+uHXyP468ORT8pyiRAvIXD5RqIBopHUynzYgJgGXcwSX/8CP57w7hN8D3CmvgWuGEJwCFlXkwHTi1CXuLbWTgKs5gqsl+eE3N/hkwG/20UfcdYNvx87WCZnmXDprEhgf0el8lFPFAseJplvPEVsfsI+H+2YfnR47j7GTRrtog4SkmabGJW1tkjwmzmASbDNHbLMk3663zZPBbsbg9NSRMfCGGsVopCCFiBp19KjymEvBp5lrO0dqu6c+HutmDE5P7YBGr03KteU/3hEk1QrBMGGjdCmkSajdHKndknzC7FetydlIcmR+uV/dg70DvhEI1oR8vYLIbYySSomcWzBaBmPCFPiczhA/F5Vvi/Vm4D3fdZnnyD7uF7txMR5ulq+T//kXQQ/qOA==', 'source': 'doc_latest.md'}, page_content='2.3.2 Specific Component Errors:\\n\\nE11: Motor 1 Error - Check motor 1 connections, power supply, and motor functionality.\\n\\nE12: Motor 2 Error - Check motor 2 connections, power supply, and motor functionality.\\n\\nE13: Sensor 1 Error - Check sensor 1 connections, calibration, and functionality.\\n\\nE14: Sensor 2 Error - Check sensor 2 connections, calibration, and functionality.\\n\\nE15: Valve 1 Error - Check valve 1 connections, operation, and functionality.\\n\\nE16: Valve 2 Error - Check valve 2 connections, operation, and functionality.\\n\\nE17: Pump 1 Error - Check pump 1 connections, operation, and functionality.\\n\\nE18: Pump 2 Error - Check pump 2 connections, operation, and functionality.\\n\\nE19: Heating Element Error - Check heating element connections, operation, and functionality.\\n\\nE20: Cooling System Error - Check cooling system components, operation, and functionality.'),\n",
       "  0.35621603402898516),\n",
       " (Document(metadata={'emphasized_text_contents': ['E21:', 'E22:', 'E23:', 'E24:', 'E25:', 'E26:', 'E27:', 'E28:', 'E29:', 'E30:'], 'emphasized_text_tags': ['b', 'b', 'b', 'b', 'b', 'b', 'b', 'b', 'b', 'b'], 'filetype': 'text/markdown', 'orig_elements': 'eJzNl02P2zYQhv8K4bO7Fb9JX9MUDbKHANmegmAxHA5tYWXJkWinTpD/Xsr2Jlsn6O42QuGbNDOShg9fviLffZ5RQ2tq820dZws2S4nAKKcxaMMV8AqMgQAxxSgkuDCbs9maMkTIUOo/zxAyLbt+fxtpk1clJEtFqhvK+w2Nb8z0V/51Df1d7D624+MNtMstLGko2Xczapez9yW6gf5bF8459L7yXnlvJCellfDOKO6Dqrg3sy/z44vHYnElryT7c6CevWoz9QmQ2Mu+7/phMX7vvpGbOjc0Pnk+ZpWEk0DaxGCFNUYE1FpIW1myXHn5+Jh5qaD1ZgVD/Yni7djZLXalmTYfR/lS8MVhmOdVGZbHinBI/yy4R6fvIbixKfaitNl3DXsDLTVHbOwX9mJFeMfwlNsccuWuJcx11w5z1m2oh/F6zqCNLG3bQwaaOu+vHlK/rof8KtP6R+AtJhRJaTKgCcs8W1VRSDoEopgqMQl4cYngxYL9Vg+bBvZnyOMpOj1sHbzDEIrIoSytpKxxzhjOLaLxyVWTwJaXCFsu2Gvahw76eEb77j48PW7QQoOsjLbORZBWISAGikIbicngJLjVJeJWC3bTbXE1YE/UnhHPDzLTQ+cygiDjtDFBauDaRS6TipW3IQKmC/17KfZ2P5QhsbcZ8nZ41s/LcWGcJysieh0tdzphMVUw3mrOvZ9EZ/p/0dmjs/dPnekFu+4+sjc9DcO2pzOhbe7DA7VDoTn/FulpuW0gH4Kj1oYj/Ibgbniy1IJJyvOgeZltboQyVap8KEvccA3J80m4m0vkbhbsj3q5+k/gm5oS20Gzo59hDwZBp2RVAMdR+xiSEsWeTAl6UtPsG+wlsrdHzd+Urka7/J5+fpD5OgErKs7aLk+wj+DrdhgXQbHYJ2OXNhhbMPOAKnJ0IshicQFjCGCtfcLZ4AnY3SVidyfJP5M7dl1zzn1XmqifDV74YjEKlasgoFDorI2qGFCUEq2bBLy/RPB+wX5vtnVk17T77niSDpnmkPnK/BgsjkP9rqvvLf6Z/qKiTkaj4RUmSMSrANKRq6icC5FPwltWF8i7NHXiPR4LYV23B6H+kHvprBy2C9+ThWNh3Ba5F68/beEOZR+2/7aFe/83i4tNxg==', 'source': 'doc_latest.md'}, page_content='2.3.3 User Interface Errors:\\n\\nE21: Control Panel Error - Check control panel connections, operation, and functionality.\\n\\nE22: Display Error - Check display connections, operation, and functionality.\\n\\nE23: Keyboard Error - Check keyboard connections, operation, and functionality.\\n\\nE24: Touchscreen Error - Check touchscreen connections, operation, and functionality.\\n\\n2.3.4 System Status Errors:\\n\\nE25: Low Pressure Error - Check pressure sensors, pressure regulators, and system leaks.\\n\\nE26: High Pressure Error - Check pressure sensors, pressure relief valves, and system leaks.\\n\\nE27: Low Temperature Error - Check temperature sensors, heating system, and insulation.\\n\\nE28: High Temperature Error - Check temperature sensors, cooling system, and ventilation.\\n\\nE29: Fluid Level Error - Check fluid level sensors, fluid reservoirs, and leaks.\\n\\nE30: Fluid Contamination Error - Check fluid filters, system cleanliness, and fluid quality.'),\n",
       "  0.3862712045860227)]"
      ]
     },
     "execution_count": 40,
     "metadata": {},
     "output_type": "execute_result"
    }
   ],
   "source": [
    "context = vector_store.similarity_search_with_score(\"error message : E18XP\")\n",
    "context"
   ]
  },
  {
   "cell_type": "code",
   "execution_count": 42,
   "metadata": {},
   "outputs": [],
   "source": [
    "context[0][0].page_content= \"III. Maintenance and Replacement\\n\\n3.2 Changeable Parts:\\n\\nThe following table lists all replaceable components of the X3000 TurboFixer, including their descriptions, replacement intervals, and instructions. Always power down and disconnect the machine before attempting any component replacement.\\n\\nXXPSXL\\n\\nComponent Name: Pressure Sensor Description: Monitors system pressure. Triggers E18XP error code when faulty. Replacement Interval/Conditions: Replace immediately upon receiving E18XP error code. Replacement Instructions: * 1. Disconnect power to the X3000 TurboFixer. * 2. Locate the XXPSXL sensor (refer to Appendix 4.2 for diagram). * 3. Carefully disconnect the sensor wiring harness. Note the connection points for reassembly. * 4. Unscrew the sensor mounting bracket (using the appropriate size screwdriver). * 5. Remove the old sensor and install the new sensor. * 6. Tighten the mounting bracket securely. * 7. Reconnect the wiring harness, ensuring a secure connection. * 8. Power on the machine and verify functionality. Safety Precautions: Ensure power is disconnected before handling. Sensor is sensitive; avoid dropping or applying excessive force. Supplier(s) & Contact: GlobalTech Solutions: +1-555-123-4567, support@globaltechsolutions.com; MechPro Parts: +1-555-987-6543, parts@mechproparts.com'\""
   ]
  }
 ],
 "metadata": {
  "kernelspec": {
   "display_name": "venv",
   "language": "python",
   "name": "python3"
  },
  "language_info": {
   "codemirror_mode": {
    "name": "ipython",
    "version": 3
   },
   "file_extension": ".py",
   "mimetype": "text/x-python",
   "name": "python",
   "nbconvert_exporter": "python",
   "pygments_lexer": "ipython3",
   "version": "3.12.3"
  }
 },
 "nbformat": 4,
 "nbformat_minor": 2
}
