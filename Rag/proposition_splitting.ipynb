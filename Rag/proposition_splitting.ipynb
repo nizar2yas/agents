{
 "cells": [
  {
   "cell_type": "markdown",
   "metadata": {},
   "source": [
    "# Proposition splitting \n",
    "I'll test agentic splitting, for my document, here is what I will do : <br>\n",
    "\n",
    "I'll split the document using unstructured as always, then I'll passe each chunk to the llm so that it can create a proposition of it, and add it the the correspond part if need."
   ]
  },
  {
   "cell_type": "markdown",
   "metadata": {},
   "source": [
    "### Create chunks"
   ]
  },
  {
   "cell_type": "code",
   "execution_count": null,
   "metadata": {},
   "outputs": [],
   "source": [
    "from langchain_google_vertexai import ChatVertexAI\n",
    "\n",
    "llm = ChatVertexAI(model=\"gemini-1.5-flash-002\", temperature=0)"
   ]
  },
  {
   "cell_type": "code",
   "execution_count": null,
   "metadata": {},
   "outputs": [],
   "source": [
    "import os \n",
    "\n",
    "notebook_dir = os.path.dirname(os.path.abspath(\"__file__\"))\n",
    "file_path = os.path.join(notebook_dir, \"..\", \"synthetic_data_generator\", \"doc_latest.md\")\n",
    "file_path = os.path.abspath(file_path)\n",
    "file_path"
   ]
  },
  {
   "cell_type": "code",
   "execution_count": null,
   "metadata": {},
   "outputs": [],
   "source": [
    "from unstructured.partition.md import partition_md\n",
    "from unstructured.staging.base import dict_to_elements\n",
    "from unstructured.chunking.title import chunk_by_title\n",
    "\n",
    "elements = partition_md(filename=file_path)\n",
    "elements_dict = [el.to_dict() for el in elements if elements]\n",
    "filtred_elements = [el for el in elements_dict if el['type'] !='UncategorizedText']\n",
    "elements = dict_to_elements(filtred_elements)\n",
    "\n",
    "chunks = chunk_by_title(\n",
    "    elements,\n",
    "    combine_text_under_n_chars=800,\n",
    "    max_characters=1500,\n",
    "    # overlap=50\n",
    ")"
   ]
  },
  {
   "cell_type": "markdown",
   "metadata": {},
   "source": [
    "## preparing proposition code "
   ]
  },
  {
   "cell_type": "markdown",
   "metadata": {},
   "source": []
  }
 ],
 "metadata": {
  "kernelspec": {
   "display_name": "venv",
   "language": "python",
   "name": "python3"
  },
  "language_info": {
   "name": "python",
   "version": "3.12.3"
  }
 },
 "nbformat": 4,
 "nbformat_minor": 2
}
