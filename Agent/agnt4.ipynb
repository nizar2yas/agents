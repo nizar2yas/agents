{
 "cells": [
  {
   "cell_type": "code",
   "execution_count": 1,
   "metadata": {},
   "outputs": [],
   "source": [
    "\n",
    "from langchain_google_vertexai import ChatVertexAI\n",
    "from typing import TypedDict, Annotated\n",
    "from langgraph.graph import START, StateGraph, END\n",
    "from langgraph.graph.message import add_messages\n",
    "from utils import get_retrieval_from_vstore, check_stock, notify_technicien, get_retriever_tool, get_db\n",
    "# from langgraph.checkpoint.memory import MemorySaver\n",
    "from langgraph.prebuilt import ToolNode\n",
    "# from langgraph.prebuilt import tools_condition\n",
    "from langchain_core.messages import SystemMessage, HumanMessage\n",
    "from IPython.display import Image, display"
   ]
  },
  {
   "cell_type": "code",
   "execution_count": 2,
   "metadata": {},
   "outputs": [],
   "source": [
    "plan_prompt = \"Below is the current task we will work on and the relevant information related to it. Please develop a plan of action to address this task. \"\n",
    "\n",
    "system_promp = \"\"\"\n",
    "You are an AI assistant at machines' maintenance and reparation.\n",
    "you will receive notification code send from the machines, investigate the code and do everything needed to handle it.\n",
    "give detailed instruction of what need to be done.\n",
    "execute the task in sequence not in parallel.\n",
    "\"\"\""
   ]
  },
  {
   "cell_type": "code",
   "execution_count": 3,
   "metadata": {},
   "outputs": [],
   "source": [
    "retriever = get_retrieval_from_vstore()\n",
    "agent_tools = [check_stock, notify_technicien, get_retriever_tool(retriever)]\n",
    "model = ChatVertexAI(model=\"gemini-1.5-flash-002\", temperature=0)\n",
    "llm_with_tools = model.bind_tools(agent_tools)\n",
    "memory = get_db()"
   ]
  },
  {
   "cell_type": "code",
   "execution_count": 4,
   "metadata": {},
   "outputs": [],
   "source": [
    "class State(TypedDict):\n",
    "    messages: Annotated[list, add_messages]"
   ]
  },
  {
   "cell_type": "code",
   "execution_count": 5,
   "metadata": {},
   "outputs": [],
   "source": [
    "def generate(state: State):\n",
    "    response = llm_with_tools.invoke(state[\"messages\"])\n",
    "    return {\"messges\":response} \n",
    "\n",
    "def route_tools(state: State):\n",
    "    if isinstance(state, list):\n",
    "        ai_message = state[-1]\n",
    "    elif messages := state.get(\"messages\", []):\n",
    "        ai_message = messages[-1]\n",
    "    else:\n",
    "        raise ValueError(f\"No messages found in input state to tool_edge: {state}\")\n",
    "    if hasattr(ai_message, \"tool_calls\") and len(ai_message.tool_calls) > 0:\n",
    "        return \"tools\"\n",
    "    return END"
   ]
  },
  {
   "cell_type": "code",
   "execution_count": 6,
   "metadata": {},
   "outputs": [],
   "source": [
    "def build_agent():\n",
    "    # memory = MemorySaver()\n",
    "    builder = StateGraph(State)\n",
    "\n",
    "    tool_node = ToolNode(agent_tools)\n",
    "\n",
    "    builder.add_node(\"generate\", generate)\n",
    "    builder.add_node(\"tools\", tool_node)\n",
    "\n",
    "    builder.add_edge(START, \"generate\")\n",
    "    builder.add_edge(\"tools\", \"generate\")\n",
    "\n",
    "    builder.add_conditional_edges(\n",
    "    \"generate\",\n",
    "    route_tools,\n",
    "    {\"tools\":\"tools\",END:END}\n",
    "    )\n",
    "\n",
    "    return builder.compile(checkpointer=memory)\n",
    "\n",
    "graph = build_agent()\n",
    "thread = {\"configurable\":{\"thread_id\":\"1\"}}"
   ]
  },
  {
   "cell_type": "code",
   "execution_count": 7,
   "metadata": {},
   "outputs": [
    {
     "data": {
      "image/png": "[encoded data removed]",
      "text/plain": [
       "<IPython.core.display.Image object>"
      ]
     },
     "metadata": {},
     "output_type": "display_data"
    }
   ],
   "source": [
    "try:\n",
    "    display(Image(graph.get_graph(xray=True).draw_mermaid_png()))\n",
    "except Exception:\n",
    "    # This requires some extra dependencies and is optional\n",
    "    pass"
   ]
  },
  {
   "cell_type": "code",
   "execution_count": 8,
   "metadata": {},
   "outputs": [
    {
     "name": "stdout",
     "output_type": "stream",
     "text": [
      "================================\u001b[1m Human Message \u001b[0m=================================\n",
      "\n",
      "error message : E18XP\n"
     ]
    }
   ],
   "source": [
    "messages = [\n",
    "    SystemMessage(content=system_promp),\n",
    "    HumanMessage(content=\"error message : E18XP\")\n",
    "]\n",
    "thread = {\"configurable\":{\"thread_id\":\"1\"}}\n",
    "\n",
    "output = graph.invoke({\"messages\":messages}, thread)\n",
    "for m in output['messages'][-1:]:\n",
    "    m.pretty_print()"
   ]
  },
  {
   "cell_type": "code",
   "execution_count": 10,
   "metadata": {},
   "outputs": [
    {
     "name": "stdout",
     "output_type": "stream",
     "text": [
      "================================\u001b[1m Human Message \u001b[0m=================================\n",
      "\n",
      "error message : E18XP\n"
     ]
    }
   ],
   "source": [
    "output = graph.invoke(None, thread)\n",
    "for m in output['messages'][-1:]:\n",
    "    m.pretty_print()"
   ]
  },
  {
   "cell_type": "code",
   "execution_count": null,
   "metadata": {},
   "outputs": [],
   "source": []
  }
 ],
 "metadata": {
  "kernelspec": {
   "display_name": "venv",
   "language": "python",
   "name": "python3"
  },
  "language_info": {
   "codemirror_mode": {
    "name": "ipython",
    "version": 3
   },
   "file_extension": ".py",
   "mimetype": "text/x-python",
   "name": "python",
   "nbconvert_exporter": "python",
   "pygments_lexer": "ipython3",
   "version": "3.12.8"
  }
 },
 "nbformat": 4,
 "nbformat_minor": 2
}
