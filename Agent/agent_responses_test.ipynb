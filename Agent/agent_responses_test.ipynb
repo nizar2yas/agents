{
 "cells": [
  {
   "cell_type": "markdown",
   "metadata": {},
   "source": [
    "# Agent responses tests\n",
    "In this notebook i'm testing different parameters to see how to agent will respond \n",
    "\n",
    "## ToDo/continue :\n",
    "**restructure the notebook** to be able to run multiple tests"
   ]
  },
  {
   "cell_type": "markdown",
   "metadata": {},
   "source": [
    "## Generic"
   ]
  },
  {
   "cell_type": "markdown",
   "metadata": {},
   "source": [
    "#### 1.Instantiate vdb "
   ]
  },
  {
   "cell_type": "code",
   "execution_count": null,
   "metadata": {},
   "outputs": [],
   "source": [
    "PROJECT_ID =  \"x-project-00\"\n",
    "REGION =  \"europe-west1\"\n",
    "INSTANCE =  \"vector-db\"\n",
    "DATABASE =  \"X3000_TurboFixer\"\n",
    "USER =  \"postgres\"\n",
    "TABLE_NAME =  \"vector_table2\"\n",
    "PASSWORD = \"admin\""
   ]
  },
  {
   "cell_type": "code",
   "execution_count": null,
   "metadata": {},
   "outputs": [],
   "source": [
    "from langchain_google_vertexai import VertexAIEmbeddings\n",
    "from utils import get_remote_vdb_instance\n",
    "embeddings = VertexAIEmbeddings( model_name=\"text-embedding-004\", project=PROJECT_ID)\n",
    "v_store= get_remote_vdb_instance(PROJECT_ID,REGION,INSTANCE,DATABASE,USER,PASSWORD,TABLE_NAME,embeddings)"
   ]
  },
  {
   "cell_type": "code",
   "execution_count": 4,
   "metadata": {},
   "outputs": [
    {
     "data": {
      "text/plain": [
       "[Document(metadata={'emphasized_text_contents': ['Always power down and disconnect the machine before attempting any component replacement.', 'Component Name', 'Description', 'Replacement Interval/Conditions', 'Replacement Instructions', 'Safety Precautions', 'Supplier(s) & Contact', 'What to do in this case'], 'emphasized_text_tags': ['b', 'b', 'b', 'b', 'b', 'b', 'b', 'b'], 'filetype': 'text/markdown', 'orig_elements': 'eJy9Vl9v2zYQ/yoHP6zt5qiSJVuW+9Ii7YYATWAsGRagKIITdbKJUqRAUnG8Yt99R8mu3aRrOqzbi2GRx+Pd789J7z6OSFFD2t/IarSAUTHDejonmiLVWVELojgr8pzmOZVFVqWjMYwa8lihR47/OBLoaWXs9qai1q95KeGIWiry25ZCRk93/nmD9kNlNjocV6hXHa7I8e67EenV6D2vtmgPVWCMdVFRUiRFmaf5LMM8judJLLCMUZTZ6M/xkDgEn52dRXCOUnvSqAUB6gp+pVah6DsLd+6LuZJeUTh9v++yyEWK3G8lspgmdZWWQsxwNqVJxnd/Q9+T79D3o+gf951GEzhdc1LCUhEs0Xq3+KZm55N0kqezSUkijyd5klaiLOdpghXxo6AHzVLTrtHJP6i6CbffCBPA9kMnr9QGtw5asyELodmegEo6jtIkPPg1QYNiLTVBSbWxTJH3nNNLveLgLQjTtEZzRrAH3qIen/tXe1wN15b99r9F/FHejxG/4kZqo5TZhMJ9D7uSzjtApfal96ufGnJg6h6A6zSOY7jqbGl+lndkxyC1UF3VZ1qTZOjICSsZFKPd+BgICNK2t6h4OUArtfO2E31gBP8d/EdSukBr0ctbugpQfEFSeT2dpGWcMJBxMZ0lSZ1koigpFVjNZ/OHknrgn/T/ZvP6enl5/fabDCNomrFlRB1PRZGmeYmIWTbDuUizeVnU/8wwp5/gvsCmR+b1gfrweDS84GzH/fNToyvZc/4w5KCHsHeJNaMIS0sCu8Nq17ZKkn3qnsEPwNk8in42/r5GFolh7bCyWC3SgUBHj7mPd7/y8z28+aimjtn8HNRF6N65jrV+SdoZC0cQL+DcaOmNdeC2jp0A7S44gisrVyvinTfJ/HoJZC2fFaYi2KxJQ42d8tsIHmFosQ8A2TRUSda62kLHBbLDBMnb4Lz7N9zPeiB1AT9CEsHrg6cHtzNpXxotEYdPInhrgseGiF7q4AYonlqqh9Ov2pa45jvI+F3Ck4HHBq4sNs9CijSCU6aj7hTXfm+e7DJtpA2drNFqBjCCC7O7cBfLxXOpMozBkN0SOkdNqbYhfxbBb5pJoc1xysZ0uh9MpUXxgTw87dxuRgK2rTWtDXBCECX0pyvLc8n2JU8Dho25HYowqtpn3Y/NMKfDluZLh61wbMa8y9WaHToMy/slOBIsjqHqPFxxDMXnGIyBs3b9Cu7OHYEREswjWPbsGf3ZaA4lch+y3kLd6T4clQxie+jnBbzRvbgHHbBjD/xQtZ/y/G1QKa4k2nuA40LTMgzyF4C3RvKLghFtQ7kBJZ4Q2/Cf7gT3wlGBNsHK/OLwWMAvypSorkis4dKofW0/JSfT6fQkmaQn2XSWj8HxaWP9y1Uf7jnc7aMjfve8gHNeWlqz+4bZJyjm+cmMB+8Y2rD+suGoIIDwEM7B30yuBewMo42Xtdz2MIdbtRSSOcbSdAN3kl1Pg1vEmsSHQYje8L+g1/D0ZPDOk6+8Dd//BcGjx1A=', 'source': 'doc_latest.md'}, page_content=\"III. Maintenance and Replacement\\n\\n3.2 Changeable Parts:\\n\\nThe following table lists all replaceable components of the X3000 TurboFixer, including their descriptions, replacement intervals, and instructions. Always power down and disconnect the machine before attempting any component replacement.\\n\\nXXPSXL\\n\\nComponent Name: Pressure Sensor Description: Monitors system pressure. Triggers E18XP error code when faulty. Replacement Interval/Conditions: Replace immediately upon receiving E18XP error code. Replacement Instructions: * 1. Disconnect power to the X3000 TurboFixer. * 2. Locate the XXPSXL sensor (refer to Appendix 4.2 for diagram). * 3. Carefully disconnect the sensor wiring harness. Note the connection points for reassembly. * 4. Unscrew the sensor mounting bracket (using the appropriate size screwdriver). * 5. Remove the old sensor and install the new sensor. * 6. Tighten the mounting bracket securely. * 7. Reconnect the wiring harness, ensuring a secure connection. * 8. Power on the machine and verify functionality. Safety Precautions: Ensure power is disconnected before handling. Sensor is sensitive; avoid dropping or applying excessive force. Supplier(s) & Contact: GlobalTech Solutions: +1-555-123-4567, support@globaltechsolutions.com; MechPro Parts: +1-555-987-6543, parts@mechproparts.com What to do in this case: : * 1. notifiy the technicien about the issue * 2. check the stock for the 'XXPSXL'\"),\n",
       " Document(metadata={'emphasized_text_contents': ['E31:', 'E32:', 'E33:', 'E34:', 'E35:', 'E18XP', 'Phone:', 'Email:', 'Website:', 'Important:'], 'emphasized_text_tags': ['b', 'b', 'b', 'b', 'b', 'b', 'b', 'b', 'b', 'b'], 'filetype': 'text/markdown', 'orig_elements': 'eJzNl29v2zYQxr8K4Vcb1mQU/9Ov1rUdEKAbAqTbAhRFcCSPsRZZMiQ5qVvsu+9kx0maBIu6GpkBv7DNk8T7PXfHR+8/T7DCOdb9WZkmUzZJkXOflOBolUgcVQhOei4TauO1g8kLNpljDwl6oPjPkwg9njft6izhop/RX5Iicllhv1rgcMceP/Y/zqG9SM1VPVxeQX2+hHPsaPX9BOvzyQf6dwHt7S6cc9F77r3y3sgClVbCO6MKHxQvvJn8/WJz4yFYHMpDzV6mS6gjJvambZu2mw5P2m7hXdlXOFxzP1tAXYANnjIMMqB0WfjkFfiQZXCIT2dbUATOFzPoyk+YzoY9ncWm7ukZm/zeyGK6TvB+VA/nm4iwXv5WZE8KdxfZsCl2RLtsa6jYq2Y+X9Yl5VY29YYfO2CvZhgvWLkNil8EhWX3gv6qa4zDb/oBdRpiFk09pH54F//bsuuPepw/poDxDlTA4K0OKYOSpK+zGcMgSVRqJwqIfVRATNlrSoqd9E1LN77HfciXdddLCS/LiI8ADxAvlgu2aBuq/GWL47kL4aWJInKrUHINyYNLSYaiUFZ5x3fCXe4jdzllJ03ur+gW7PcF5XcffbddXW5W13Q7Il5jf9W0F3dk2Khwc8FQ/9QfoazKfjVaCs+1ydLbIK1DH2OWwgQhkgGkj9iNFGofpVAkBcZlS7TYyaojPvel2K52m9UO+76sz4fqj4MmgxR921TX7QAVtPPr2PGtoICQg5A6Fw5tcF5AstzoKFNGNebIG8Ff7yN/Pd1ifwVVGdovD4A/sC3zDfp4J+J23mywp7+WXc+gow7BhGk0+cQ1nbLOJcOVLIKiwleajv0ceSFjNLsgX7jT4/1DP+yKHRPAjihSE9QdId+Cb3FRQUTWz/BBzHfH0PZU9gnZlJ2eHp+cvv1+dKGnArLlOpuUBffaS0FDJ1guIxcciqdxi114O7JxihQnfXURoBBeYRYWMERLExDueTtF9qTuIQ59z06Wi0XT9qO8nSFf55xVgSsjBFobrC9osuYotEERH2T7rYk9ifduYkeZrZolWx8zNYSK1G5I+K6pLjfClyQ7Mshkv1huqqq5GgAMKzTwlnRBN2uaNRRqzwU1YmguySIsKoQO13ORmK3jTyXnnL1btqH5pfxIt+s2FFmPMKd7t9S5HZXNYJ+/aN3foB0a/hLfDZt+DLFOykRugnOeI0SefAG6QCGTtbnIO+jf4xkZymeZnV8l32Zb7IfiwHF+oLU+KEQhxjaiRm0DuS2uRER60dAIYLjWGLIyEvwu5t4cymr/uG22ta3An/qbojwk7zQaX3TS5mjAGp8Ko61UmaYJ96i9iXkXB/afGLqy38PC226MXV1dHf43fMkYcv1gi6yNQGNjMpqe5QEgkwGyD/D9K6mj+aAk1P3+sbrdGvsZac7djMX11NyU4M3EnMH14L0dtmVNF803lqdFSKvpV01H7ZSXaCSKHEAJrY112QuF6IJJY7v8WYn9Sr6iYvVyHuiYaPKjx8dotyFNLiAAYMyBO3rdNCk4EKqgr9Y/LLP/P/0TcrxwP/85xFlZ4+gX6yLbTI7G2iRj5lJoUC4EibagF2wcYbKePe3X2MW2XKzr/DppcvhkMUaPFB+sFolEDfQtEgKl6K3KusCFNyaPNPLPmvTLesVwbbgHM92xVHbkuleYRp9CmfuQtEVveFLkNF3hYhZKRiEDFfse5nyydoqD71xPO6jWU431cIH14D/vOstbE/o4kA//ABVQDow=', 'source': 'doc_latest.md'}, page_content='2.3.5 Advanced Errors:\\n\\nE31: Internal Communication Error - Check internal communication bus, connections, and components.\\n\\nE32: Data Storage Error - Check data storage device, connections, and backup procedures.\\n\\nE33: Software Update Error - Check software update process, network connection, and software compatibility.\\n\\nE34: Security System Error - Check security system settings, access controls, and alarm systems.\\n\\nE35: System Calibration Error - Verify system calibration procedures and adjust as needed.\\n\\nE18XP Pressure Sensor Error - replace the Pressure Sensor (Part code : XXPSXL)\\n\\n2.4 Contacting Support\\n\\nIf you are unable to resolve the issue after following the troubleshooting steps above, please contact the X3000 TurboFixer support team for assistance.\\n\\nPhone: +1-800-555-1212\\n\\nEmail: support@turboFixer.com\\n\\nWebsite: www.turboFixer.com\\n\\nImportant: Before contacting support, please have the following information ready:\\n\\nModel number of the X3000 TurboFixer\\n\\nSerial number of the machine\\n\\nDescription of the problem\\n\\nAny error codes displayed\\n\\nSteps you have already taken to troubleshoot the issue'),\n",
       " Document(metadata={'emphasized_text_contents': ['E11:', 'E12:', 'E13:', 'E14:', 'E15:', 'E16:', 'E17:', 'E18:', 'E19:', 'E20:'], 'emphasized_text_tags': ['b', 'b', 'b', 'b', 'b', 'b', 'b', 'b', 'b', 'b'], 'filetype': 'text/markdown', 'orig_elements': 'eJzN191r2zAQAPB/Rfg56/T9kddS2GCDQcdeygiS7pSaJrax3XZZ2f8+uU62Ni0UWhf8mNNZvvv5ENHFXYEb3GLVr0oolqRIwUvQSoC1IjLnuFIgIkUqVDLAaLEgxRZ7D773Of+uiL7Hdd3uVoBNf5lDImekcoP9rsFhxx5/9R+3vr2C+rYaHt/4an3t19jl1YsCq3XxM0cb3/6vwlobnaPOSee0YCiV5M5qyVyQlDld/FmMGw/J/ESccHLeYCxTGclpvW3qKu9Fztq2brvl8M5DMd/LfoPD08d9e2TKasDEI/MSGbdGMGkgaJUgcP9y3yxn4La59F35G2E1VLeKddXnd4ydnjG2vG/1OKv36zEj3C+/Fe/FT/gQbyiKfK37uiVsBCMfyOklxiuy3UdzExXGvqyrbkGa+hZb0l03zWa3IL6CfVq6ru5T/KbsdycPyb+UXf+5x+1z6kADV5F6rZOzllmltHPorLSIwhgziTqfozo/qPNn1fl7qmPKk06DC0yB4ywGbQWqJAyCTsbLSdTFHNXFkpxj1T0z7N0h/Mg9ZtjQ+uHXyP468ORT8pyiRAvIXD5RqIBopHUynzYgJgGXcwSX/8CP57w7hN8D3CmvgWuGEJwCFlXkwHTi1CXuLbWTgKs5gqsl+eE3N/hkwG/20UfcdYNvx87WCZnmXDprEhgf0el8lFPFAseJplvPEVsfsI+H+2YfnR47j7GTRrtog4SkmabGJW1tkjwmzmASbDNHbLMk3663zZPBbsbg9NSRMfCGGsVopCCFiBp19KjymEvBp5lrO0dqu6c+HutmDE5P7YBGr03KteU/3hEk1QrBMGGjdCmkSajdHKndknzC7FetydlIcmR+uV/dg70DvhEI1oR8vYLIbYySSomcWzBaBmPCFPiczhA/F5Vvi/Vm4D3fdZnnyD7uF7txMR5ulq+T//kXQQ/qOA==', 'source': 'doc_latest.md'}, page_content='2.3.2 Specific Component Errors:\\n\\nE11: Motor 1 Error - Check motor 1 connections, power supply, and motor functionality.\\n\\nE12: Motor 2 Error - Check motor 2 connections, power supply, and motor functionality.\\n\\nE13: Sensor 1 Error - Check sensor 1 connections, calibration, and functionality.\\n\\nE14: Sensor 2 Error - Check sensor 2 connections, calibration, and functionality.\\n\\nE15: Valve 1 Error - Check valve 1 connections, operation, and functionality.\\n\\nE16: Valve 2 Error - Check valve 2 connections, operation, and functionality.\\n\\nE17: Pump 1 Error - Check pump 1 connections, operation, and functionality.\\n\\nE18: Pump 2 Error - Check pump 2 connections, operation, and functionality.\\n\\nE19: Heating Element Error - Check heating element connections, operation, and functionality.\\n\\nE20: Cooling System Error - Check cooling system components, operation, and functionality.'),\n",
       " Document(metadata={'emphasized_text_contents': ['E21:', 'E22:', 'E23:', 'E24:', 'E25:', 'E26:', 'E27:', 'E28:', 'E29:', 'E30:'], 'emphasized_text_tags': ['b', 'b', 'b', 'b', 'b', 'b', 'b', 'b', 'b', 'b'], 'filetype': 'text/markdown', 'orig_elements': 'eJzNl02P2zYQhv8K4bO7Fb9JX9MUDbKHANmegmAxHA5tYWXJkWinTpD/Xsr2Jlsn6O42QuGbNDOShg9fviLffZ5RQ2tq820dZws2S4nAKKcxaMMV8AqMgQAxxSgkuDCbs9maMkTIUOo/zxAyLbt+fxtpk1clJEtFqhvK+w2Nb8z0V/51Df1d7D624+MNtMstLGko2Xczapez9yW6gf5bF8459L7yXnlvJCellfDOKO6Dqrg3sy/z44vHYnElryT7c6CevWoz9QmQ2Mu+7/phMX7vvpGbOjc0Pnk+ZpWEk0DaxGCFNUYE1FpIW1myXHn5+Jh5qaD1ZgVD/Yni7djZLXalmTYfR/lS8MVhmOdVGZbHinBI/yy4R6fvIbixKfaitNl3DXsDLTVHbOwX9mJFeMfwlNsccuWuJcx11w5z1m2oh/F6zqCNLG3bQwaaOu+vHlK/rof8KtP6R+AtJhRJaTKgCcs8W1VRSDoEopgqMQl4cYngxYL9Vg+bBvZnyOMpOj1sHbzDEIrIoSytpKxxzhjOLaLxyVWTwJaXCFsu2Gvahw76eEb77j48PW7QQoOsjLbORZBWISAGikIbicngJLjVJeJWC3bTbXE1YE/UnhHPDzLTQ+cygiDjtDFBauDaRS6TipW3IQKmC/17KfZ2P5QhsbcZ8nZ41s/LcWGcJysieh0tdzphMVUw3mrOvZ9EZ/p/0dmjs/dPnekFu+4+sjc9DcO2pzOhbe7DA7VDoTn/FulpuW0gH4Kj1oYj/Ibgbniy1IJJyvOgeZltboQyVap8KEvccA3J80m4m0vkbhbsj3q5+k/gm5oS20Gzo59hDwZBp2RVAMdR+xiSEsWeTAl6UtPsG+wlsrdHzd+Urka7/J5+fpD5OgErKs7aLk+wj+DrdhgXQbHYJ2OXNhhbMPOAKnJ0IshicQFjCGCtfcLZ4AnY3SVidyfJP5M7dl1zzn1XmqifDV74YjEKlasgoFDorI2qGFCUEq2bBLy/RPB+wX5vtnVk17T77niSDpnmkPnK/BgsjkP9rqvvLf6Z/qKiTkaj4RUmSMSrANKRq6icC5FPwltWF8i7NHXiPR4LYV23B6H+kHvprBy2C9+ThWNh3Ba5F68/beEOZR+2/7aFe/83i4tNxg==', 'source': 'doc_latest.md'}, page_content='2.3.3 User Interface Errors:\\n\\nE21: Control Panel Error - Check control panel connections, operation, and functionality.\\n\\nE22: Display Error - Check display connections, operation, and functionality.\\n\\nE23: Keyboard Error - Check keyboard connections, operation, and functionality.\\n\\nE24: Touchscreen Error - Check touchscreen connections, operation, and functionality.\\n\\n2.3.4 System Status Errors:\\n\\nE25: Low Pressure Error - Check pressure sensors, pressure regulators, and system leaks.\\n\\nE26: High Pressure Error - Check pressure sensors, pressure relief valves, and system leaks.\\n\\nE27: Low Temperature Error - Check temperature sensors, heating system, and insulation.\\n\\nE28: High Temperature Error - Check temperature sensors, cooling system, and ventilation.\\n\\nE29: Fluid Level Error - Check fluid level sensors, fluid reservoirs, and leaks.\\n\\nE30: Fluid Contamination Error - Check fluid filters, system cleanliness, and fluid quality.')]"
      ]
     },
     "execution_count": 4,
     "metadata": {},
     "output_type": "execute_result"
    }
   ],
   "source": [
    "context = v_store.similarity_search(\"error message : E18XP\")\n",
    "context"
   ]
  },
  {
   "cell_type": "code",
   "execution_count": 14,
   "metadata": {},
   "outputs": [
    {
     "data": {
      "text/plain": [
       "Document(metadata={'emphasized_text_contents': ['Always power down and disconnect the machine before attempting any component replacement.', 'Component Name', 'Description', 'Replacement Interval/Conditions', 'Replacement Instructions', 'Safety Precautions', 'Supplier(s) & Contact', 'What to do in this case'], 'emphasized_text_tags': ['b', 'b', 'b', 'b', 'b', 'b', 'b', 'b'], 'filetype': 'text/markdown', 'orig_elements': 'eJy9Vl9v2zYQ/yoHP6zt5qiSJVuW+9Ii7YYATWAsGRagKIITdbKJUqRAUnG8Yt99R8mu3aRrOqzbi2GRx+Pd789J7z6OSFFD2t/IarSAUTHDejonmiLVWVELojgr8pzmOZVFVqWjMYwa8lihR47/OBLoaWXs9qai1q95KeGIWiry25ZCRk93/nmD9kNlNjocV6hXHa7I8e67EenV6D2vtmgPVWCMdVFRUiRFmaf5LMM8judJLLCMUZTZ6M/xkDgEn52dRXCOUnvSqAUB6gp+pVah6DsLd+6LuZJeUTh9v++yyEWK3G8lspgmdZWWQsxwNqVJxnd/Q9+T79D3o+gf951GEzhdc1LCUhEs0Xq3+KZm55N0kqezSUkijyd5klaiLOdpghXxo6AHzVLTrtHJP6i6CbffCBPA9kMnr9QGtw5asyELodmegEo6jtIkPPg1QYNiLTVBSbWxTJH3nNNLveLgLQjTtEZzRrAH3qIen/tXe1wN15b99r9F/FHejxG/4kZqo5TZhMJ9D7uSzjtApfal96ufGnJg6h6A6zSOY7jqbGl+lndkxyC1UF3VZ1qTZOjICSsZFKPd+BgICNK2t6h4OUArtfO2E31gBP8d/EdSukBr0ctbugpQfEFSeT2dpGWcMJBxMZ0lSZ1koigpFVjNZ/OHknrgn/T/ZvP6enl5/fabDCNomrFlRB1PRZGmeYmIWTbDuUizeVnU/8wwp5/gvsCmR+b1gfrweDS84GzH/fNToyvZc/4w5KCHsHeJNaMIS0sCu8Nq17ZKkn3qnsEPwNk8in42/r5GFolh7bCyWC3SgUBHj7mPd7/y8z28+aimjtn8HNRF6N65jrV+SdoZC0cQL+DcaOmNdeC2jp0A7S44gisrVyvinTfJ/HoJZC2fFaYi2KxJQ42d8tsIHmFosQ8A2TRUSda62kLHBbLDBMnb4Lz7N9zPeiB1AT9CEsHrg6cHtzNpXxotEYdPInhrgseGiF7q4AYonlqqh9Ov2pa45jvI+F3Ck4HHBq4sNs9CijSCU6aj7hTXfm+e7DJtpA2drNFqBjCCC7O7cBfLxXOpMozBkN0SOkdNqbYhfxbBb5pJoc1xysZ0uh9MpUXxgTw87dxuRgK2rTWtDXBCECX0pyvLc8n2JU8Dho25HYowqtpn3Y/NMKfDluZLh61wbMa8y9WaHToMy/slOBIsjqHqPFxxDMXnGIyBs3b9Cu7OHYEREswjWPbsGf3ZaA4lch+y3kLd6T4clQxie+jnBbzRvbgHHbBjD/xQtZ/y/G1QKa4k2nuA40LTMgzyF4C3RvKLghFtQ7kBJZ4Q2/Cf7gT3wlGBNsHK/OLwWMAvypSorkis4dKofW0/JSfT6fQkmaQn2XSWj8HxaWP9y1Uf7jnc7aMjfve8gHNeWlqz+4bZJyjm+cmMB+8Y2rD+suGoIIDwEM7B30yuBewMo42Xtdz2MIdbtRSSOcbSdAN3kl1Pg1vEmsSHQYje8L+g1/D0ZPDOk6+8Dd//BcGjx1A=', 'source': 'doc_latest.md'}, page_content=\"III. Maintenance and Replacement\\n\\n3.2 Changeable Parts:\\n\\nThe following table lists all replaceable components of the X3000 TurboFixer, including their descriptions, replacement intervals, and instructions. Always power down and disconnect the machine before attempting any component replacement.\\n\\nXXPSXL\\n\\nComponent Name: Pressure Sensor Description: Monitors system pressure. Triggers E18XP error code when faulty. Replacement Interval/Conditions: Replace immediately upon receiving E18XP error code. Replacement Instructions: * 1. Disconnect power to the X3000 TurboFixer. * 2. Locate the XXPSXL sensor (refer to Appendix 4.2 for diagram). * 3. Carefully disconnect the sensor wiring harness. Note the connection points for reassembly. * 4. Unscrew the sensor mounting bracket (using the appropriate size screwdriver). * 5. Remove the old sensor and install the new sensor. * 6. Tighten the mounting bracket securely. * 7. Reconnect the wiring harness, ensuring a secure connection. * 8. Power on the machine and verify functionality. Safety Precautions: Ensure power is disconnected before handling. Sensor is sensitive; avoid dropping or applying excessive force. Supplier(s) & Contact: GlobalTech Solutions: +1-555-123-4567, support@globaltechsolutions.com; MechPro Parts: +1-555-987-6543, parts@mechproparts.com'\")"
      ]
     },
     "execution_count": 14,
     "metadata": {},
     "output_type": "execute_result"
    }
   ],
   "source": [
    "context[0]"
   ]
  },
  {
   "cell_type": "code",
   "execution_count": 10,
   "metadata": {},
   "outputs": [],
   "source": [
    "context[0].page_content= \"III. Maintenance and Replacement\\n\\n3.2 Changeable Parts:\\n\\nThe following table lists all replaceable components of the X3000 TurboFixer, including their descriptions, replacement intervals, and instructions. Always power down and disconnect the machine before attempting any component replacement.\\n\\nXXPSXL\\n\\nComponent Name: Pressure Sensor Description: Monitors system pressure. Triggers E18XP error code when faulty. Replacement Interval/Conditions: Replace immediately upon receiving E18XP error code. Replacement Instructions: * 1. Disconnect power to the X3000 TurboFixer. * 2. Locate the XXPSXL sensor (refer to Appendix 4.2 for diagram). * 3. Carefully disconnect the sensor wiring harness. Note the connection points for reassembly. * 4. Unscrew the sensor mounting bracket (using the appropriate size screwdriver). * 5. Remove the old sensor and install the new sensor. * 6. Tighten the mounting bracket securely. * 7. Reconnect the wiring harness, ensuring a secure connection. * 8. Power on the machine and verify functionality. Safety Precautions: Ensure power is disconnected before handling. Sensor is sensitive; avoid dropping or applying excessive force. Supplier(s) & Contact: GlobalTech Solutions: +1-555-123-4567, support@globaltechsolutions.com; MechPro Parts: +1-555-987-6543, parts@mechproparts.com'\""
   ]
  },
  {
   "cell_type": "markdown",
   "metadata": {},
   "source": [
    "#### Save context\n",
    "So that we dont need to make similarity search each time"
   ]
  },
  {
   "cell_type": "code",
   "execution_count": null,
   "metadata": {},
   "outputs": [],
   "source": [
    "import json\n",
    "def document_to_dict(doc):\n",
    "    return {\n",
    "        \"page_content\": doc.page_content,\n",
    "        \"metadata\": doc.metadata\n",
    "    }\n",
    "\n",
    "document_dicts = [document_to_dict(doc) for doc in context]\n",
    "\n",
    "with open('context.json', 'w') as f:\n",
    "    json.dump(document_dicts, f)"
   ]
  },
  {
   "cell_type": "markdown",
   "metadata": {},
   "source": [
    "#### Import existing context\n",
    "So that we dont need to make similarity search each time"
   ]
  },
  {
   "cell_type": "code",
   "execution_count": 1,
   "metadata": {},
   "outputs": [
    {
     "data": {
      "text/plain": [
       "[Document(metadata={'emphasized_text_contents': ['Always power down and disconnect the machine before attempting any component replacement.', 'Component Name', 'Description', 'Replacement Interval/Conditions', 'Replacement Instructions', 'Safety Precautions', 'Supplier(s) & Contact', 'What to do in this case'], 'emphasized_text_tags': ['b', 'b', 'b', 'b', 'b', 'b', 'b', 'b'], 'filetype': 'text/markdown', 'orig_elements': 'eJy9Vl9v2zYQ/yoHP6zt5qiSJVuW+9Ii7YYATWAsGRagKIITdbKJUqRAUnG8Yt99R8mu3aRrOqzbi2GRx+Pd789J7z6OSFFD2t/IarSAUTHDejonmiLVWVELojgr8pzmOZVFVqWjMYwa8lihR47/OBLoaWXs9qai1q95KeGIWiry25ZCRk93/nmD9kNlNjocV6hXHa7I8e67EenV6D2vtmgPVWCMdVFRUiRFmaf5LMM8judJLLCMUZTZ6M/xkDgEn52dRXCOUnvSqAUB6gp+pVah6DsLd+6LuZJeUTh9v++yyEWK3G8lspgmdZWWQsxwNqVJxnd/Q9+T79D3o+gf951GEzhdc1LCUhEs0Xq3+KZm55N0kqezSUkijyd5klaiLOdpghXxo6AHzVLTrtHJP6i6CbffCBPA9kMnr9QGtw5asyELodmegEo6jtIkPPg1QYNiLTVBSbWxTJH3nNNLveLgLQjTtEZzRrAH3qIen/tXe1wN15b99r9F/FHejxG/4kZqo5TZhMJ9D7uSzjtApfal96ufGnJg6h6A6zSOY7jqbGl+lndkxyC1UF3VZ1qTZOjICSsZFKPd+BgICNK2t6h4OUArtfO2E31gBP8d/EdSukBr0ctbugpQfEFSeT2dpGWcMJBxMZ0lSZ1koigpFVjNZ/OHknrgn/T/ZvP6enl5/fabDCNomrFlRB1PRZGmeYmIWTbDuUizeVnU/8wwp5/gvsCmR+b1gfrweDS84GzH/fNToyvZc/4w5KCHsHeJNaMIS0sCu8Nq17ZKkn3qnsEPwNk8in42/r5GFolh7bCyWC3SgUBHj7mPd7/y8z28+aimjtn8HNRF6N65jrV+SdoZC0cQL+DcaOmNdeC2jp0A7S44gisrVyvinTfJ/HoJZC2fFaYi2KxJQ42d8tsIHmFosQ8A2TRUSda62kLHBbLDBMnb4Lz7N9zPeiB1AT9CEsHrg6cHtzNpXxotEYdPInhrgseGiF7q4AYonlqqh9Ov2pa45jvI+F3Ck4HHBq4sNs9CijSCU6aj7hTXfm+e7DJtpA2drNFqBjCCC7O7cBfLxXOpMozBkN0SOkdNqbYhfxbBb5pJoc1xysZ0uh9MpUXxgTw87dxuRgK2rTWtDXBCECX0pyvLc8n2JU8Dho25HYowqtpn3Y/NMKfDluZLh61wbMa8y9WaHToMy/slOBIsjqHqPFxxDMXnGIyBs3b9Cu7OHYEREswjWPbsGf3ZaA4lch+y3kLd6T4clQxie+jnBbzRvbgHHbBjD/xQtZ/y/G1QKa4k2nuA40LTMgzyF4C3RvKLghFtQ7kBJZ4Q2/Cf7gT3wlGBNsHK/OLwWMAvypSorkis4dKofW0/JSfT6fQkmaQn2XSWj8HxaWP9y1Uf7jnc7aMjfve8gHNeWlqz+4bZJyjm+cmMB+8Y2rD+suGoIIDwEM7B30yuBewMo42Xtdz2MIdbtRSSOcbSdAN3kl1Pg1vEmsSHQYje8L+g1/D0ZPDOk6+8Dd//BcGjx1A=', 'source': 'doc_latest.md'}, page_content=\"III. Maintenance and Replacement\\n\\n3.2 Changeable Parts:\\n\\nThe following table lists all replaceable components of the X3000 TurboFixer, including their descriptions, replacement intervals, and instructions. Always power down and disconnect the machine before attempting any component replacement.\\n\\nXXPSXL\\n\\nComponent Name: Pressure Sensor Description: Monitors system pressure. Triggers E18XP error code when faulty. Replacement Interval/Conditions: Replace immediately upon receiving E18XP error code. Replacement Instructions: * 1. Disconnect power to the X3000 TurboFixer. * 2. Locate the XXPSXL sensor (refer to Appendix 4.2 for diagram). * 3. Carefully disconnect the sensor wiring harness. Note the connection points for reassembly. * 4. Unscrew the sensor mounting bracket (using the appropriate size screwdriver). * 5. Remove the old sensor and install the new sensor. * 6. Tighten the mounting bracket securely. * 7. Reconnect the wiring harness, ensuring a secure connection. * 8. Power on the machine and verify functionality. Safety Precautions: Ensure power is disconnected before handling. Sensor is sensitive; avoid dropping or applying excessive force. Supplier(s) & Contact: GlobalTech Solutions: +1-555-123-4567, support@globaltechsolutions.com; MechPro Parts: +1-555-987-6543, parts@mechproparts.com'\"),\n",
       " Document(metadata={'emphasized_text_contents': ['E31:', 'E32:', 'E33:', 'E34:', 'E35:', 'E18XP', 'Phone:', 'Email:', 'Website:', 'Important:'], 'emphasized_text_tags': ['b', 'b', 'b', 'b', 'b', 'b', 'b', 'b', 'b', 'b'], 'filetype': 'text/markdown', 'orig_elements': 'eJzNl29v2zYQxr8K4Vcb1mQU/9Ov1rUdEKAbAqTbAhRFcCSPsRZZMiQ5qVvsu+9kx0maBIu6GpkBv7DNk8T7PXfHR+8/T7DCOdb9WZkmUzZJkXOflOBolUgcVQhOei4TauO1g8kLNpljDwl6oPjPkwg9njft6izhop/RX5Iicllhv1rgcMceP/Y/zqG9SM1VPVxeQX2+hHPsaPX9BOvzyQf6dwHt7S6cc9F77r3y3sgClVbCO6MKHxQvvJn8/WJz4yFYHMpDzV6mS6gjJvambZu2mw5P2m7hXdlXOFxzP1tAXYANnjIMMqB0WfjkFfiQZXCIT2dbUATOFzPoyk+YzoY9ncWm7ukZm/zeyGK6TvB+VA/nm4iwXv5WZE8KdxfZsCl2RLtsa6jYq2Y+X9Yl5VY29YYfO2CvZhgvWLkNil8EhWX3gv6qa4zDb/oBdRpiFk09pH54F//bsuuPepw/poDxDlTA4K0OKYOSpK+zGcMgSVRqJwqIfVRATNlrSoqd9E1LN77HfciXdddLCS/LiI8ADxAvlgu2aBuq/GWL47kL4aWJInKrUHINyYNLSYaiUFZ5x3fCXe4jdzllJ03ur+gW7PcF5XcffbddXW5W13Q7Il5jf9W0F3dk2Khwc8FQ/9QfoazKfjVaCs+1ydLbIK1DH2OWwgQhkgGkj9iNFGofpVAkBcZlS7TYyaojPvel2K52m9UO+76sz4fqj4MmgxR921TX7QAVtPPr2PGtoICQg5A6Fw5tcF5AstzoKFNGNebIG8Ff7yN/Pd1ifwVVGdovD4A/sC3zDfp4J+J23mywp7+WXc+gow7BhGk0+cQ1nbLOJcOVLIKiwleajv0ceSFjNLsgX7jT4/1DP+yKHRPAjihSE9QdId+Cb3FRQUTWz/BBzHfH0PZU9gnZlJ2eHp+cvv1+dKGnArLlOpuUBffaS0FDJ1guIxcciqdxi114O7JxihQnfXURoBBeYRYWMERLExDueTtF9qTuIQ59z06Wi0XT9qO8nSFf55xVgSsjBFobrC9osuYotEERH2T7rYk9ifduYkeZrZolWx8zNYSK1G5I+K6pLjfClyQ7Mshkv1huqqq5GgAMKzTwlnRBN2uaNRRqzwU1YmguySIsKoQO13ORmK3jTyXnnL1btqH5pfxIt+s2FFmPMKd7t9S5HZXNYJ+/aN3foB0a/hLfDZt+DLFOykRugnOeI0SefAG6QCGTtbnIO+jf4xkZymeZnV8l32Zb7IfiwHF+oLU+KEQhxjaiRm0DuS2uRER60dAIYLjWGLIyEvwu5t4cymr/uG22ta3An/qbojwk7zQaX3TS5mjAGp8Ko61UmaYJ96i9iXkXB/afGLqy38PC226MXV1dHf43fMkYcv1gi6yNQGNjMpqe5QEgkwGyD/D9K6mj+aAk1P3+sbrdGvsZac7djMX11NyU4M3EnMH14L0dtmVNF803lqdFSKvpV01H7ZSXaCSKHEAJrY112QuF6IJJY7v8WYn9Sr6iYvVyHuiYaPKjx8dotyFNLiAAYMyBO3rdNCk4EKqgr9Y/LLP/P/0TcrxwP/85xFlZ4+gX6yLbTI7G2iRj5lJoUC4EibagF2wcYbKePe3X2MW2XKzr/DppcvhkMUaPFB+sFolEDfQtEgKl6K3KusCFNyaPNPLPmvTLesVwbbgHM92xVHbkuleYRp9CmfuQtEVveFLkNF3hYhZKRiEDFfse5nyydoqD71xPO6jWU431cIH14D/vOstbE/o4kA//ABVQDow=', 'source': 'doc_latest.md'}, page_content='2.3.5 Advanced Errors:\\n\\nE31: Internal Communication Error - Check internal communication bus, connections, and components.\\n\\nE32: Data Storage Error - Check data storage device, connections, and backup procedures.\\n\\nE33: Software Update Error - Check software update process, network connection, and software compatibility.\\n\\nE34: Security System Error - Check security system settings, access controls, and alarm systems.\\n\\nE35: System Calibration Error - Verify system calibration procedures and adjust as needed.\\n\\nE18XP Pressure Sensor Error - replace the Pressure Sensor (Part code : XXPSXL)\\n\\n2.4 Contacting Support\\n\\nIf you are unable to resolve the issue after following the troubleshooting steps above, please contact the X3000 TurboFixer support team for assistance.\\n\\nPhone: +1-800-555-1212\\n\\nEmail: support@turboFixer.com\\n\\nWebsite: www.turboFixer.com\\n\\nImportant: Before contacting support, please have the following information ready:\\n\\nModel number of the X3000 TurboFixer\\n\\nSerial number of the machine\\n\\nDescription of the problem\\n\\nAny error codes displayed\\n\\nSteps you have already taken to troubleshoot the issue'),\n",
       " Document(metadata={'emphasized_text_contents': ['E11:', 'E12:', 'E13:', 'E14:', 'E15:', 'E16:', 'E17:', 'E18:', 'E19:', 'E20:'], 'emphasized_text_tags': ['b', 'b', 'b', 'b', 'b', 'b', 'b', 'b', 'b', 'b'], 'filetype': 'text/markdown', 'orig_elements': 'eJzN191r2zAQAPB/Rfg56/T9kddS2GCDQcdeygiS7pSaJrax3XZZ2f8+uU62Ni0UWhf8mNNZvvv5ENHFXYEb3GLVr0oolqRIwUvQSoC1IjLnuFIgIkUqVDLAaLEgxRZ7D773Of+uiL7Hdd3uVoBNf5lDImekcoP9rsFhxx5/9R+3vr2C+rYaHt/4an3t19jl1YsCq3XxM0cb3/6vwlobnaPOSee0YCiV5M5qyVyQlDld/FmMGw/J/ESccHLeYCxTGclpvW3qKu9Fztq2brvl8M5DMd/LfoPD08d9e2TKasDEI/MSGbdGMGkgaJUgcP9y3yxn4La59F35G2E1VLeKddXnd4ydnjG2vG/1OKv36zEj3C+/Fe/FT/gQbyiKfK37uiVsBCMfyOklxiuy3UdzExXGvqyrbkGa+hZb0l03zWa3IL6CfVq6ru5T/KbsdycPyb+UXf+5x+1z6kADV5F6rZOzllmltHPorLSIwhgziTqfozo/qPNn1fl7qmPKk06DC0yB4ywGbQWqJAyCTsbLSdTFHNXFkpxj1T0z7N0h/Mg9ZtjQ+uHXyP468ORT8pyiRAvIXD5RqIBopHUynzYgJgGXcwSX/8CP57w7hN8D3CmvgWuGEJwCFlXkwHTi1CXuLbWTgKs5gqsl+eE3N/hkwG/20UfcdYNvx87WCZnmXDprEhgf0el8lFPFAseJplvPEVsfsI+H+2YfnR47j7GTRrtog4SkmabGJW1tkjwmzmASbDNHbLMk3663zZPBbsbg9NSRMfCGGsVopCCFiBp19KjymEvBp5lrO0dqu6c+HutmDE5P7YBGr03KteU/3hEk1QrBMGGjdCmkSajdHKndknzC7FetydlIcmR+uV/dg70DvhEI1oR8vYLIbYySSomcWzBaBmPCFPiczhA/F5Vvi/Vm4D3fdZnnyD7uF7txMR5ulq+T//kXQQ/qOA==', 'source': 'doc_latest.md'}, page_content='2.3.2 Specific Component Errors:\\n\\nE11: Motor 1 Error - Check motor 1 connections, power supply, and motor functionality.\\n\\nE12: Motor 2 Error - Check motor 2 connections, power supply, and motor functionality.\\n\\nE13: Sensor 1 Error - Check sensor 1 connections, calibration, and functionality.\\n\\nE14: Sensor 2 Error - Check sensor 2 connections, calibration, and functionality.\\n\\nE15: Valve 1 Error - Check valve 1 connections, operation, and functionality.\\n\\nE16: Valve 2 Error - Check valve 2 connections, operation, and functionality.\\n\\nE17: Pump 1 Error - Check pump 1 connections, operation, and functionality.\\n\\nE18: Pump 2 Error - Check pump 2 connections, operation, and functionality.\\n\\nE19: Heating Element Error - Check heating element connections, operation, and functionality.\\n\\nE20: Cooling System Error - Check cooling system components, operation, and functionality.'),\n",
       " Document(metadata={'emphasized_text_contents': ['E21:', 'E22:', 'E23:', 'E24:', 'E25:', 'E26:', 'E27:', 'E28:', 'E29:', 'E30:'], 'emphasized_text_tags': ['b', 'b', 'b', 'b', 'b', 'b', 'b', 'b', 'b', 'b'], 'filetype': 'text/markdown', 'orig_elements': 'eJzNl02P2zYQhv8K4bO7Fb9JX9MUDbKHANmegmAxHA5tYWXJkWinTpD/Xsr2Jlsn6O42QuGbNDOShg9fviLffZ5RQ2tq820dZws2S4nAKKcxaMMV8AqMgQAxxSgkuDCbs9maMkTIUOo/zxAyLbt+fxtpk1clJEtFqhvK+w2Nb8z0V/51Df1d7D624+MNtMstLGko2Xczapez9yW6gf5bF8459L7yXnlvJCellfDOKO6Dqrg3sy/z44vHYnElryT7c6CevWoz9QmQ2Mu+7/phMX7vvpGbOjc0Pnk+ZpWEk0DaxGCFNUYE1FpIW1myXHn5+Jh5qaD1ZgVD/Yni7djZLXalmTYfR/lS8MVhmOdVGZbHinBI/yy4R6fvIbixKfaitNl3DXsDLTVHbOwX9mJFeMfwlNsccuWuJcx11w5z1m2oh/F6zqCNLG3bQwaaOu+vHlK/rof8KtP6R+AtJhRJaTKgCcs8W1VRSDoEopgqMQl4cYngxYL9Vg+bBvZnyOMpOj1sHbzDEIrIoSytpKxxzhjOLaLxyVWTwJaXCFsu2Gvahw76eEb77j48PW7QQoOsjLbORZBWISAGikIbicngJLjVJeJWC3bTbXE1YE/UnhHPDzLTQ+cygiDjtDFBauDaRS6TipW3IQKmC/17KfZ2P5QhsbcZ8nZ41s/LcWGcJysieh0tdzphMVUw3mrOvZ9EZ/p/0dmjs/dPnekFu+4+sjc9DcO2pzOhbe7DA7VDoTn/FulpuW0gH4Kj1oYj/Ibgbniy1IJJyvOgeZltboQyVap8KEvccA3J80m4m0vkbhbsj3q5+k/gm5oS20Gzo59hDwZBp2RVAMdR+xiSEsWeTAl6UtPsG+wlsrdHzd+Urka7/J5+fpD5OgErKs7aLk+wj+DrdhgXQbHYJ2OXNhhbMPOAKnJ0IshicQFjCGCtfcLZ4AnY3SVidyfJP5M7dl1zzn1XmqifDV74YjEKlasgoFDorI2qGFCUEq2bBLy/RPB+wX5vtnVk17T77niSDpnmkPnK/BgsjkP9rqvvLf6Z/qKiTkaj4RUmSMSrANKRq6icC5FPwltWF8i7NHXiPR4LYV23B6H+kHvprBy2C9+ThWNh3Ba5F68/beEOZR+2/7aFe/83i4tNxg==', 'source': 'doc_latest.md'}, page_content='2.3.3 User Interface Errors:\\n\\nE21: Control Panel Error - Check control panel connections, operation, and functionality.\\n\\nE22: Display Error - Check display connections, operation, and functionality.\\n\\nE23: Keyboard Error - Check keyboard connections, operation, and functionality.\\n\\nE24: Touchscreen Error - Check touchscreen connections, operation, and functionality.\\n\\n2.3.4 System Status Errors:\\n\\nE25: Low Pressure Error - Check pressure sensors, pressure regulators, and system leaks.\\n\\nE26: High Pressure Error - Check pressure sensors, pressure relief valves, and system leaks.\\n\\nE27: Low Temperature Error - Check temperature sensors, heating system, and insulation.\\n\\nE28: High Temperature Error - Check temperature sensors, cooling system, and ventilation.\\n\\nE29: Fluid Level Error - Check fluid level sensors, fluid reservoirs, and leaks.\\n\\nE30: Fluid Contamination Error - Check fluid filters, system cleanliness, and fluid quality.')]"
      ]
     },
     "execution_count": 1,
     "metadata": {},
     "output_type": "execute_result"
    }
   ],
   "source": [
    "from langchain_core.documents import Document\n",
    "import json\n",
    "\n",
    "def dict_to_document(doc_dict):\n",
    "    return Document(page_content=doc_dict[\"page_content\"], metadata=doc_dict[\"metadata\"])\n",
    "\n",
    "with open('context.json', 'r') as f:\n",
    "    loaded_docs_dicts = json.load(f)\n",
    "\n",
    "context = [dict_to_document(doc_dict) for doc_dict in loaded_docs_dicts]\n",
    "context\n"
   ]
  },
  {
   "cell_type": "markdown",
   "metadata": {},
   "source": [
    "#### 3. Prepare Agent"
   ]
  },
  {
   "cell_type": "code",
   "execution_count": 2,
   "metadata": {},
   "outputs": [],
   "source": [
    "from langchain_core.messages import HumanMessage, SystemMessage\n",
    "from langchain_google_vertexai import ChatVertexAI\n",
    "from langchain_core.tools import tool\n",
    "from utils import check_stock, order_item\n",
    "\n",
    "llm = ChatVertexAI(model=\"gemini-1.5-flash-002\", temperature=0)"
   ]
  },
  {
   "cell_type": "code",
   "execution_count": 3,
   "metadata": {},
   "outputs": [],
   "source": [
    "# retriever mock\n",
    "@tool()\n",
    "def retrieve_troubleshooting_guide(query:str):\n",
    "    \"\"\" \n",
    "    Search and return information from the troubleshooting guide\n",
    "\n",
    "    Args:\n",
    "        query: The query to use to retrieve relevant informations, the query need to be as detailed as possible inorder to get most relevent information\n",
    "\n",
    "    Returns: \n",
    "        str: relevant information regarding the given query\n",
    "    \"\"\"\n",
    "    return context\n"
   ]
  },
  {
   "cell_type": "code",
   "execution_count": 4,
   "metadata": {},
   "outputs": [],
   "source": [
    "def call_agent(messages, llm):\n",
    "    ai_msg = llm.invoke(messages)\n",
    "    print(f\"===================AI Message===================\\n {ai_msg}\\n\\n\")\n",
    "    messages.append(ai_msg)\n",
    "    print(ai_msg.tool_calls)\n",
    "\n",
    "def call_tool(messages, tool_map):\n",
    "    ai_msg = messages[-1]\n",
    "    for tool_call in ai_msg.tool_calls:\n",
    "        selected_tool = tool_map[tool_call[\"name\"].lower()]\n",
    "        tool_msg = selected_tool.invoke(tool_call)\n",
    "        print(f\"===================Tool Message===================\\n {tool_msg}\\n\\n\")\n",
    "        messages.append(tool_msg)"
   ]
  },
  {
   "cell_type": "markdown",
   "metadata": {},
   "source": [
    "## Tests"
   ]
  },
  {
   "cell_type": "markdown",
   "metadata": {},
   "source": [
    "#### 1. apply tool calling (prompt_2)\n",
    "in this test I'm using prompt_2"
   ]
  },
  {
   "cell_type": "code",
   "execution_count": null,
   "metadata": {},
   "outputs": [],
   "source": [
    "# with this prompt the agent did things step by step :\n",
    "#1. check guide for context\n",
    "#2. check stock for the needed part which return 0\n",
    "#3. but it stucks here saying he need supplier informations, eventhough they are included in the context.\n",
    "prompt_1 =\"\"\"\n",
    "You are an AI-powered predictive maintenance agent responsible for handling machine failure notifications and autonomously determining the correct actions to resolve issues. \n",
    "\n",
    "### 🔹 Your Role & Responsibilities:\n",
    "- You **analyze incoming machine notifications** and decide on the best course of action.\n",
    "- You have access to **various tools** that allow you to:\n",
    "  - Retrieve contextual information from the **machine guide**.\n",
    "  - Check part availability in the **stock system**.\n",
    "  - Place orders for missing parts.\n",
    "  - Notify engineers with relevant details.\n",
    "  - Take any other necessary steps to resolve the issue.\n",
    "\n",
    "- **You must decide** the most effective way to resolve each problem by using the available tools in the correct order.\n",
    "- You **must not make assumptions** beyond the provided information. If you lack the necessary context, ask for clarification.\n",
    "\n",
    "---\n",
    "\n",
    "### 🔹 How to Operate:\n",
    "1. **Understand the Problem**  \n",
    "   - Process the incoming machine notification.\n",
    "   - Retrieve context from the **machine guide** to determine what needs to be done.\n",
    "\n",
    "2. **Decide on the Necessary Actions**  \n",
    "   - Identify the required steps and use the appropriate tools in the right order.\n",
    "   - Example considerations:\n",
    "     - Does a machine part need to be replaced? → Check stock availability first.\n",
    "     - Is the problem fixable without replacement? → Provide repair instructions.\n",
    "     - Is the issue critical? → Alert the engineer or shut down the machine if necessary.\n",
    "     - Is a tool missing? → Order it before proceeding.\n",
    "\n",
    "3. **Execute the Actions Using the Available Tools**  \n",
    "   - If a part needs replacement, **check stock first** before notifying the engineer.\n",
    "   - If the part is unavailable, **place an order** and notify relevant personnel.\n",
    "   - If the issue requires manual intervention, **provide clear instructions** to the engineer.\n",
    "   - If unsure about what action to take, **ask for additional context**.\n",
    "\n",
    "4. **Always Provide a Clear and Actionable Response**  \n",
    "   - Use structured responses when interacting with engineers or requesting actions.\n",
    "   - If you cannot determine the appropriate action, **say so explicitly** instead of making incorrect assumptions.\n",
    "\n",
    "---\n",
    "\n",
    "### 🔹 Example Scenarios:\n",
    "💡 **Scenario 1: The agent determines a part replacement is required**\n",
    "Notification: `\"High temperature detected in Motor X.\"`\n",
    "1. Check the **machine guide** → Motor overheating requires a **cooling fan replacement**.\n",
    "2. Use the **stock check tool** → 3 cooling fans available.\n",
    "3. Notify the engineer:\n",
    "\"\"\"\n",
    "\n",
    "prompt_2 = \"\"\"\n",
    "You are an AI-powered predictive maintenance agent responsible for handling machine failure notifications and autonomously determining the correct actions to resolve issues. \n",
    "\n",
    "### 🔹 Your Role & Responsibilities:\n",
    "- You **analyze incoming machine notifications** and decide on the best course of action.\n",
    "- You have access to **various tools** that allow you to achieve your task:\n",
    "- **You must decide** the most effective way to resolve each problem by using the available tools in the correct order.\n",
    "- You **must not make assumptions** beyond the provided information. If you lack the necessary context, ask for clarification.\n",
    "\n",
    "---\n",
    "\n",
    "### 🔹 How to Operate:\n",
    "1. **Understand the Problem**  \n",
    "   - Process the incoming machine notification.\n",
    "   - Retrieve context from the **machine guide** to determine what needs to be done.\n",
    "\n",
    "2. **Decide on the Necessary Actions**  \n",
    "   - Identify the required steps and use the appropriate tools in the right order.\n",
    "   - Example considerations:\n",
    "     - Does a machine part need to be replaced? → Check stock availability first.\n",
    "     - Is the problem fixable without replacement? → Provide repair instructions.\n",
    "     - Is the issue critical? → Alert the engineer or shut down the machine if necessary.\n",
    "     - Is a tool missing? → Order it before proceeding.\n",
    "\n",
    "3. **Execute the Actions Using the Available Tools**  \n",
    "   - If a part needs replacement, **check stock first** before notifying the engineer.\n",
    "   - If the part is unavailable, **place an order** and notify relevant personnel.\n",
    "   - If the issue requires manual intervention, **provide clear instructions** to the engineer.\n",
    "   - If unsure about what action to take, **ask for additional context**.\n",
    "\n",
    "4. **Always Provide a Clear and Actionable Response**  \n",
    "   - Use structured responses when interacting with engineers or requesting actions.\n",
    "   - If you cannot determine the appropriate action, **say so explicitly** instead of making incorrect assumptions.\n",
    "\n",
    "---\n",
    "\n",
    "### 🔹 Example Scenarios:\n",
    "💡 **Scenario 1: The agent determines a part replacement is required**\n",
    "Notification: `\"High temperature detected in Motor X.\"`\n",
    "1. Check the **machine guide** → Motor overheating requires a **cooling fan replacement**.\n",
    "2. Use the **stock check tool** → 3 cooling fans available.\n",
    "3. Notify the engineer:\n",
    "\"\"\"\n"
   ]
  },
  {
   "cell_type": "code",
   "execution_count": null,
   "metadata": {},
   "outputs": [],
   "source": [
    "from utils import notify_technicien\n",
    "llm = ChatVertexAI(model=\"gemini-1.5-flash-002\", temperature=0)\n",
    "agent_tools = [check_stock, notify_technicien, retrieve_troubleshooting_guide, order_item]\n",
    "llm_with_tools = llm.bind_tools(agent_tools)"
   ]
  },
  {
   "cell_type": "code",
   "execution_count": null,
   "metadata": {},
   "outputs": [],
   "source": [
    "# humain_msg = \"I'm getting this error code E18XP what do I have to do ?\"\n",
    "from utils import notify_technicien\n",
    "llm = ChatVertexAI(model=\"gemini-1.5-flash-002\", temperature=0)\n",
    "agent_tools = [check_stock, notify_technicien, retrieve_troubleshooting_guide, order_item]\n",
    "llm_with_tools = llm.bind_tools(agent_tools)\n",
    "\n",
    "messages= [\n",
    "    SystemMessage(content=prompt_2),\n",
    "    HumanMessage(content=\"error code : E18XP\")\n",
    "]"
   ]
  },
  {
   "cell_type": "code",
   "execution_count": 64,
   "metadata": {},
   "outputs": [
    {
     "name": "stdout",
     "output_type": "stream",
     "text": [
      "_format_to_gapic_function_declaration\n",
      "{'type': 'function', 'function': {'name': 'check_stock', 'description': 'Check the stock for the given item', 'parameters': {'properties': {'item_name': {'description': 'The item name*', 'type': 'string'}}, 'required': ['item_name'], 'type': 'object'}}}\n",
      "_format_to_gapic_function_declaration\n",
      "{'type': 'function', 'function': {'name': 'notify_technicien', 'description': 'Notify the technicien that something goes wrong and that he has to make some actions.', 'parameters': {'properties': {'title': {'description': 'Title of the notification to be send', 'type': 'string'}, 'criticity': {'description': 'Criticity of the action, varrying from 1 to 5, with: 1 -> low 2 -> medium 3 -> high 4 -> critical 5 -> extremly critical', 'type': 'integer'}, 'message': {'description': 'the message to be send to the technicien containg context of the notification and instruction of things to do.', 'type': 'string'}}, 'required': ['title', 'criticity', 'message'], 'type': 'object'}}}\n",
      "_format_to_gapic_function_declaration\n",
      "{'type': 'function', 'function': {'name': 'retrieve_troubleshooting_guide', 'description': 'Search and return information from the troubleshooting guide', 'parameters': {'properties': {'query': {'description': 'The query to use to retrieve relevant informations, the query need to be as detailed as possible inorder to get most relevent information', 'type': 'string'}}, 'required': ['query'], 'type': 'object'}}}\n",
      "_format_to_gapic_function_declaration\n",
      "{'type': 'function', 'function': {'name': 'order_item', 'description': \"Order the given item in case it doesn't existe the stock\", 'parameters': {'properties': {'item_name': {'description': 'name of item to be ordered.', 'type': 'string'}, 'supplier_infos': {'description': 'supplier contact informations.', 'type': 'string'}, 'quantity': {'description': 'number of element to be ordered.', 'type': 'integer'}}, 'required': ['item_name', 'supplier_infos', 'quantity'], 'type': 'object'}}}\n",
      "===================AI Message===================\n",
      " content='' additional_kwargs={'function_call': {'name': 'retrieve_troubleshooting_guide', 'arguments': '{\"query\": \"error code : E18XP\"}'}} response_metadata={'is_blocked': False, 'safety_ratings': [], 'usage_metadata': {'prompt_token_count': 704, 'candidates_token_count': 14, 'total_token_count': 718, 'prompt_tokens_details': [{'modality': 1, 'token_count': 704}], 'candidates_tokens_details': [{'modality': 1, 'token_count': 14}], 'cached_content_token_count': 0, 'cache_tokens_details': []}, 'finish_reason': 'STOP', 'avg_logprobs': -0.0010128461622766086} id='run-0ed46580-2cc1-4bae-a1cb-528d01456ee8-0' tool_calls=[{'name': 'retrieve_troubleshooting_guide', 'args': {'query': 'error code : E18XP'}, 'id': '2a9b5540-c39b-4567-a48c-3d84662931c1', 'type': 'tool_call'}] usage_metadata={'input_tokens': 704, 'output_tokens': 14, 'total_tokens': 718}\n",
      "\n",
      "\n",
      "[{'name': 'retrieve_troubleshooting_guide', 'args': {'query': 'error code : E18XP'}, 'id': '2a9b5540-c39b-4567-a48c-3d84662931c1', 'type': 'tool_call'}]\n"
     ]
    }
   ],
   "source": [
    "call_agent(messages)"
   ]
  },
  {
   "cell_type": "code",
   "execution_count": 66,
   "metadata": {},
   "outputs": [
    {
     "name": "stdout",
     "output_type": "stream",
     "text": [
      "===================Tool Message===================\n",
      " content='[(Document(metadata={\\'emphasized_text_contents\\': [\\'Always power down and disconnect the machine before attempting any component replacement.\\', \\'Component Name\\', \\'Description\\', \\'Replacement Interval/Conditions\\', \\'Replacement Instructions\\', \\'Safety Precautions\\', \\'Supplier(s) & Contact\\', \\'What to do in this case\\'], \\'emphasized_text_tags\\': [\\'b\\', \\'b\\', \\'b\\', \\'b\\', \\'b\\', \\'b\\', \\'b\\', \\'b\\'], \\'filetype\\': \\'text/markdown\\', \\'orig_elements\\': \\'eJy9Vl9v2zYQ/yoHP6zt5qiSJVuW+9Ii7YYATWAsGRagKIITdbKJUqRAUnG8Yt99R8mu3aRrOqzbi2GRx+Pd789J7z6OSFFD2t/IarSAUTHDejonmiLVWVELojgr8pzmOZVFVqWjMYwa8lihR47/OBLoaWXs9qai1q95KeGIWiry25ZCRk93/nmD9kNlNjocV6hXHa7I8e67EenV6D2vtmgPVWCMdVFRUiRFmaf5LMM8judJLLCMUZTZ6M/xkDgEn52dRXCOUnvSqAUB6gp+pVah6DsLd+6LuZJeUTh9v++yyEWK3G8lspgmdZWWQsxwNqVJxnd/Q9+T79D3o+gf951GEzhdc1LCUhEs0Xq3+KZm55N0kqezSUkijyd5klaiLOdpghXxo6AHzVLTrtHJP6i6CbffCBPA9kMnr9QGtw5asyELodmegEo6jtIkPPg1QYNiLTVBSbWxTJH3nNNLveLgLQjTtEZzRrAH3qIen/tXe1wN15b99r9F/FHejxG/4kZqo5TZhMJ9D7uSzjtApfal96ufGnJg6h6A6zSOY7jqbGl+lndkxyC1UF3VZ1qTZOjICSsZFKPd+BgICNK2t6h4OUArtfO2E31gBP8d/EdSukBr0ctbugpQfEFSeT2dpGWcMJBxMZ0lSZ1koigpFVjNZ/OHknrgn/T/ZvP6enl5/fabDCNomrFlRB1PRZGmeYmIWTbDuUizeVnU/8wwp5/gvsCmR+b1gfrweDS84GzH/fNToyvZc/4w5KCHsHeJNaMIS0sCu8Nq17ZKkn3qnsEPwNk8in42/r5GFolh7bCyWC3SgUBHj7mPd7/y8z28+aimjtn8HNRF6N65jrV+SdoZC0cQL+DcaOmNdeC2jp0A7S44gisrVyvinTfJ/HoJZC2fFaYi2KxJQ42d8tsIHmFosQ8A2TRUSda62kLHBbLDBMnb4Lz7N9zPeiB1AT9CEsHrg6cHtzNpXxotEYdPInhrgseGiF7q4AYonlqqh9Ov2pa45jvI+F3Ck4HHBq4sNs9CijSCU6aj7hTXfm+e7DJtpA2drNFqBjCCC7O7cBfLxXOpMozBkN0SOkdNqbYhfxbBb5pJoc1xysZ0uh9MpUXxgTw87dxuRgK2rTWtDXBCECX0pyvLc8n2JU8Dho25HYowqtpn3Y/NMKfDluZLh61wbMa8y9WaHToMy/slOBIsjqHqPFxxDMXnGIyBs3b9Cu7OHYEREswjWPbsGf3ZaA4lch+y3kLd6T4clQxie+jnBbzRvbgHHbBjD/xQtZ/y/G1QKa4k2nuA40LTMgzyF4C3RvKLghFtQ7kBJZ4Q2/Cf7gT3wlGBNsHK/OLwWMAvypSorkis4dKofW0/JSfT6fQkmaQn2XSWj8HxaWP9y1Uf7jnc7aMjfve8gHNeWlqz+4bZJyjm+cmMB+8Y2rD+suGoIIDwEM7B30yuBewMo42Xtdz2MIdbtRSSOcbSdAN3kl1Pg1vEmsSHQYje8L+g1/D0ZPDOk6+8Dd//BcGjx1A=\\', \\'source\\': \\'doc_latest.md\\'}, page_content=\"III. Maintenance and Replacement\\\\n\\\\n3.2 Changeable Parts:\\\\n\\\\nThe following table lists all replaceable components of the X3000 TurboFixer, including their descriptions, replacement intervals, and instructions. Always power down and disconnect the machine before attempting any component replacement.\\\\n\\\\nXXPSXL\\\\n\\\\nComponent Name: Pressure Sensor Description: Monitors system pressure. Triggers E18XP error code when faulty. Replacement Interval/Conditions: Replace immediately upon receiving E18XP error code. Replacement Instructions: * 1. Disconnect power to the X3000 TurboFixer. * 2. Locate the XXPSXL sensor (refer to Appendix 4.2 for diagram). * 3. Carefully disconnect the sensor wiring harness. Note the connection points for reassembly. * 4. Unscrew the sensor mounting bracket (using the appropriate size screwdriver). * 5. Remove the old sensor and install the new sensor. * 6. Tighten the mounting bracket securely. * 7. Reconnect the wiring harness, ensuring a secure connection. * 8. Power on the machine and verify functionality. Safety Precautions: Ensure power is disconnected before handling. Sensor is sensitive; avoid dropping or applying excessive force. Supplier(s) & Contact: GlobalTech Solutions: +1-555-123-4567, support@globaltechsolutions.com; MechPro Parts: +1-555-987-6543, parts@mechproparts.com\\'\"), 0.3110166429758776), (Document(metadata={\\'emphasized_text_contents\\': [\\'E31:\\', \\'E32:\\', \\'E33:\\', \\'E34:\\', \\'E35:\\', \\'E18XP\\', \\'Phone:\\', \\'Email:\\', \\'Website:\\', \\'Important:\\'], \\'emphasized_text_tags\\': [\\'b\\', \\'b\\', \\'b\\', \\'b\\', \\'b\\', \\'b\\', \\'b\\', \\'b\\', \\'b\\', \\'b\\'], \\'filetype\\': \\'text/markdown\\', \\'orig_elements\\': \\'eJzNl29v2zYQxr8K4Vcb1mQU/9Ov1rUdEKAbAqTbAhRFcCSPsRZZMiQ5qVvsu+9kx0maBIu6GpkBv7DNk8T7PXfHR+8/T7DCOdb9WZkmUzZJkXOflOBolUgcVQhOei4TauO1g8kLNpljDwl6oPjPkwg9njft6izhop/RX5Iicllhv1rgcMceP/Y/zqG9SM1VPVxeQX2+hHPsaPX9BOvzyQf6dwHt7S6cc9F77r3y3sgClVbCO6MKHxQvvJn8/WJz4yFYHMpDzV6mS6gjJvambZu2mw5P2m7hXdlXOFxzP1tAXYANnjIMMqB0WfjkFfiQZXCIT2dbUATOFzPoyk+YzoY9ncWm7ukZm/zeyGK6TvB+VA/nm4iwXv5WZE8KdxfZsCl2RLtsa6jYq2Y+X9Yl5VY29YYfO2CvZhgvWLkNil8EhWX3gv6qa4zDb/oBdRpiFk09pH54F//bsuuPepw/poDxDlTA4K0OKYOSpK+zGcMgSVRqJwqIfVRATNlrSoqd9E1LN77HfciXdddLCS/LiI8ADxAvlgu2aBuq/GWL47kL4aWJInKrUHINyYNLSYaiUFZ5x3fCXe4jdzllJ03ur+gW7PcF5XcffbddXW5W13Q7Il5jf9W0F3dk2Khwc8FQ/9QfoazKfjVaCs+1ydLbIK1DH2OWwgQhkgGkj9iNFGofpVAkBcZlS7TYyaojPvel2K52m9UO+76sz4fqj4MmgxR921TX7QAVtPPr2PGtoICQg5A6Fw5tcF5AstzoKFNGNebIG8Ff7yN/Pd1ifwVVGdovD4A/sC3zDfp4J+J23mywp7+WXc+gow7BhGk0+cQ1nbLOJcOVLIKiwleajv0ceSFjNLsgX7jT4/1DP+yKHRPAjihSE9QdId+Cb3FRQUTWz/BBzHfH0PZU9gnZlJ2eHp+cvv1+dKGnArLlOpuUBffaS0FDJ1guIxcciqdxi114O7JxihQnfXURoBBeYRYWMERLExDueTtF9qTuIQ59z06Wi0XT9qO8nSFf55xVgSsjBFobrC9osuYotEERH2T7rYk9ifduYkeZrZolWx8zNYSK1G5I+K6pLjfClyQ7Mshkv1huqqq5GgAMKzTwlnRBN2uaNRRqzwU1YmguySIsKoQO13ORmK3jTyXnnL1btqH5pfxIt+s2FFmPMKd7t9S5HZXNYJ+/aN3foB0a/hLfDZt+DLFOykRugnOeI0SefAG6QCGTtbnIO+jf4xkZymeZnV8l32Zb7IfiwHF+oLU+KEQhxjaiRm0DuS2uRER60dAIYLjWGLIyEvwu5t4cymr/uG22ta3An/qbojwk7zQaX3TS5mjAGp8Ko61UmaYJ96i9iXkXB/afGLqy38PC226MXV1dHf43fMkYcv1gi6yNQGNjMpqe5QEgkwGyD/D9K6mj+aAk1P3+sbrdGvsZac7djMX11NyU4M3EnMH14L0dtmVNF803lqdFSKvpV01H7ZSXaCSKHEAJrY112QuF6IJJY7v8WYn9Sr6iYvVyHuiYaPKjx8dotyFNLiAAYMyBO3rdNCk4EKqgr9Y/LLP/P/0TcrxwP/85xFlZ4+gX6yLbTI7G2iRj5lJoUC4EibagF2wcYbKePe3X2MW2XKzr/DppcvhkMUaPFB+sFolEDfQtEgKl6K3KusCFNyaPNPLPmvTLesVwbbgHM92xVHbkuleYRp9CmfuQtEVveFLkNF3hYhZKRiEDFfse5nyydoqD71xPO6jWU431cIH14D/vOstbE/o4kA//ABVQDow=\\', \\'source\\': \\'doc_latest.md\\'}, page_content=\\'2.3.5 Advanced Errors:\\\\n\\\\nE31: Internal Communication Error - Check internal communication bus, connections, and components.\\\\n\\\\nE32: Data Storage Error - Check data storage device, connections, and backup procedures.\\\\n\\\\nE33: Software Update Error - Check software update process, network connection, and software compatibility.\\\\n\\\\nE34: Security System Error - Check security system settings, access controls, and alarm systems.\\\\n\\\\nE35: System Calibration Error - Verify system calibration procedures and adjust as needed.\\\\n\\\\nE18XP Pressure Sensor Error - replace the Pressure Sensor (Part code : XXPSXL)\\\\n\\\\n2.4 Contacting Support\\\\n\\\\nIf you are unable to resolve the issue after following the troubleshooting steps above, please contact the X3000 TurboFixer support team for assistance.\\\\n\\\\nPhone: +1-800-555-1212\\\\n\\\\nEmail: support@turboFixer.com\\\\n\\\\nWebsite: www.turboFixer.com\\\\n\\\\nImportant: Before contacting support, please have the following information ready:\\\\n\\\\nModel number of the X3000 TurboFixer\\\\n\\\\nSerial number of the machine\\\\n\\\\nDescription of the problem\\\\n\\\\nAny error codes displayed\\\\n\\\\nSteps you have already taken to troubleshoot the issue\\'), 0.31736679984987204), (Document(metadata={\\'emphasized_text_contents\\': [\\'E11:\\', \\'E12:\\', \\'E13:\\', \\'E14:\\', \\'E15:\\', \\'E16:\\', \\'E17:\\', \\'E18:\\', \\'E19:\\', \\'E20:\\'], \\'emphasized_text_tags\\': [\\'b\\', \\'b\\', \\'b\\', \\'b\\', \\'b\\', \\'b\\', \\'b\\', \\'b\\', \\'b\\', \\'b\\'], \\'filetype\\': \\'text/markdown\\', \\'orig_elements\\': \\'eJzN191r2zAQAPB/Rfg56/T9kddS2GCDQcdeygiS7pSaJrax3XZZ2f8+uU62Ni0UWhf8mNNZvvv5ENHFXYEb3GLVr0oolqRIwUvQSoC1IjLnuFIgIkUqVDLAaLEgxRZ7D773Of+uiL7Hdd3uVoBNf5lDImekcoP9rsFhxx5/9R+3vr2C+rYaHt/4an3t19jl1YsCq3XxM0cb3/6vwlobnaPOSee0YCiV5M5qyVyQlDld/FmMGw/J/ESccHLeYCxTGclpvW3qKu9Fztq2brvl8M5DMd/LfoPD08d9e2TKasDEI/MSGbdGMGkgaJUgcP9y3yxn4La59F35G2E1VLeKddXnd4ydnjG2vG/1OKv36zEj3C+/Fe/FT/gQbyiKfK37uiVsBCMfyOklxiuy3UdzExXGvqyrbkGa+hZb0l03zWa3IL6CfVq6ru5T/KbsdycPyb+UXf+5x+1z6kADV5F6rZOzllmltHPorLSIwhgziTqfozo/qPNn1fl7qmPKk06DC0yB4ywGbQWqJAyCTsbLSdTFHNXFkpxj1T0z7N0h/Mg9ZtjQ+uHXyP468ORT8pyiRAvIXD5RqIBopHUynzYgJgGXcwSX/8CP57w7hN8D3CmvgWuGEJwCFlXkwHTi1CXuLbWTgKs5gqsl+eE3N/hkwG/20UfcdYNvx87WCZnmXDprEhgf0el8lFPFAseJplvPEVsfsI+H+2YfnR47j7GTRrtog4SkmabGJW1tkjwmzmASbDNHbLMk3663zZPBbsbg9NSRMfCGGsVopCCFiBp19KjymEvBp5lrO0dqu6c+HutmDE5P7YBGr03KteU/3hEk1QrBMGGjdCmkSajdHKndknzC7FetydlIcmR+uV/dg70DvhEI1oR8vYLIbYySSomcWzBaBmPCFPiczhA/F5Vvi/Vm4D3fdZnnyD7uF7txMR5ulq+T//kXQQ/qOA==\\', \\'source\\': \\'doc_latest.md\\'}, page_content=\\'2.3.2 Specific Component Errors:\\\\n\\\\nE11: Motor 1 Error - Check motor 1 connections, power supply, and motor functionality.\\\\n\\\\nE12: Motor 2 Error - Check motor 2 connections, power supply, and motor functionality.\\\\n\\\\nE13: Sensor 1 Error - Check sensor 1 connections, calibration, and functionality.\\\\n\\\\nE14: Sensor 2 Error - Check sensor 2 connections, calibration, and functionality.\\\\n\\\\nE15: Valve 1 Error - Check valve 1 connections, operation, and functionality.\\\\n\\\\nE16: Valve 2 Error - Check valve 2 connections, operation, and functionality.\\\\n\\\\nE17: Pump 1 Error - Check pump 1 connections, operation, and functionality.\\\\n\\\\nE18: Pump 2 Error - Check pump 2 connections, operation, and functionality.\\\\n\\\\nE19: Heating Element Error - Check heating element connections, operation, and functionality.\\\\n\\\\nE20: Cooling System Error - Check cooling system components, operation, and functionality.\\'), 0.35621603402898516), (Document(metadata={\\'emphasized_text_contents\\': [\\'E21:\\', \\'E22:\\', \\'E23:\\', \\'E24:\\', \\'E25:\\', \\'E26:\\', \\'E27:\\', \\'E28:\\', \\'E29:\\', \\'E30:\\'], \\'emphasized_text_tags\\': [\\'b\\', \\'b\\', \\'b\\', \\'b\\', \\'b\\', \\'b\\', \\'b\\', \\'b\\', \\'b\\', \\'b\\'], \\'filetype\\': \\'text/markdown\\', \\'orig_elements\\': \\'eJzNl02P2zYQhv8K4bO7Fb9JX9MUDbKHANmegmAxHA5tYWXJkWinTpD/Xsr2Jlsn6O42QuGbNDOShg9fviLffZ5RQ2tq820dZws2S4nAKKcxaMMV8AqMgQAxxSgkuDCbs9maMkTIUOo/zxAyLbt+fxtpk1clJEtFqhvK+w2Nb8z0V/51Df1d7D624+MNtMstLGko2Xczapez9yW6gf5bF8459L7yXnlvJCellfDOKO6Dqrg3sy/z44vHYnElryT7c6CevWoz9QmQ2Mu+7/phMX7vvpGbOjc0Pnk+ZpWEk0DaxGCFNUYE1FpIW1myXHn5+Jh5qaD1ZgVD/Yni7djZLXalmTYfR/lS8MVhmOdVGZbHinBI/yy4R6fvIbixKfaitNl3DXsDLTVHbOwX9mJFeMfwlNsccuWuJcx11w5z1m2oh/F6zqCNLG3bQwaaOu+vHlK/rof8KtP6R+AtJhRJaTKgCcs8W1VRSDoEopgqMQl4cYngxYL9Vg+bBvZnyOMpOj1sHbzDEIrIoSytpKxxzhjOLaLxyVWTwJaXCFsu2Gvahw76eEb77j48PW7QQoOsjLbORZBWISAGikIbicngJLjVJeJWC3bTbXE1YE/UnhHPDzLTQ+cygiDjtDFBauDaRS6TipW3IQKmC/17KfZ2P5QhsbcZ8nZ41s/LcWGcJysieh0tdzphMVUw3mrOvZ9EZ/p/0dmjs/dPnekFu+4+sjc9DcO2pzOhbe7DA7VDoTn/FulpuW0gH4Kj1oYj/Ibgbniy1IJJyvOgeZltboQyVap8KEvccA3J80m4m0vkbhbsj3q5+k/gm5oS20Gzo59hDwZBp2RVAMdR+xiSEsWeTAl6UtPsG+wlsrdHzd+Urka7/J5+fpD5OgErKs7aLk+wj+DrdhgXQbHYJ2OXNhhbMPOAKnJ0IshicQFjCGCtfcLZ4AnY3SVidyfJP5M7dl1zzn1XmqifDV74YjEKlasgoFDorI2qGFCUEq2bBLy/RPB+wX5vtnVk17T77niSDpnmkPnK/BgsjkP9rqvvLf6Z/qKiTkaj4RUmSMSrANKRq6icC5FPwltWF8i7NHXiPR4LYV23B6H+kHvprBy2C9+ThWNh3Ba5F68/beEOZR+2/7aFe/83i4tNxg==\\', \\'source\\': \\'doc_latest.md\\'}, page_content=\\'2.3.3 User Interface Errors:\\\\n\\\\nE21: Control Panel Error - Check control panel connections, operation, and functionality.\\\\n\\\\nE22: Display Error - Check display connections, operation, and functionality.\\\\n\\\\nE23: Keyboard Error - Check keyboard connections, operation, and functionality.\\\\n\\\\nE24: Touchscreen Error - Check touchscreen connections, operation, and functionality.\\\\n\\\\n2.3.4 System Status Errors:\\\\n\\\\nE25: Low Pressure Error - Check pressure sensors, pressure regulators, and system leaks.\\\\n\\\\nE26: High Pressure Error - Check pressure sensors, pressure relief valves, and system leaks.\\\\n\\\\nE27: Low Temperature Error - Check temperature sensors, heating system, and insulation.\\\\n\\\\nE28: High Temperature Error - Check temperature sensors, cooling system, and ventilation.\\\\n\\\\nE29: Fluid Level Error - Check fluid level sensors, fluid reservoirs, and leaks.\\\\n\\\\nE30: Fluid Contamination Error - Check fluid filters, system cleanliness, and fluid quality.\\'), 0.3862712045860227)]' name='retrieve_troubleshooting_guide' tool_call_id='2a9b5540-c39b-4567-a48c-3d84662931c1'\n",
      "\n",
      "\n"
     ]
    }
   ],
   "source": [
    "call_tool(messages[-1],messages)"
   ]
  },
  {
   "cell_type": "code",
   "execution_count": 67,
   "metadata": {},
   "outputs": [
    {
     "name": "stdout",
     "output_type": "stream",
     "text": [
      "_format_to_gapic_function_declaration\n",
      "{'type': 'function', 'function': {'name': 'check_stock', 'description': 'Check the stock for the given item', 'parameters': {'properties': {'item_name': {'description': 'The item name*', 'type': 'string'}}, 'required': ['item_name'], 'type': 'object'}}}\n",
      "_format_to_gapic_function_declaration\n",
      "{'type': 'function', 'function': {'name': 'notify_technicien', 'description': 'Notify the technicien that something goes wrong and that he has to make some actions.', 'parameters': {'properties': {'title': {'description': 'Title of the notification to be send', 'type': 'string'}, 'criticity': {'description': 'Criticity of the action, varrying from 1 to 5, with: 1 -> low 2 -> medium 3 -> high 4 -> critical 5 -> extremly critical', 'type': 'integer'}, 'message': {'description': 'the message to be send to the technicien containg context of the notification and instruction of things to do.', 'type': 'string'}}, 'required': ['title', 'criticity', 'message'], 'type': 'object'}}}\n",
      "_format_to_gapic_function_declaration\n",
      "{'type': 'function', 'function': {'name': 'retrieve_troubleshooting_guide', 'description': 'Search and return information from the troubleshooting guide', 'parameters': {'properties': {'query': {'description': 'The query to use to retrieve relevant informations, the query need to be as detailed as possible inorder to get most relevent information', 'type': 'string'}}, 'required': ['query'], 'type': 'object'}}}\n",
      "_format_to_gapic_function_declaration\n",
      "{'type': 'function', 'function': {'name': 'order_item', 'description': \"Order the given item in case it doesn't existe the stock\", 'parameters': {'properties': {'item_name': {'description': 'name of item to be ordered.', 'type': 'string'}, 'supplier_infos': {'description': 'supplier contact informations.', 'type': 'string'}, 'quantity': {'description': 'number of element to be ordered.', 'type': 'integer'}}, 'required': ['item_name', 'supplier_infos', 'quantity'], 'type': 'object'}}}\n",
      "===================AI Message===================\n",
      " content='The error code E18XP indicates a faulty pressure sensor (XXPSXL).  The troubleshooting guide recommends immediate replacement.\\n\\nBefore proceeding, I need to check stock.\\n\\n' additional_kwargs={'function_call': {'name': 'check_stock', 'arguments': '{\"item_name\": \"XXPSXL\"}'}} response_metadata={'is_blocked': False, 'safety_ratings': [], 'usage_metadata': {'prompt_token_count': 6084, 'candidates_token_count': 45, 'total_token_count': 6129, 'prompt_tokens_details': [{'modality': 1, 'token_count': 6084}], 'candidates_tokens_details': [{'modality': 1, 'token_count': 45}], 'cached_content_token_count': 0, 'cache_tokens_details': []}, 'finish_reason': 'STOP', 'avg_logprobs': -0.07215606371561686} id='run-33c5c5f3-f3a5-48db-ad79-40132ce5fa17-0' tool_calls=[{'name': 'check_stock', 'args': {'item_name': 'XXPSXL'}, 'id': 'b4f9ef0c-dbf6-483b-b693-ce748fac5e42', 'type': 'tool_call'}] usage_metadata={'input_tokens': 6084, 'output_tokens': 45, 'total_tokens': 6129}\n",
      "\n",
      "\n",
      "[{'name': 'check_stock', 'args': {'item_name': 'XXPSXL'}, 'id': 'b4f9ef0c-dbf6-483b-b693-ce748fac5e42', 'type': 'tool_call'}]\n"
     ]
    }
   ],
   "source": [
    "call_agent(messages)"
   ]
  },
  {
   "cell_type": "code",
   "execution_count": 68,
   "metadata": {},
   "outputs": [
    {
     "name": "stdout",
     "output_type": "stream",
     "text": [
      "XXPSXL\n",
      "===================Tool Message===================\n",
      " content='0' name='check_stock' tool_call_id='b4f9ef0c-dbf6-483b-b693-ce748fac5e42'\n",
      "\n",
      "\n"
     ]
    }
   ],
   "source": [
    "call_tool(messages[-1],messages)"
   ]
  },
  {
   "cell_type": "code",
   "execution_count": 69,
   "metadata": {},
   "outputs": [
    {
     "name": "stdout",
     "output_type": "stream",
     "text": [
      "_format_to_gapic_function_declaration\n",
      "{'type': 'function', 'function': {'name': 'check_stock', 'description': 'Check the stock for the given item', 'parameters': {'properties': {'item_name': {'description': 'The item name*', 'type': 'string'}}, 'required': ['item_name'], 'type': 'object'}}}\n",
      "_format_to_gapic_function_declaration\n",
      "{'type': 'function', 'function': {'name': 'notify_technicien', 'description': 'Notify the technicien that something goes wrong and that he has to make some actions.', 'parameters': {'properties': {'title': {'description': 'Title of the notification to be send', 'type': 'string'}, 'criticity': {'description': 'Criticity of the action, varrying from 1 to 5, with: 1 -> low 2 -> medium 3 -> high 4 -> critical 5 -> extremly critical', 'type': 'integer'}, 'message': {'description': 'the message to be send to the technicien containg context of the notification and instruction of things to do.', 'type': 'string'}}, 'required': ['title', 'criticity', 'message'], 'type': 'object'}}}\n",
      "_format_to_gapic_function_declaration\n",
      "{'type': 'function', 'function': {'name': 'retrieve_troubleshooting_guide', 'description': 'Search and return information from the troubleshooting guide', 'parameters': {'properties': {'query': {'description': 'The query to use to retrieve relevant informations, the query need to be as detailed as possible inorder to get most relevent information', 'type': 'string'}}, 'required': ['query'], 'type': 'object'}}}\n",
      "_format_to_gapic_function_declaration\n",
      "{'type': 'function', 'function': {'name': 'order_item', 'description': \"Order the given item in case it doesn't existe the stock\", 'parameters': {'properties': {'item_name': {'description': 'name of item to be ordered.', 'type': 'string'}, 'supplier_infos': {'description': 'supplier contact informations.', 'type': 'string'}, 'quantity': {'description': 'number of element to be ordered.', 'type': 'integer'}}, 'required': ['item_name', 'supplier_infos', 'quantity'], 'type': 'object'}}}\n"
     ]
    },
    {
     "name": "stderr",
     "output_type": "stream",
     "text": [
      "This model can reply with multiple function calls in one response. Please don't rely on `additional_kwargs.function_call` as only the last one will be saved.Use `tool_calls` instead.\n"
     ]
    },
    {
     "name": "stdout",
     "output_type": "stream",
     "text": [
      "===================AI Message===================\n",
      " content='There are no XXPSXL pressure sensors in stock. I will order them and then notify the technician.\\n\\n' additional_kwargs={'function_call': {'name': 'notify_technicien', 'arguments': '{\"title\": \"Urgent: Machine Repair Needed\", \"message\": \"Error code E18XP (Pressure Sensor) requires part replacement (XXPSXL). Parts have been ordered.  Do not attempt repair until parts arrive.\", \"criticity\": 3.0}'}} response_metadata={'is_blocked': False, 'safety_ratings': [], 'usage_metadata': {'prompt_token_count': 6134, 'candidates_token_count': 107, 'total_token_count': 6241, 'prompt_tokens_details': [{'modality': 1, 'token_count': 6134}], 'candidates_tokens_details': [{'modality': 1, 'token_count': 107}], 'cached_content_token_count': 0, 'cache_tokens_details': []}, 'finish_reason': 'STOP', 'avg_logprobs': -0.0980298585980852} id='run-ec663650-f0fb-4768-afcb-aa45bbcdaf03-0' tool_calls=[{'name': 'order_item', 'args': {'quantity': 5.0, 'item_name': 'XXPSXL', 'supplier_infos': 'GlobalTech Solutions: +1-555-123-4567, support@globaltechsolutions.com'}, 'id': '259abdb9-8b3b-4856-886c-d31ffd10ea6a', 'type': 'tool_call'}, {'name': 'notify_technicien', 'args': {'title': 'Urgent: Machine Repair Needed', 'message': 'Error code E18XP (Pressure Sensor) requires part replacement (XXPSXL). Parts have been ordered.  Do not attempt repair until parts arrive.', 'criticity': 3.0}, 'id': '5c0215bc-640c-4db1-941e-aa5d6906c8c6', 'type': 'tool_call'}] usage_metadata={'input_tokens': 6134, 'output_tokens': 107, 'total_tokens': 6241}\n",
      "\n",
      "\n",
      "[{'name': 'order_item', 'args': {'quantity': 5.0, 'item_name': 'XXPSXL', 'supplier_infos': 'GlobalTech Solutions: +1-555-123-4567, support@globaltechsolutions.com'}, 'id': '259abdb9-8b3b-4856-886c-d31ffd10ea6a', 'type': 'tool_call'}, {'name': 'notify_technicien', 'args': {'title': 'Urgent: Machine Repair Needed', 'message': 'Error code E18XP (Pressure Sensor) requires part replacement (XXPSXL). Parts have been ordered.  Do not attempt repair until parts arrive.', 'criticity': 3.0}, 'id': '5c0215bc-640c-4db1-941e-aa5d6906c8c6', 'type': 'tool_call'}]\n"
     ]
    }
   ],
   "source": [
    "call_agent(messages)"
   ]
  },
  {
   "cell_type": "code",
   "execution_count": 71,
   "metadata": {},
   "outputs": [
    {
     "name": "stdout",
     "output_type": "stream",
     "text": [
      "===================Tool Message===================\n",
      " content='5 element of XXPSXL has been ordred from GlobalTech Solutions: +1-555-123-4567, support@globaltechsolutions.com' name='order_item' tool_call_id='259abdb9-8b3b-4856-886c-d31ffd10ea6a'\n",
      "\n",
      "\n",
      "===================Tool Message===================\n",
      " content='Notification had beed send' name='notify_technicien' tool_call_id='5c0215bc-640c-4db1-941e-aa5d6906c8c6'\n",
      "\n",
      "\n"
     ]
    }
   ],
   "source": [
    "call_tool(messages[-1],messages)"
   ]
  },
  {
   "cell_type": "markdown",
   "metadata": {},
   "source": [
    "####  2.apply tool calling (prompt_2), flaver2\n",
    "in the previous execution (1), the agent sent notification to the technicien but it doesn't contain claire instructions on what to do,<br>\n",
    "in this test I'm updating the notify technicien tool inorder to have claire instructions"
   ]
  },
  {
   "cell_type": "code",
   "execution_count": 22,
   "metadata": {},
   "outputs": [],
   "source": [
    "@tool(parse_docstring=True)\n",
    "def notify_technicien(title: str, criticity: int, instructions: str) -> str: \n",
    "    \"\"\"\n",
    "    Notify the technicien that something goes wrong and instruct him on what need to be done.\n",
    "    \n",
    "    Args:\n",
    "        title: Title of the notification to be send\n",
    "        criticity: Criticity of the action, varrying from 1 to 5, with:\n",
    "            1 -> low\n",
    "            2 -> medium\n",
    "            3 -> high\n",
    "            4 -> critical\n",
    "            5 -> extremly critical\n",
    "        instructions: list of insctructions that the technicien need to follow during his intervention if there is any.\n",
    "    \n",
    "    Returns:\n",
    "        str: the state of the notification send\n",
    "    \"\"\"\n",
    "    return \"Notification had beed send\""
   ]
  },
  {
   "cell_type": "code",
   "execution_count": 25,
   "metadata": {},
   "outputs": [],
   "source": [
    "from langchain_google_vertexai import ChatVertexAI\n",
    "from utils import check_stock, order_item\n",
    "\n",
    "llm = ChatVertexAI(model=\"gemini-1.5-flash-002\", temperature=0)\n",
    "agent_tools = [check_stock, notify_technicien, retrieve_troubleshooting_guide, order_item]\n",
    "llm_with_tools = llm.bind_tools(agent_tools)"
   ]
  },
  {
   "cell_type": "code",
   "execution_count": 26,
   "metadata": {},
   "outputs": [],
   "source": [
    "# humain_msg = \"I'm getting this error code E18XP what do I have to do ?\"\n",
    "humain_msg = \"error code : E18XP\"\n",
    "messages= [\n",
    "    SystemMessage(content=prompt_2),\n",
    "    HumanMessage(content=humain_msg)\n",
    "]"
   ]
  },
  {
   "cell_type": "code",
   "execution_count": 27,
   "metadata": {},
   "outputs": [
    {
     "name": "stdout",
     "output_type": "stream",
     "text": [
      "_format_to_gapic_function_declaration\n",
      "{'type': 'function', 'function': {'name': 'check_stock', 'description': 'Check the stock for the given item', 'parameters': {'properties': {'item_name': {'description': 'The item name*', 'type': 'string'}}, 'required': ['item_name'], 'type': 'object'}}}\n",
      "_format_to_gapic_function_declaration\n",
      "{'type': 'function', 'function': {'name': 'notify_technicien', 'description': 'Notify the technicien that something goes wrong and instruct him on what need to be done.', 'parameters': {'properties': {'title': {'description': 'Title of the notification to be send', 'type': 'string'}, 'criticity': {'description': 'Criticity of the action, varrying from 1 to 5, with: 1 -> low 2 -> medium 3 -> high 4 -> critical 5 -> extremly critical', 'type': 'integer'}, 'instructions': {'description': 'list of insctructions that the technicien need to follow during his intervention if there is any.', 'type': 'string'}}, 'required': ['title', 'criticity', 'instructions'], 'type': 'object'}}}\n",
      "_format_to_gapic_function_declaration\n",
      "{'type': 'function', 'function': {'name': 'retrieve_troubleshooting_guide', 'description': 'Search and return information from the troubleshooting guide\\n\\nArgs:\\n    query: The query to use to retrieve relevant informations, the query need to be as detailed as possible inorder to get most relevent information\\n\\nReturns: \\n    str: relevant information regarding the given query', 'parameters': {'properties': {'query': {'type': 'string'}}, 'required': ['query'], 'type': 'object'}}}\n",
      "_format_to_gapic_function_declaration\n",
      "{'type': 'function', 'function': {'name': 'order_item', 'description': \"Order the given item in case it doesn't existe the stock\", 'parameters': {'properties': {'item_name': {'description': 'name of item to be ordered.', 'type': 'string'}, 'supplier_infos': {'description': 'supplier contact informations.', 'type': 'string'}, 'quantity': {'description': 'number of element to be ordered.', 'type': 'integer'}}, 'required': ['item_name', 'supplier_infos', 'quantity'], 'type': 'object'}}}\n",
      "===================AI Message===================\n",
      " content='' additional_kwargs={'function_call': {'name': 'retrieve_troubleshooting_guide', 'arguments': '{\"query\": \"error code : E18XP\"}'}} response_metadata={'is_blocked': False, 'safety_ratings': [], 'usage_metadata': {'prompt_token_count': 725, 'candidates_token_count': 14, 'total_token_count': 739, 'prompt_tokens_details': [{'modality': 1, 'token_count': 725}], 'candidates_tokens_details': [{'modality': 1, 'token_count': 14}], 'cached_content_token_count': 0, 'cache_tokens_details': []}, 'finish_reason': 'STOP', 'avg_logprobs': -0.0006802968813904694} id='run-26dd74c3-0ca1-4c6c-8a32-2adddb4857b5-0' tool_calls=[{'name': 'retrieve_troubleshooting_guide', 'args': {'query': 'error code : E18XP'}, 'id': '0f48496f-3014-4007-a71b-63752c853764', 'type': 'tool_call'}] usage_metadata={'input_tokens': 725, 'output_tokens': 14, 'total_tokens': 739}\n",
      "\n",
      "\n",
      "[{'name': 'retrieve_troubleshooting_guide', 'args': {'query': 'error code : E18XP'}, 'id': '0f48496f-3014-4007-a71b-63752c853764', 'type': 'tool_call'}]\n"
     ]
    }
   ],
   "source": [
    "call_agent(messages)"
   ]
  },
  {
   "cell_type": "code",
   "execution_count": 28,
   "metadata": {},
   "outputs": [
    {
     "name": "stdout",
     "output_type": "stream",
     "text": [
      "===================Tool Message===================\n",
      " content='[(Document(metadata={\\'emphasized_text_contents\\': [\\'Always power down and disconnect the machine before attempting any component replacement.\\', \\'Component Name\\', \\'Description\\', \\'Replacement Interval/Conditions\\', \\'Replacement Instructions\\', \\'Safety Precautions\\', \\'Supplier(s) & Contact\\', \\'What to do in this case\\'], \\'emphasized_text_tags\\': [\\'b\\', \\'b\\', \\'b\\', \\'b\\', \\'b\\', \\'b\\', \\'b\\', \\'b\\'], \\'filetype\\': \\'text/markdown\\', \\'orig_elements\\': \\'eJy9Vl9v2zYQ/yoHP6zt5qiSJVuW+9Ii7YYATWAsGRagKIITdbKJUqRAUnG8Yt99R8mu3aRrOqzbi2GRx+Pd789J7z6OSFFD2t/IarSAUTHDejonmiLVWVELojgr8pzmOZVFVqWjMYwa8lihR47/OBLoaWXs9qai1q95KeGIWiry25ZCRk93/nmD9kNlNjocV6hXHa7I8e67EenV6D2vtmgPVWCMdVFRUiRFmaf5LMM8judJLLCMUZTZ6M/xkDgEn52dRXCOUnvSqAUB6gp+pVah6DsLd+6LuZJeUTh9v++yyEWK3G8lspgmdZWWQsxwNqVJxnd/Q9+T79D3o+gf951GEzhdc1LCUhEs0Xq3+KZm55N0kqezSUkijyd5klaiLOdpghXxo6AHzVLTrtHJP6i6CbffCBPA9kMnr9QGtw5asyELodmegEo6jtIkPPg1QYNiLTVBSbWxTJH3nNNLveLgLQjTtEZzRrAH3qIen/tXe1wN15b99r9F/FHejxG/4kZqo5TZhMJ9D7uSzjtApfal96ufGnJg6h6A6zSOY7jqbGl+lndkxyC1UF3VZ1qTZOjICSsZFKPd+BgICNK2t6h4OUArtfO2E31gBP8d/EdSukBr0ctbugpQfEFSeT2dpGWcMJBxMZ0lSZ1koigpFVjNZ/OHknrgn/T/ZvP6enl5/fabDCNomrFlRB1PRZGmeYmIWTbDuUizeVnU/8wwp5/gvsCmR+b1gfrweDS84GzH/fNToyvZc/4w5KCHsHeJNaMIS0sCu8Nq17ZKkn3qnsEPwNk8in42/r5GFolh7bCyWC3SgUBHj7mPd7/y8z28+aimjtn8HNRF6N65jrV+SdoZC0cQL+DcaOmNdeC2jp0A7S44gisrVyvinTfJ/HoJZC2fFaYi2KxJQ42d8tsIHmFosQ8A2TRUSda62kLHBbLDBMnb4Lz7N9zPeiB1AT9CEsHrg6cHtzNpXxotEYdPInhrgseGiF7q4AYonlqqh9Ov2pa45jvI+F3Ck4HHBq4sNs9CijSCU6aj7hTXfm+e7DJtpA2drNFqBjCCC7O7cBfLxXOpMozBkN0SOkdNqbYhfxbBb5pJoc1xysZ0uh9MpUXxgTw87dxuRgK2rTWtDXBCECX0pyvLc8n2JU8Dho25HYowqtpn3Y/NMKfDluZLh61wbMa8y9WaHToMy/slOBIsjqHqPFxxDMXnGIyBs3b9Cu7OHYEREswjWPbsGf3ZaA4lch+y3kLd6T4clQxie+jnBbzRvbgHHbBjD/xQtZ/y/G1QKa4k2nuA40LTMgzyF4C3RvKLghFtQ7kBJZ4Q2/Cf7gT3wlGBNsHK/OLwWMAvypSorkis4dKofW0/JSfT6fQkmaQn2XSWj8HxaWP9y1Uf7jnc7aMjfve8gHNeWlqz+4bZJyjm+cmMB+8Y2rD+suGoIIDwEM7B30yuBewMo42Xtdz2MIdbtRSSOcbSdAN3kl1Pg1vEmsSHQYje8L+g1/D0ZPDOk6+8Dd//BcGjx1A=\\', \\'source\\': \\'doc_latest.md\\'}, page_content=\"III. Maintenance and Replacement\\\\n\\\\n3.2 Changeable Parts:\\\\n\\\\nThe following table lists all replaceable components of the X3000 TurboFixer, including their descriptions, replacement intervals, and instructions. Always power down and disconnect the machine before attempting any component replacement.\\\\n\\\\nXXPSXL\\\\n\\\\nComponent Name: Pressure Sensor Description: Monitors system pressure. Triggers E18XP error code when faulty. Replacement Interval/Conditions: Replace immediately upon receiving E18XP error code. Replacement Instructions: * 1. Disconnect power to the X3000 TurboFixer. * 2. Locate the XXPSXL sensor (refer to Appendix 4.2 for diagram). * 3. Carefully disconnect the sensor wiring harness. Note the connection points for reassembly. * 4. Unscrew the sensor mounting bracket (using the appropriate size screwdriver). * 5. Remove the old sensor and install the new sensor. * 6. Tighten the mounting bracket securely. * 7. Reconnect the wiring harness, ensuring a secure connection. * 8. Power on the machine and verify functionality. Safety Precautions: Ensure power is disconnected before handling. Sensor is sensitive; avoid dropping or applying excessive force. Supplier(s) & Contact: GlobalTech Solutions: +1-555-123-4567, support@globaltechsolutions.com; MechPro Parts: +1-555-987-6543, parts@mechproparts.com\\'\"), 0.3110166429758776), (Document(metadata={\\'emphasized_text_contents\\': [\\'E31:\\', \\'E32:\\', \\'E33:\\', \\'E34:\\', \\'E35:\\', \\'E18XP\\', \\'Phone:\\', \\'Email:\\', \\'Website:\\', \\'Important:\\'], \\'emphasized_text_tags\\': [\\'b\\', \\'b\\', \\'b\\', \\'b\\', \\'b\\', \\'b\\', \\'b\\', \\'b\\', \\'b\\', \\'b\\'], \\'filetype\\': \\'text/markdown\\', \\'orig_elements\\': \\'eJzNl29v2zYQxr8K4Vcb1mQU/9Ov1rUdEKAbAqTbAhRFcCSPsRZZMiQ5qVvsu+9kx0maBIu6GpkBv7DNk8T7PXfHR+8/T7DCOdb9WZkmUzZJkXOflOBolUgcVQhOei4TauO1g8kLNpljDwl6oPjPkwg9njft6izhop/RX5Iicllhv1rgcMceP/Y/zqG9SM1VPVxeQX2+hHPsaPX9BOvzyQf6dwHt7S6cc9F77r3y3sgClVbCO6MKHxQvvJn8/WJz4yFYHMpDzV6mS6gjJvambZu2mw5P2m7hXdlXOFxzP1tAXYANnjIMMqB0WfjkFfiQZXCIT2dbUATOFzPoyk+YzoY9ncWm7ukZm/zeyGK6TvB+VA/nm4iwXv5WZE8KdxfZsCl2RLtsa6jYq2Y+X9Yl5VY29YYfO2CvZhgvWLkNil8EhWX3gv6qa4zDb/oBdRpiFk09pH54F//bsuuPepw/poDxDlTA4K0OKYOSpK+zGcMgSVRqJwqIfVRATNlrSoqd9E1LN77HfciXdddLCS/LiI8ADxAvlgu2aBuq/GWL47kL4aWJInKrUHINyYNLSYaiUFZ5x3fCXe4jdzllJ03ur+gW7PcF5XcffbddXW5W13Q7Il5jf9W0F3dk2Khwc8FQ/9QfoazKfjVaCs+1ydLbIK1DH2OWwgQhkgGkj9iNFGofpVAkBcZlS7TYyaojPvel2K52m9UO+76sz4fqj4MmgxR921TX7QAVtPPr2PGtoICQg5A6Fw5tcF5AstzoKFNGNebIG8Ff7yN/Pd1ifwVVGdovD4A/sC3zDfp4J+J23mywp7+WXc+gow7BhGk0+cQ1nbLOJcOVLIKiwleajv0ceSFjNLsgX7jT4/1DP+yKHRPAjihSE9QdId+Cb3FRQUTWz/BBzHfH0PZU9gnZlJ2eHp+cvv1+dKGnArLlOpuUBffaS0FDJ1guIxcciqdxi114O7JxihQnfXURoBBeYRYWMERLExDueTtF9qTuIQ59z06Wi0XT9qO8nSFf55xVgSsjBFobrC9osuYotEERH2T7rYk9ifduYkeZrZolWx8zNYSK1G5I+K6pLjfClyQ7Mshkv1huqqq5GgAMKzTwlnRBN2uaNRRqzwU1YmguySIsKoQO13ORmK3jTyXnnL1btqH5pfxIt+s2FFmPMKd7t9S5HZXNYJ+/aN3foB0a/hLfDZt+DLFOykRugnOeI0SefAG6QCGTtbnIO+jf4xkZymeZnV8l32Zb7IfiwHF+oLU+KEQhxjaiRm0DuS2uRER60dAIYLjWGLIyEvwu5t4cymr/uG22ta3An/qbojwk7zQaX3TS5mjAGp8Ko61UmaYJ96i9iXkXB/afGLqy38PC226MXV1dHf43fMkYcv1gi6yNQGNjMpqe5QEgkwGyD/D9K6mj+aAk1P3+sbrdGvsZac7djMX11NyU4M3EnMH14L0dtmVNF803lqdFSKvpV01H7ZSXaCSKHEAJrY112QuF6IJJY7v8WYn9Sr6iYvVyHuiYaPKjx8dotyFNLiAAYMyBO3rdNCk4EKqgr9Y/LLP/P/0TcrxwP/85xFlZ4+gX6yLbTI7G2iRj5lJoUC4EibagF2wcYbKePe3X2MW2XKzr/DppcvhkMUaPFB+sFolEDfQtEgKl6K3KusCFNyaPNPLPmvTLesVwbbgHM92xVHbkuleYRp9CmfuQtEVveFLkNF3hYhZKRiEDFfse5nyydoqD71xPO6jWU431cIH14D/vOstbE/o4kA//ABVQDow=\\', \\'source\\': \\'doc_latest.md\\'}, page_content=\\'2.3.5 Advanced Errors:\\\\n\\\\nE31: Internal Communication Error - Check internal communication bus, connections, and components.\\\\n\\\\nE32: Data Storage Error - Check data storage device, connections, and backup procedures.\\\\n\\\\nE33: Software Update Error - Check software update process, network connection, and software compatibility.\\\\n\\\\nE34: Security System Error - Check security system settings, access controls, and alarm systems.\\\\n\\\\nE35: System Calibration Error - Verify system calibration procedures and adjust as needed.\\\\n\\\\nE18XP Pressure Sensor Error - replace the Pressure Sensor (Part code : XXPSXL)\\\\n\\\\n2.4 Contacting Support\\\\n\\\\nIf you are unable to resolve the issue after following the troubleshooting steps above, please contact the X3000 TurboFixer support team for assistance.\\\\n\\\\nPhone: +1-800-555-1212\\\\n\\\\nEmail: support@turboFixer.com\\\\n\\\\nWebsite: www.turboFixer.com\\\\n\\\\nImportant: Before contacting support, please have the following information ready:\\\\n\\\\nModel number of the X3000 TurboFixer\\\\n\\\\nSerial number of the machine\\\\n\\\\nDescription of the problem\\\\n\\\\nAny error codes displayed\\\\n\\\\nSteps you have already taken to troubleshoot the issue\\'), 0.31736679984987204), (Document(metadata={\\'emphasized_text_contents\\': [\\'E11:\\', \\'E12:\\', \\'E13:\\', \\'E14:\\', \\'E15:\\', \\'E16:\\', \\'E17:\\', \\'E18:\\', \\'E19:\\', \\'E20:\\'], \\'emphasized_text_tags\\': [\\'b\\', \\'b\\', \\'b\\', \\'b\\', \\'b\\', \\'b\\', \\'b\\', \\'b\\', \\'b\\', \\'b\\'], \\'filetype\\': \\'text/markdown\\', \\'orig_elements\\': \\'eJzN191r2zAQAPB/Rfg56/T9kddS2GCDQcdeygiS7pSaJrax3XZZ2f8+uU62Ni0UWhf8mNNZvvv5ENHFXYEb3GLVr0oolqRIwUvQSoC1IjLnuFIgIkUqVDLAaLEgxRZ7D773Of+uiL7Hdd3uVoBNf5lDImekcoP9rsFhxx5/9R+3vr2C+rYaHt/4an3t19jl1YsCq3XxM0cb3/6vwlobnaPOSee0YCiV5M5qyVyQlDld/FmMGw/J/ESccHLeYCxTGclpvW3qKu9Fztq2brvl8M5DMd/LfoPD08d9e2TKasDEI/MSGbdGMGkgaJUgcP9y3yxn4La59F35G2E1VLeKddXnd4ydnjG2vG/1OKv36zEj3C+/Fe/FT/gQbyiKfK37uiVsBCMfyOklxiuy3UdzExXGvqyrbkGa+hZb0l03zWa3IL6CfVq6ru5T/KbsdycPyb+UXf+5x+1z6kADV5F6rZOzllmltHPorLSIwhgziTqfozo/qPNn1fl7qmPKk06DC0yB4ywGbQWqJAyCTsbLSdTFHNXFkpxj1T0z7N0h/Mg9ZtjQ+uHXyP468ORT8pyiRAvIXD5RqIBopHUynzYgJgGXcwSX/8CP57w7hN8D3CmvgWuGEJwCFlXkwHTi1CXuLbWTgKs5gqsl+eE3N/hkwG/20UfcdYNvx87WCZnmXDprEhgf0el8lFPFAseJplvPEVsfsI+H+2YfnR47j7GTRrtog4SkmabGJW1tkjwmzmASbDNHbLMk3663zZPBbsbg9NSRMfCGGsVopCCFiBp19KjymEvBp5lrO0dqu6c+HutmDE5P7YBGr03KteU/3hEk1QrBMGGjdCmkSajdHKndknzC7FetydlIcmR+uV/dg70DvhEI1oR8vYLIbYySSomcWzBaBmPCFPiczhA/F5Vvi/Vm4D3fdZnnyD7uF7txMR5ulq+T//kXQQ/qOA==\\', \\'source\\': \\'doc_latest.md\\'}, page_content=\\'2.3.2 Specific Component Errors:\\\\n\\\\nE11: Motor 1 Error - Check motor 1 connections, power supply, and motor functionality.\\\\n\\\\nE12: Motor 2 Error - Check motor 2 connections, power supply, and motor functionality.\\\\n\\\\nE13: Sensor 1 Error - Check sensor 1 connections, calibration, and functionality.\\\\n\\\\nE14: Sensor 2 Error - Check sensor 2 connections, calibration, and functionality.\\\\n\\\\nE15: Valve 1 Error - Check valve 1 connections, operation, and functionality.\\\\n\\\\nE16: Valve 2 Error - Check valve 2 connections, operation, and functionality.\\\\n\\\\nE17: Pump 1 Error - Check pump 1 connections, operation, and functionality.\\\\n\\\\nE18: Pump 2 Error - Check pump 2 connections, operation, and functionality.\\\\n\\\\nE19: Heating Element Error - Check heating element connections, operation, and functionality.\\\\n\\\\nE20: Cooling System Error - Check cooling system components, operation, and functionality.\\'), 0.35621603402898516), (Document(metadata={\\'emphasized_text_contents\\': [\\'E21:\\', \\'E22:\\', \\'E23:\\', \\'E24:\\', \\'E25:\\', \\'E26:\\', \\'E27:\\', \\'E28:\\', \\'E29:\\', \\'E30:\\'], \\'emphasized_text_tags\\': [\\'b\\', \\'b\\', \\'b\\', \\'b\\', \\'b\\', \\'b\\', \\'b\\', \\'b\\', \\'b\\', \\'b\\'], \\'filetype\\': \\'text/markdown\\', \\'orig_elements\\': \\'eJzNl02P2zYQhv8K4bO7Fb9JX9MUDbKHANmegmAxHA5tYWXJkWinTpD/Xsr2Jlsn6O42QuGbNDOShg9fviLffZ5RQ2tq820dZws2S4nAKKcxaMMV8AqMgQAxxSgkuDCbs9maMkTIUOo/zxAyLbt+fxtpk1clJEtFqhvK+w2Nb8z0V/51Df1d7D624+MNtMstLGko2Xczapez9yW6gf5bF8459L7yXnlvJCellfDOKO6Dqrg3sy/z44vHYnElryT7c6CevWoz9QmQ2Mu+7/phMX7vvpGbOjc0Pnk+ZpWEk0DaxGCFNUYE1FpIW1myXHn5+Jh5qaD1ZgVD/Yni7djZLXalmTYfR/lS8MVhmOdVGZbHinBI/yy4R6fvIbixKfaitNl3DXsDLTVHbOwX9mJFeMfwlNsccuWuJcx11w5z1m2oh/F6zqCNLG3bQwaaOu+vHlK/rof8KtP6R+AtJhRJaTKgCcs8W1VRSDoEopgqMQl4cYngxYL9Vg+bBvZnyOMpOj1sHbzDEIrIoSytpKxxzhjOLaLxyVWTwJaXCFsu2Gvahw76eEb77j48PW7QQoOsjLbORZBWISAGikIbicngJLjVJeJWC3bTbXE1YE/UnhHPDzLTQ+cygiDjtDFBauDaRS6TipW3IQKmC/17KfZ2P5QhsbcZ8nZ41s/LcWGcJysieh0tdzphMVUw3mrOvZ9EZ/p/0dmjs/dPnekFu+4+sjc9DcO2pzOhbe7DA7VDoTn/FulpuW0gH4Kj1oYj/Ibgbniy1IJJyvOgeZltboQyVap8KEvccA3J80m4m0vkbhbsj3q5+k/gm5oS20Gzo59hDwZBp2RVAMdR+xiSEsWeTAl6UtPsG+wlsrdHzd+Urka7/J5+fpD5OgErKs7aLk+wj+DrdhgXQbHYJ2OXNhhbMPOAKnJ0IshicQFjCGCtfcLZ4AnY3SVidyfJP5M7dl1zzn1XmqifDV74YjEKlasgoFDorI2qGFCUEq2bBLy/RPB+wX5vtnVk17T77niSDpnmkPnK/BgsjkP9rqvvLf6Z/qKiTkaj4RUmSMSrANKRq6icC5FPwltWF8i7NHXiPR4LYV23B6H+kHvprBy2C9+ThWNh3Ba5F68/beEOZR+2/7aFe/83i4tNxg==\\', \\'source\\': \\'doc_latest.md\\'}, page_content=\\'2.3.3 User Interface Errors:\\\\n\\\\nE21: Control Panel Error - Check control panel connections, operation, and functionality.\\\\n\\\\nE22: Display Error - Check display connections, operation, and functionality.\\\\n\\\\nE23: Keyboard Error - Check keyboard connections, operation, and functionality.\\\\n\\\\nE24: Touchscreen Error - Check touchscreen connections, operation, and functionality.\\\\n\\\\n2.3.4 System Status Errors:\\\\n\\\\nE25: Low Pressure Error - Check pressure sensors, pressure regulators, and system leaks.\\\\n\\\\nE26: High Pressure Error - Check pressure sensors, pressure relief valves, and system leaks.\\\\n\\\\nE27: Low Temperature Error - Check temperature sensors, heating system, and insulation.\\\\n\\\\nE28: High Temperature Error - Check temperature sensors, cooling system, and ventilation.\\\\n\\\\nE29: Fluid Level Error - Check fluid level sensors, fluid reservoirs, and leaks.\\\\n\\\\nE30: Fluid Contamination Error - Check fluid filters, system cleanliness, and fluid quality.\\'), 0.3862712045860227)]' name='retrieve_troubleshooting_guide' tool_call_id='0f48496f-3014-4007-a71b-63752c853764'\n",
      "\n",
      "\n"
     ]
    }
   ],
   "source": [
    "call_tool(messages[-1], messages)"
   ]
  },
  {
   "cell_type": "code",
   "execution_count": 29,
   "metadata": {},
   "outputs": [
    {
     "name": "stdout",
     "output_type": "stream",
     "text": [
      "_format_to_gapic_function_declaration\n",
      "{'type': 'function', 'function': {'name': 'check_stock', 'description': 'Check the stock for the given item', 'parameters': {'properties': {'item_name': {'description': 'The item name*', 'type': 'string'}}, 'required': ['item_name'], 'type': 'object'}}}\n",
      "_format_to_gapic_function_declaration\n",
      "{'type': 'function', 'function': {'name': 'notify_technicien', 'description': 'Notify the technicien that something goes wrong and instruct him on what need to be done.', 'parameters': {'properties': {'title': {'description': 'Title of the notification to be send', 'type': 'string'}, 'criticity': {'description': 'Criticity of the action, varrying from 1 to 5, with: 1 -> low 2 -> medium 3 -> high 4 -> critical 5 -> extremly critical', 'type': 'integer'}, 'instructions': {'description': 'list of insctructions that the technicien need to follow during his intervention if there is any.', 'type': 'string'}}, 'required': ['title', 'criticity', 'instructions'], 'type': 'object'}}}\n",
      "_format_to_gapic_function_declaration\n",
      "{'type': 'function', 'function': {'name': 'retrieve_troubleshooting_guide', 'description': 'Search and return information from the troubleshooting guide\\n\\nArgs:\\n    query: The query to use to retrieve relevant informations, the query need to be as detailed as possible inorder to get most relevent information\\n\\nReturns: \\n    str: relevant information regarding the given query', 'parameters': {'properties': {'query': {'type': 'string'}}, 'required': ['query'], 'type': 'object'}}}\n",
      "_format_to_gapic_function_declaration\n",
      "{'type': 'function', 'function': {'name': 'order_item', 'description': \"Order the given item in case it doesn't existe the stock\", 'parameters': {'properties': {'item_name': {'description': 'name of item to be ordered.', 'type': 'string'}, 'supplier_infos': {'description': 'supplier contact informations.', 'type': 'string'}, 'quantity': {'description': 'number of element to be ordered.', 'type': 'integer'}}, 'required': ['item_name', 'supplier_infos', 'quantity'], 'type': 'object'}}}\n",
      "===================AI Message===================\n",
      " content='The error code E18XP indicates a faulty pressure sensor (XXPSXL).  The troubleshooting guide recommends immediate replacement.\\n\\n' additional_kwargs={'function_call': {'name': 'check_stock', 'arguments': '{\"item_name\": \"XXPSXL\"}'}} response_metadata={'is_blocked': False, 'safety_ratings': [], 'usage_metadata': {'prompt_token_count': 6105, 'candidates_token_count': 35, 'total_token_count': 6140, 'prompt_tokens_details': [{'modality': 1, 'token_count': 6105}], 'candidates_tokens_details': [{'modality': 1, 'token_count': 35}], 'cached_content_token_count': 0, 'cache_tokens_details': []}, 'finish_reason': 'STOP', 'avg_logprobs': -0.02178123848778861} id='run-6c533701-c1f1-4c87-8e07-4b54aa6ee15f-0' tool_calls=[{'name': 'check_stock', 'args': {'item_name': 'XXPSXL'}, 'id': '0f7230e0-423d-4516-b894-6b52510e66cc', 'type': 'tool_call'}] usage_metadata={'input_tokens': 6105, 'output_tokens': 35, 'total_tokens': 6140}\n",
      "\n",
      "\n",
      "[{'name': 'check_stock', 'args': {'item_name': 'XXPSXL'}, 'id': '0f7230e0-423d-4516-b894-6b52510e66cc', 'type': 'tool_call'}]\n"
     ]
    }
   ],
   "source": [
    "call_agent(messages)"
   ]
  },
  {
   "cell_type": "code",
   "execution_count": 30,
   "metadata": {},
   "outputs": [
    {
     "name": "stdout",
     "output_type": "stream",
     "text": [
      "XXPSXL\n",
      "===================Tool Message===================\n",
      " content='0' name='check_stock' tool_call_id='0f7230e0-423d-4516-b894-6b52510e66cc'\n",
      "\n",
      "\n"
     ]
    }
   ],
   "source": [
    "call_tool(messages[-1], messages)"
   ]
  },
  {
   "cell_type": "code",
   "execution_count": 31,
   "metadata": {},
   "outputs": [
    {
     "name": "stdout",
     "output_type": "stream",
     "text": [
      "_format_to_gapic_function_declaration\n",
      "{'type': 'function', 'function': {'name': 'check_stock', 'description': 'Check the stock for the given item', 'parameters': {'properties': {'item_name': {'description': 'The item name*', 'type': 'string'}}, 'required': ['item_name'], 'type': 'object'}}}\n",
      "_format_to_gapic_function_declaration\n",
      "{'type': 'function', 'function': {'name': 'notify_technicien', 'description': 'Notify the technicien that something goes wrong and instruct him on what need to be done.', 'parameters': {'properties': {'title': {'description': 'Title of the notification to be send', 'type': 'string'}, 'criticity': {'description': 'Criticity of the action, varrying from 1 to 5, with: 1 -> low 2 -> medium 3 -> high 4 -> critical 5 -> extremly critical', 'type': 'integer'}, 'instructions': {'description': 'list of insctructions that the technicien need to follow during his intervention if there is any.', 'type': 'string'}}, 'required': ['title', 'criticity', 'instructions'], 'type': 'object'}}}\n",
      "_format_to_gapic_function_declaration\n",
      "{'type': 'function', 'function': {'name': 'retrieve_troubleshooting_guide', 'description': 'Search and return information from the troubleshooting guide\\n\\nArgs:\\n    query: The query to use to retrieve relevant informations, the query need to be as detailed as possible inorder to get most relevent information\\n\\nReturns: \\n    str: relevant information regarding the given query', 'parameters': {'properties': {'query': {'type': 'string'}}, 'required': ['query'], 'type': 'object'}}}\n",
      "_format_to_gapic_function_declaration\n",
      "{'type': 'function', 'function': {'name': 'order_item', 'description': \"Order the given item in case it doesn't existe the stock\", 'parameters': {'properties': {'item_name': {'description': 'name of item to be ordered.', 'type': 'string'}, 'supplier_infos': {'description': 'supplier contact informations.', 'type': 'string'}, 'quantity': {'description': 'number of element to be ordered.', 'type': 'integer'}}, 'required': ['item_name', 'supplier_infos', 'quantity'], 'type': 'object'}}}\n",
      "===================AI Message===================\n",
      " content='There are no XXPSXL pressure sensors in stock.  I need to order them before a technician can proceed with the repair.  Please provide supplier information.\\n\\n' additional_kwargs={'function_call': {'name': 'order_item', 'arguments': '{\"quantity\": 1.0, \"item_name\": \"XXPSXL\", \"supplier_infos\": \"GlobalTech Solutions: +1-555-123-4567, support@globaltechsolutions.com\"}'}} response_metadata={'is_blocked': False, 'safety_ratings': [], 'usage_metadata': {'prompt_token_count': 6145, 'candidates_token_count': 73, 'total_token_count': 6218, 'prompt_tokens_details': [{'modality': 1, 'token_count': 6145}], 'candidates_tokens_details': [{'modality': 1, 'token_count': 73}], 'cached_content_token_count': 0, 'cache_tokens_details': []}, 'finish_reason': 'STOP', 'avg_logprobs': -0.04524133303394056} id='run-ac71f68f-3dab-4364-adfb-fd202c54806b-0' tool_calls=[{'name': 'order_item', 'args': {'quantity': 1.0, 'item_name': 'XXPSXL', 'supplier_infos': 'GlobalTech Solutions: +1-555-123-4567, support@globaltechsolutions.com'}, 'id': 'ea7023bf-2ac7-4e55-b897-bd4ed741292c', 'type': 'tool_call'}] usage_metadata={'input_tokens': 6145, 'output_tokens': 73, 'total_tokens': 6218}\n",
      "\n",
      "\n",
      "[{'name': 'order_item', 'args': {'quantity': 1.0, 'item_name': 'XXPSXL', 'supplier_infos': 'GlobalTech Solutions: +1-555-123-4567, support@globaltechsolutions.com'}, 'id': 'ea7023bf-2ac7-4e55-b897-bd4ed741292c', 'type': 'tool_call'}]\n"
     ]
    }
   ],
   "source": [
    "call_agent(messages)"
   ]
  },
  {
   "cell_type": "code",
   "execution_count": 32,
   "metadata": {},
   "outputs": [
    {
     "name": "stdout",
     "output_type": "stream",
     "text": [
      "===================Tool Message===================\n",
      " content='1 element of XXPSXL has been ordred from GlobalTech Solutions: +1-555-123-4567, support@globaltechsolutions.com' name='order_item' tool_call_id='ea7023bf-2ac7-4e55-b897-bd4ed741292c'\n",
      "\n",
      "\n"
     ]
    }
   ],
   "source": [
    "call_tool(messages[-1], messages)"
   ]
  },
  {
   "cell_type": "code",
   "execution_count": 33,
   "metadata": {},
   "outputs": [
    {
     "name": "stdout",
     "output_type": "stream",
     "text": [
      "_format_to_gapic_function_declaration\n",
      "{'type': 'function', 'function': {'name': 'check_stock', 'description': 'Check the stock for the given item', 'parameters': {'properties': {'item_name': {'description': 'The item name*', 'type': 'string'}}, 'required': ['item_name'], 'type': 'object'}}}\n",
      "_format_to_gapic_function_declaration\n",
      "{'type': 'function', 'function': {'name': 'notify_technicien', 'description': 'Notify the technicien that something goes wrong and instruct him on what need to be done.', 'parameters': {'properties': {'title': {'description': 'Title of the notification to be send', 'type': 'string'}, 'criticity': {'description': 'Criticity of the action, varrying from 1 to 5, with: 1 -> low 2 -> medium 3 -> high 4 -> critical 5 -> extremly critical', 'type': 'integer'}, 'instructions': {'description': 'list of insctructions that the technicien need to follow during his intervention if there is any.', 'type': 'string'}}, 'required': ['title', 'criticity', 'instructions'], 'type': 'object'}}}\n",
      "_format_to_gapic_function_declaration\n",
      "{'type': 'function', 'function': {'name': 'retrieve_troubleshooting_guide', 'description': 'Search and return information from the troubleshooting guide\\n\\nArgs:\\n    query: The query to use to retrieve relevant informations, the query need to be as detailed as possible inorder to get most relevent information\\n\\nReturns: \\n    str: relevant information regarding the given query', 'parameters': {'properties': {'query': {'type': 'string'}}, 'required': ['query'], 'type': 'object'}}}\n",
      "_format_to_gapic_function_declaration\n",
      "{'type': 'function', 'function': {'name': 'order_item', 'description': \"Order the given item in case it doesn't existe the stock\", 'parameters': {'properties': {'item_name': {'description': 'name of item to be ordered.', 'type': 'string'}, 'supplier_infos': {'description': 'supplier contact informations.', 'type': 'string'}, 'quantity': {'description': 'number of element to be ordered.', 'type': 'integer'}}, 'required': ['item_name', 'supplier_infos', 'quantity'], 'type': 'object'}}}\n",
      "===================AI Message===================\n",
      " content=\"Okay, I've ordered one XXPSXL pressure sensor from GlobalTech Solutions.  I will notify the technician once the part arrives.  In the meantime, the machine should be powered down to prevent further damage.\\n\" additional_kwargs={} response_metadata={'is_blocked': False, 'safety_ratings': [], 'usage_metadata': {'prompt_token_count': 6260, 'candidates_token_count': 45, 'total_token_count': 6305, 'prompt_tokens_details': [{'modality': 1, 'token_count': 6260}], 'candidates_tokens_details': [{'modality': 1, 'token_count': 45}], 'cached_content_token_count': 0, 'cache_tokens_details': []}, 'finish_reason': 'STOP', 'avg_logprobs': -0.03542500336964925} id='run-f55d29ce-315a-4c73-ad39-9d1af524c96f-0' usage_metadata={'input_tokens': 6260, 'output_tokens': 45, 'total_tokens': 6305}\n",
      "\n",
      "\n",
      "[]\n"
     ]
    }
   ],
   "source": [
    "call_agent(messages)"
   ]
  },
  {
   "cell_type": "markdown",
   "metadata": {},
   "source": [
    "#### 3.apply tool calling , flaver3\n",
    "in the previous execution (2), the agent did what it has to do (check doc, check stock, order item) but it didn't notify the technicien waiting for the part to arrive (after ordering it)<br>\n",
    "I'll use the same nofification, but make some changes on the prompt"
   ]
  },
  {
   "cell_type": "code",
   "execution_count": null,
   "metadata": {},
   "outputs": [],
   "source": [
    "prompt_3 = \"\"\"\n",
    "You are an AI-powered predictive maintenance agent responsible for handling machine failure notifications and autonomously determining the correct actions to resolve issues. \n",
    "\n",
    "### 🔹 Your Role & Responsibilities:\n",
    "- You **analyze incoming machine notifications** and decide on the best course of action.\n",
    "- You have access to **various tools** that allow you to achieve your task:\n",
    "- **You must decide** the most effective way to resolve each problem by using the available tools in the correct order.\n",
    "- The technicien is your only way to interact with the machines, whenever you need to do something on the machines you need to notify the technicien to do it.\n",
    "---\n",
    "\n",
    "### 🔹 How to Operate:\n",
    "1. **Understand the Problem**  \n",
    "   - Process the incoming machine notification.\n",
    "   - Retrieve context from the **machine guide** to determine what needs to be done.\n",
    "\n",
    "2. **Decide on the Necessary Actions**  \n",
    "   - Identify the required steps and use the appropriate tools in the right order.\n",
    "   - Example considerations:\n",
    "     - Does a machine part need to be replaced? → Check stock availability first.\n",
    "     - Is the problem fixable without replacement? → Provide repair instructions.\n",
    "     - Is the issue critical? → Alert the technicien with detailed instructions, and ask him to shut down the machine if necessary.\n",
    "     - Is a tool missing? → Order it before, and if needed instruct the technicien on what to do until the the tool arrive.\n",
    "\n",
    "3. **Execute the Actions Using the Available Tools**  \n",
    "   - If a part needs replacement, **check stock first** before notifying the technicien.\n",
    "   - If the part is unavailable, **place an order** and notify relevant personnel with detailed informations /insctructions.\n",
    "   - If the issue requires manual intervention, **provide clear instructions** to the technicien.\n",
    "   - If unsure about what action to take, **ask for additional context**.\n",
    "\n",
    "4. **Always Provide a Clear and Actionable Response**  \n",
    "   - Use structured responses when interacting with techniciens or requesting actions.\n",
    "   - If you cannot determine the appropriate action, **say so explicitly** instead of making incorrect assumptions.\n",
    "\n",
    "5. ** Execute an action on the machine**\n",
    "    - For some reason the machine need to shutdown → notify the technicien to shutdown the machine\n",
    "---\n",
    "\n",
    "### 🔹 Example Scenarios:\n",
    "💡 **Scenario 1: The agent determines a part replacement is required**\n",
    "Notification: `\"High temperature detected in Motor X.\"`\n",
    "1. Check the **machine guide** → Motor overheating requires a **cooling fan replacement**.\n",
    "2. Use the **stock check tool** → 3 cooling fans available.\n",
    "3. Notify the technicien\n",
    "\"\"\"\n",
    "\n",
    "@tool(parse_docstring=True)\n",
    "def notify_technicien(title: str, criticity: int, instructions: str) -> str: \n",
    "    \"\"\"\n",
    "    Notify the technicien that something goes wrong and instruct him on what need to be done.\n",
    "    The technicien is the only way to interact with the machine\n",
    "    \n",
    "    Args:\n",
    "        title: Title of the notification to be send\n",
    "        criticity: Criticity of the action, varrying from 1 to 5, with:\n",
    "            1 -> low\n",
    "            2 -> medium\n",
    "            3 -> high\n",
    "            4 -> critical\n",
    "            5 -> extremly critical\n",
    "        instructions: list of insctructions that the technicien need to follow during his intervention if there is any.\n",
    "    \n",
    "    Returns:\n",
    "        str: the state of the notification send\n",
    "    \"\"\"\n",
    "    return \"Notification had beed send\"\n",
    "\n"
   ]
  },
  {
   "cell_type": "code",
   "execution_count": 6,
   "metadata": {},
   "outputs": [],
   "source": [
    "agent_tools = [check_stock, notify_technicien, retrieve_troubleshooting_guide, order_item]\n",
    "llm_with_tools = llm.bind_tools(agent_tools)\n",
    "\n",
    "tool_map = {\"check_stock\":check_stock, \"notify_technicien\":notify_technicien, \"retrieve_troubleshooting_guide\":retrieve_troubleshooting_guide, \"order_item\":order_item}\n",
    "# humain_msg = \"I'm getting this error code E18XP what do I have to do ?\"\n",
    "humain_msg = \"error code : E18XP\"\n",
    "messages= [\n",
    "    SystemMessage(content=prompt_3),\n",
    "    HumanMessage(content=humain_msg)\n",
    "]"
   ]
  },
  {
   "cell_type": "code",
   "execution_count": 7,
   "metadata": {},
   "outputs": [
    {
     "name": "stdout",
     "output_type": "stream",
     "text": [
      "_format_to_gapic_function_declaration\n",
      "{'type': 'function', 'function': {'name': 'check_stock', 'description': 'Check the stock for the given item', 'parameters': {'properties': {'item_name': {'description': 'The item name*', 'type': 'string'}}, 'required': ['item_name'], 'type': 'object'}}}\n",
      "_format_to_gapic_function_declaration\n",
      "{'type': 'function', 'function': {'name': 'notify_technicien', 'description': 'Notify the technicien that something goes wrong and instruct him on what need to be done.\\nThe technicien is the only way to interact with the machine', 'parameters': {'properties': {'title': {'description': 'Title of the notification to be send', 'type': 'string'}, 'criticity': {'description': 'Criticity of the action, varrying from 1 to 5, with: 1 -> low 2 -> medium 3 -> high 4 -> critical 5 -> extremly critical', 'type': 'integer'}, 'instructions': {'description': 'list of insctructions that the technicien need to follow during his intervention if there is any.', 'type': 'string'}}, 'required': ['title', 'criticity', 'instructions'], 'type': 'object'}}}\n",
      "_format_to_gapic_function_declaration\n",
      "{'type': 'function', 'function': {'name': 'retrieve_troubleshooting_guide', 'description': 'Search and return information from the troubleshooting guide\\n\\nArgs:\\n    query: The query to use to retrieve relevant informations, the query need to be as detailed as possible inorder to get most relevent information\\n\\nReturns: \\n    str: relevant information regarding the given query', 'parameters': {'properties': {'query': {'type': 'string'}}, 'required': ['query'], 'type': 'object'}}}\n",
      "_format_to_gapic_function_declaration\n",
      "{'type': 'function', 'function': {'name': 'order_item', 'description': \"Order the given item in case it doesn't existe the stock\", 'parameters': {'properties': {'item_name': {'description': 'name of item to be ordered.', 'type': 'string'}, 'supplier_infos': {'description': 'supplier contact informations.', 'type': 'string'}, 'quantity': {'description': 'number of element to be ordered.', 'type': 'integer'}}, 'required': ['item_name', 'supplier_infos', 'quantity'], 'type': 'object'}}}\n",
      "===================AI Message===================\n",
      " content='' additional_kwargs={'function_call': {'name': 'retrieve_troubleshooting_guide', 'arguments': '{\"query\": \"error code : E18XP\"}'}} response_metadata={'is_blocked': False, 'safety_ratings': [], 'usage_metadata': {'prompt_token_count': 814, 'candidates_token_count': 14, 'total_token_count': 828, 'prompt_tokens_details': [{'modality': 1, 'token_count': 814}], 'candidates_tokens_details': [{'modality': 1, 'token_count': 14}], 'cached_content_token_count': 0, 'cache_tokens_details': []}, 'finish_reason': 'STOP', 'avg_logprobs': -4.3339792422817225e-06} id='run-58517ca5-b1d3-46a3-933f-8931fda02c7d-0' tool_calls=[{'name': 'retrieve_troubleshooting_guide', 'args': {'query': 'error code : E18XP'}, 'id': 'ad6e42e0-9eea-4af3-b77c-cf0473eb8766', 'type': 'tool_call'}] usage_metadata={'input_tokens': 814, 'output_tokens': 14, 'total_tokens': 828}\n",
      "\n",
      "\n",
      "[{'name': 'retrieve_troubleshooting_guide', 'args': {'query': 'error code : E18XP'}, 'id': 'ad6e42e0-9eea-4af3-b77c-cf0473eb8766', 'type': 'tool_call'}]\n",
      "===================Tool Message===================\n",
      " content='[Document(metadata={\\'emphasized_text_contents\\': [\\'Always power down and disconnect the machine before attempting any component replacement.\\', \\'Component Name\\', \\'Description\\', \\'Replacement Interval/Conditions\\', \\'Replacement Instructions\\', \\'Safety Precautions\\', \\'Supplier(s) & Contact\\', \\'What to do in this case\\'], \\'emphasized_text_tags\\': [\\'b\\', \\'b\\', \\'b\\', \\'b\\', \\'b\\', \\'b\\', \\'b\\', \\'b\\'], \\'filetype\\': \\'text/markdown\\', \\'orig_elements\\': \\'eJy9Vl9v2zYQ/yoHP6zt5qiSJVuW+9Ii7YYATWAsGRagKIITdbKJUqRAUnG8Yt99R8mu3aRrOqzbi2GRx+Pd789J7z6OSFFD2t/IarSAUTHDejonmiLVWVELojgr8pzmOZVFVqWjMYwa8lihR47/OBLoaWXs9qai1q95KeGIWiry25ZCRk93/nmD9kNlNjocV6hXHa7I8e67EenV6D2vtmgPVWCMdVFRUiRFmaf5LMM8judJLLCMUZTZ6M/xkDgEn52dRXCOUnvSqAUB6gp+pVah6DsLd+6LuZJeUTh9v++yyEWK3G8lspgmdZWWQsxwNqVJxnd/Q9+T79D3o+gf951GEzhdc1LCUhEs0Xq3+KZm55N0kqezSUkijyd5klaiLOdpghXxo6AHzVLTrtHJP6i6CbffCBPA9kMnr9QGtw5asyELodmegEo6jtIkPPg1QYNiLTVBSbWxTJH3nNNLveLgLQjTtEZzRrAH3qIen/tXe1wN15b99r9F/FHejxG/4kZqo5TZhMJ9D7uSzjtApfal96ufGnJg6h6A6zSOY7jqbGl+lndkxyC1UF3VZ1qTZOjICSsZFKPd+BgICNK2t6h4OUArtfO2E31gBP8d/EdSukBr0ctbugpQfEFSeT2dpGWcMJBxMZ0lSZ1koigpFVjNZ/OHknrgn/T/ZvP6enl5/fabDCNomrFlRB1PRZGmeYmIWTbDuUizeVnU/8wwp5/gvsCmR+b1gfrweDS84GzH/fNToyvZc/4w5KCHsHeJNaMIS0sCu8Nq17ZKkn3qnsEPwNk8in42/r5GFolh7bCyWC3SgUBHj7mPd7/y8z28+aimjtn8HNRF6N65jrV+SdoZC0cQL+DcaOmNdeC2jp0A7S44gisrVyvinTfJ/HoJZC2fFaYi2KxJQ42d8tsIHmFosQ8A2TRUSda62kLHBbLDBMnb4Lz7N9zPeiB1AT9CEsHrg6cHtzNpXxotEYdPInhrgseGiF7q4AYonlqqh9Ov2pa45jvI+F3Ck4HHBq4sNs9CijSCU6aj7hTXfm+e7DJtpA2drNFqBjCCC7O7cBfLxXOpMozBkN0SOkdNqbYhfxbBb5pJoc1xysZ0uh9MpUXxgTw87dxuRgK2rTWtDXBCECX0pyvLc8n2JU8Dho25HYowqtpn3Y/NMKfDluZLh61wbMa8y9WaHToMy/slOBIsjqHqPFxxDMXnGIyBs3b9Cu7OHYEREswjWPbsGf3ZaA4lch+y3kLd6T4clQxie+jnBbzRvbgHHbBjD/xQtZ/y/G1QKa4k2nuA40LTMgzyF4C3RvKLghFtQ7kBJZ4Q2/Cf7gT3wlGBNsHK/OLwWMAvypSorkis4dKofW0/JSfT6fQkmaQn2XSWj8HxaWP9y1Uf7jnc7aMjfve8gHNeWlqz+4bZJyjm+cmMB+8Y2rD+suGoIIDwEM7B30yuBewMo42Xtdz2MIdbtRSSOcbSdAN3kl1Pg1vEmsSHQYje8L+g1/D0ZPDOk6+8Dd//BcGjx1A=\\', \\'source\\': \\'doc_latest.md\\'}, page_content=\"III. Maintenance and Replacement\\\\n\\\\n3.2 Changeable Parts:\\\\n\\\\nThe following table lists all replaceable components of the X3000 TurboFixer, including their descriptions, replacement intervals, and instructions. Always power down and disconnect the machine before attempting any component replacement.\\\\n\\\\nXXPSXL\\\\n\\\\nComponent Name: Pressure Sensor Description: Monitors system pressure. Triggers E18XP error code when faulty. Replacement Interval/Conditions: Replace immediately upon receiving E18XP error code. Replacement Instructions: * 1. Disconnect power to the X3000 TurboFixer. * 2. Locate the XXPSXL sensor (refer to Appendix 4.2 for diagram). * 3. Carefully disconnect the sensor wiring harness. Note the connection points for reassembly. * 4. Unscrew the sensor mounting bracket (using the appropriate size screwdriver). * 5. Remove the old sensor and install the new sensor. * 6. Tighten the mounting bracket securely. * 7. Reconnect the wiring harness, ensuring a secure connection. * 8. Power on the machine and verify functionality. Safety Precautions: Ensure power is disconnected before handling. Sensor is sensitive; avoid dropping or applying excessive force. Supplier(s) & Contact: GlobalTech Solutions: +1-555-123-4567, support@globaltechsolutions.com; MechPro Parts: +1-555-987-6543, parts@mechproparts.com\\'\"), Document(metadata={\\'emphasized_text_contents\\': [\\'E31:\\', \\'E32:\\', \\'E33:\\', \\'E34:\\', \\'E35:\\', \\'E18XP\\', \\'Phone:\\', \\'Email:\\', \\'Website:\\', \\'Important:\\'], \\'emphasized_text_tags\\': [\\'b\\', \\'b\\', \\'b\\', \\'b\\', \\'b\\', \\'b\\', \\'b\\', \\'b\\', \\'b\\', \\'b\\'], \\'filetype\\': \\'text/markdown\\', \\'orig_elements\\': \\'eJzNl29v2zYQxr8K4Vcb1mQU/9Ov1rUdEKAbAqTbAhRFcCSPsRZZMiQ5qVvsu+9kx0maBIu6GpkBv7DNk8T7PXfHR+8/T7DCOdb9WZkmUzZJkXOflOBolUgcVQhOei4TauO1g8kLNpljDwl6oPjPkwg9njft6izhop/RX5Iicllhv1rgcMceP/Y/zqG9SM1VPVxeQX2+hHPsaPX9BOvzyQf6dwHt7S6cc9F77r3y3sgClVbCO6MKHxQvvJn8/WJz4yFYHMpDzV6mS6gjJvambZu2mw5P2m7hXdlXOFxzP1tAXYANnjIMMqB0WfjkFfiQZXCIT2dbUATOFzPoyk+YzoY9ncWm7ukZm/zeyGK6TvB+VA/nm4iwXv5WZE8KdxfZsCl2RLtsa6jYq2Y+X9Yl5VY29YYfO2CvZhgvWLkNil8EhWX3gv6qa4zDb/oBdRpiFk09pH54F//bsuuPepw/poDxDlTA4K0OKYOSpK+zGcMgSVRqJwqIfVRATNlrSoqd9E1LN77HfciXdddLCS/LiI8ADxAvlgu2aBuq/GWL47kL4aWJInKrUHINyYNLSYaiUFZ5x3fCXe4jdzllJ03ur+gW7PcF5XcffbddXW5W13Q7Il5jf9W0F3dk2Khwc8FQ/9QfoazKfjVaCs+1ydLbIK1DH2OWwgQhkgGkj9iNFGofpVAkBcZlS7TYyaojPvel2K52m9UO+76sz4fqj4MmgxR921TX7QAVtPPr2PGtoICQg5A6Fw5tcF5AstzoKFNGNebIG8Ff7yN/Pd1ifwVVGdovD4A/sC3zDfp4J+J23mywp7+WXc+gow7BhGk0+cQ1nbLOJcOVLIKiwleajv0ceSFjNLsgX7jT4/1DP+yKHRPAjihSE9QdId+Cb3FRQUTWz/BBzHfH0PZU9gnZlJ2eHp+cvv1+dKGnArLlOpuUBffaS0FDJ1guIxcciqdxi114O7JxihQnfXURoBBeYRYWMERLExDueTtF9qTuIQ59z06Wi0XT9qO8nSFf55xVgSsjBFobrC9osuYotEERH2T7rYk9ifduYkeZrZolWx8zNYSK1G5I+K6pLjfClyQ7Mshkv1huqqq5GgAMKzTwlnRBN2uaNRRqzwU1YmguySIsKoQO13ORmK3jTyXnnL1btqH5pfxIt+s2FFmPMKd7t9S5HZXNYJ+/aN3foB0a/hLfDZt+DLFOykRugnOeI0SefAG6QCGTtbnIO+jf4xkZymeZnV8l32Zb7IfiwHF+oLU+KEQhxjaiRm0DuS2uRER60dAIYLjWGLIyEvwu5t4cymr/uG22ta3An/qbojwk7zQaX3TS5mjAGp8Ko61UmaYJ96i9iXkXB/afGLqy38PC226MXV1dHf43fMkYcv1gi6yNQGNjMpqe5QEgkwGyD/D9K6mj+aAk1P3+sbrdGvsZac7djMX11NyU4M3EnMH14L0dtmVNF803lqdFSKvpV01H7ZSXaCSKHEAJrY112QuF6IJJY7v8WYn9Sr6iYvVyHuiYaPKjx8dotyFNLiAAYMyBO3rdNCk4EKqgr9Y/LLP/P/0TcrxwP/85xFlZ4+gX6yLbTI7G2iRj5lJoUC4EibagF2wcYbKePe3X2MW2XKzr/DppcvhkMUaPFB+sFolEDfQtEgKl6K3KusCFNyaPNPLPmvTLesVwbbgHM92xVHbkuleYRp9CmfuQtEVveFLkNF3hYhZKRiEDFfse5nyydoqD71xPO6jWU431cIH14D/vOstbE/o4kA//ABVQDow=\\', \\'source\\': \\'doc_latest.md\\'}, page_content=\\'2.3.5 Advanced Errors:\\\\n\\\\nE31: Internal Communication Error - Check internal communication bus, connections, and components.\\\\n\\\\nE32: Data Storage Error - Check data storage device, connections, and backup procedures.\\\\n\\\\nE33: Software Update Error - Check software update process, network connection, and software compatibility.\\\\n\\\\nE34: Security System Error - Check security system settings, access controls, and alarm systems.\\\\n\\\\nE35: System Calibration Error - Verify system calibration procedures and adjust as needed.\\\\n\\\\nE18XP Pressure Sensor Error - replace the Pressure Sensor (Part code : XXPSXL)\\\\n\\\\n2.4 Contacting Support\\\\n\\\\nIf you are unable to resolve the issue after following the troubleshooting steps above, please contact the X3000 TurboFixer support team for assistance.\\\\n\\\\nPhone: +1-800-555-1212\\\\n\\\\nEmail: support@turboFixer.com\\\\n\\\\nWebsite: www.turboFixer.com\\\\n\\\\nImportant: Before contacting support, please have the following information ready:\\\\n\\\\nModel number of the X3000 TurboFixer\\\\n\\\\nSerial number of the machine\\\\n\\\\nDescription of the problem\\\\n\\\\nAny error codes displayed\\\\n\\\\nSteps you have already taken to troubleshoot the issue\\'), Document(metadata={\\'emphasized_text_contents\\': [\\'E11:\\', \\'E12:\\', \\'E13:\\', \\'E14:\\', \\'E15:\\', \\'E16:\\', \\'E17:\\', \\'E18:\\', \\'E19:\\', \\'E20:\\'], \\'emphasized_text_tags\\': [\\'b\\', \\'b\\', \\'b\\', \\'b\\', \\'b\\', \\'b\\', \\'b\\', \\'b\\', \\'b\\', \\'b\\'], \\'filetype\\': \\'text/markdown\\', \\'orig_elements\\': \\'eJzN191r2zAQAPB/Rfg56/T9kddS2GCDQcdeygiS7pSaJrax3XZZ2f8+uU62Ni0UWhf8mNNZvvv5ENHFXYEb3GLVr0oolqRIwUvQSoC1IjLnuFIgIkUqVDLAaLEgxRZ7D773Of+uiL7Hdd3uVoBNf5lDImekcoP9rsFhxx5/9R+3vr2C+rYaHt/4an3t19jl1YsCq3XxM0cb3/6vwlobnaPOSee0YCiV5M5qyVyQlDld/FmMGw/J/ESccHLeYCxTGclpvW3qKu9Fztq2brvl8M5DMd/LfoPD08d9e2TKasDEI/MSGbdGMGkgaJUgcP9y3yxn4La59F35G2E1VLeKddXnd4ydnjG2vG/1OKv36zEj3C+/Fe/FT/gQbyiKfK37uiVsBCMfyOklxiuy3UdzExXGvqyrbkGa+hZb0l03zWa3IL6CfVq6ru5T/KbsdycPyb+UXf+5x+1z6kADV5F6rZOzllmltHPorLSIwhgziTqfozo/qPNn1fl7qmPKk06DC0yB4ywGbQWqJAyCTsbLSdTFHNXFkpxj1T0z7N0h/Mg9ZtjQ+uHXyP468ORT8pyiRAvIXD5RqIBopHUynzYgJgGXcwSX/8CP57w7hN8D3CmvgWuGEJwCFlXkwHTi1CXuLbWTgKs5gqsl+eE3N/hkwG/20UfcdYNvx87WCZnmXDprEhgf0el8lFPFAseJplvPEVsfsI+H+2YfnR47j7GTRrtog4SkmabGJW1tkjwmzmASbDNHbLMk3663zZPBbsbg9NSRMfCGGsVopCCFiBp19KjymEvBp5lrO0dqu6c+HutmDE5P7YBGr03KteU/3hEk1QrBMGGjdCmkSajdHKndknzC7FetydlIcmR+uV/dg70DvhEI1oR8vYLIbYySSomcWzBaBmPCFPiczhA/F5Vvi/Vm4D3fdZnnyD7uF7txMR5ulq+T//kXQQ/qOA==\\', \\'source\\': \\'doc_latest.md\\'}, page_content=\\'2.3.2 Specific Component Errors:\\\\n\\\\nE11: Motor 1 Error - Check motor 1 connections, power supply, and motor functionality.\\\\n\\\\nE12: Motor 2 Error - Check motor 2 connections, power supply, and motor functionality.\\\\n\\\\nE13: Sensor 1 Error - Check sensor 1 connections, calibration, and functionality.\\\\n\\\\nE14: Sensor 2 Error - Check sensor 2 connections, calibration, and functionality.\\\\n\\\\nE15: Valve 1 Error - Check valve 1 connections, operation, and functionality.\\\\n\\\\nE16: Valve 2 Error - Check valve 2 connections, operation, and functionality.\\\\n\\\\nE17: Pump 1 Error - Check pump 1 connections, operation, and functionality.\\\\n\\\\nE18: Pump 2 Error - Check pump 2 connections, operation, and functionality.\\\\n\\\\nE19: Heating Element Error - Check heating element connections, operation, and functionality.\\\\n\\\\nE20: Cooling System Error - Check cooling system components, operation, and functionality.\\'), Document(metadata={\\'emphasized_text_contents\\': [\\'E21:\\', \\'E22:\\', \\'E23:\\', \\'E24:\\', \\'E25:\\', \\'E26:\\', \\'E27:\\', \\'E28:\\', \\'E29:\\', \\'E30:\\'], \\'emphasized_text_tags\\': [\\'b\\', \\'b\\', \\'b\\', \\'b\\', \\'b\\', \\'b\\', \\'b\\', \\'b\\', \\'b\\', \\'b\\'], \\'filetype\\': \\'text/markdown\\', \\'orig_elements\\': \\'eJzNl02P2zYQhv8K4bO7Fb9JX9MUDbKHANmegmAxHA5tYWXJkWinTpD/Xsr2Jlsn6O42QuGbNDOShg9fviLffZ5RQ2tq820dZws2S4nAKKcxaMMV8AqMgQAxxSgkuDCbs9maMkTIUOo/zxAyLbt+fxtpk1clJEtFqhvK+w2Nb8z0V/51Df1d7D624+MNtMstLGko2Xczapez9yW6gf5bF8459L7yXnlvJCellfDOKO6Dqrg3sy/z44vHYnElryT7c6CevWoz9QmQ2Mu+7/phMX7vvpGbOjc0Pnk+ZpWEk0DaxGCFNUYE1FpIW1myXHn5+Jh5qaD1ZgVD/Yni7djZLXalmTYfR/lS8MVhmOdVGZbHinBI/yy4R6fvIbixKfaitNl3DXsDLTVHbOwX9mJFeMfwlNsccuWuJcx11w5z1m2oh/F6zqCNLG3bQwaaOu+vHlK/rof8KtP6R+AtJhRJaTKgCcs8W1VRSDoEopgqMQl4cYngxYL9Vg+bBvZnyOMpOj1sHbzDEIrIoSytpKxxzhjOLaLxyVWTwJaXCFsu2Gvahw76eEb77j48PW7QQoOsjLbORZBWISAGikIbicngJLjVJeJWC3bTbXE1YE/UnhHPDzLTQ+cygiDjtDFBauDaRS6TipW3IQKmC/17KfZ2P5QhsbcZ8nZ41s/LcWGcJysieh0tdzphMVUw3mrOvZ9EZ/p/0dmjs/dPnekFu+4+sjc9DcO2pzOhbe7DA7VDoTn/FulpuW0gH4Kj1oYj/Ibgbniy1IJJyvOgeZltboQyVap8KEvccA3J80m4m0vkbhbsj3q5+k/gm5oS20Gzo59hDwZBp2RVAMdR+xiSEsWeTAl6UtPsG+wlsrdHzd+Urka7/J5+fpD5OgErKs7aLk+wj+DrdhgXQbHYJ2OXNhhbMPOAKnJ0IshicQFjCGCtfcLZ4AnY3SVidyfJP5M7dl1zzn1XmqifDV74YjEKlasgoFDorI2qGFCUEq2bBLy/RPB+wX5vtnVk17T77niSDpnmkPnK/BgsjkP9rqvvLf6Z/qKiTkaj4RUmSMSrANKRq6icC5FPwltWF8i7NHXiPR4LYV23B6H+kHvprBy2C9+ThWNh3Ba5F68/beEOZR+2/7aFe/83i4tNxg==\\', \\'source\\': \\'doc_latest.md\\'}, page_content=\\'2.3.3 User Interface Errors:\\\\n\\\\nE21: Control Panel Error - Check control panel connections, operation, and functionality.\\\\n\\\\nE22: Display Error - Check display connections, operation, and functionality.\\\\n\\\\nE23: Keyboard Error - Check keyboard connections, operation, and functionality.\\\\n\\\\nE24: Touchscreen Error - Check touchscreen connections, operation, and functionality.\\\\n\\\\n2.3.4 System Status Errors:\\\\n\\\\nE25: Low Pressure Error - Check pressure sensors, pressure regulators, and system leaks.\\\\n\\\\nE26: High Pressure Error - Check pressure sensors, pressure relief valves, and system leaks.\\\\n\\\\nE27: Low Temperature Error - Check temperature sensors, heating system, and insulation.\\\\n\\\\nE28: High Temperature Error - Check temperature sensors, cooling system, and ventilation.\\\\n\\\\nE29: Fluid Level Error - Check fluid level sensors, fluid reservoirs, and leaks.\\\\n\\\\nE30: Fluid Contamination Error - Check fluid filters, system cleanliness, and fluid quality.\\')]' name='retrieve_troubleshooting_guide' tool_call_id='ad6e42e0-9eea-4af3-b77c-cf0473eb8766'\n",
      "\n",
      "\n"
     ]
    }
   ],
   "source": [
    "call_agent(messages,llm_with_tools)\n",
    "call_tool(messages,tool_map)"
   ]
  },
  {
   "cell_type": "code",
   "execution_count": 8,
   "metadata": {},
   "outputs": [
    {
     "name": "stdout",
     "output_type": "stream",
     "text": [
      "_format_to_gapic_function_declaration\n",
      "{'type': 'function', 'function': {'name': 'check_stock', 'description': 'Check the stock for the given item', 'parameters': {'properties': {'item_name': {'description': 'The item name*', 'type': 'string'}}, 'required': ['item_name'], 'type': 'object'}}}\n",
      "_format_to_gapic_function_declaration\n",
      "{'type': 'function', 'function': {'name': 'notify_technicien', 'description': 'Notify the technicien that something goes wrong and instruct him on what need to be done.\\nThe technicien is the only way to interact with the machine', 'parameters': {'properties': {'title': {'description': 'Title of the notification to be send', 'type': 'string'}, 'criticity': {'description': 'Criticity of the action, varrying from 1 to 5, with: 1 -> low 2 -> medium 3 -> high 4 -> critical 5 -> extremly critical', 'type': 'integer'}, 'instructions': {'description': 'list of insctructions that the technicien need to follow during his intervention if there is any.', 'type': 'string'}}, 'required': ['title', 'criticity', 'instructions'], 'type': 'object'}}}\n",
      "_format_to_gapic_function_declaration\n",
      "{'type': 'function', 'function': {'name': 'retrieve_troubleshooting_guide', 'description': 'Search and return information from the troubleshooting guide\\n\\nArgs:\\n    query: The query to use to retrieve relevant informations, the query need to be as detailed as possible inorder to get most relevent information\\n\\nReturns: \\n    str: relevant information regarding the given query', 'parameters': {'properties': {'query': {'type': 'string'}}, 'required': ['query'], 'type': 'object'}}}\n",
      "_format_to_gapic_function_declaration\n",
      "{'type': 'function', 'function': {'name': 'order_item', 'description': \"Order the given item in case it doesn't existe the stock\", 'parameters': {'properties': {'item_name': {'description': 'name of item to be ordered.', 'type': 'string'}, 'supplier_infos': {'description': 'supplier contact informations.', 'type': 'string'}, 'quantity': {'description': 'number of element to be ordered.', 'type': 'integer'}}, 'required': ['item_name', 'supplier_infos', 'quantity'], 'type': 'object'}}}\n",
      "===================AI Message===================\n",
      " content='The error code E18XP indicates a faulty pressure sensor (XXPSXL).  The troubleshooting guide recommends immediate replacement.\\n\\n' additional_kwargs={'function_call': {'name': 'check_stock', 'arguments': '{\"item_name\": \"XXPSXL\"}'}} response_metadata={'is_blocked': False, 'safety_ratings': [], 'usage_metadata': {'prompt_token_count': 6109, 'candidates_token_count': 35, 'total_token_count': 6144, 'prompt_tokens_details': [{'modality': 1, 'token_count': 6109}], 'candidates_tokens_details': [{'modality': 1, 'token_count': 35}], 'cached_content_token_count': 0, 'cache_tokens_details': []}, 'finish_reason': 'STOP', 'avg_logprobs': -0.03156796864100865} id='run-9ff0d1b8-8f67-4645-b09d-2e7b79a827ce-0' tool_calls=[{'name': 'check_stock', 'args': {'item_name': 'XXPSXL'}, 'id': '6c2c77e4-3930-4ef6-9c63-8e2eb4c1aa3c', 'type': 'tool_call'}] usage_metadata={'input_tokens': 6109, 'output_tokens': 35, 'total_tokens': 6144}\n",
      "\n",
      "\n",
      "[{'name': 'check_stock', 'args': {'item_name': 'XXPSXL'}, 'id': '6c2c77e4-3930-4ef6-9c63-8e2eb4c1aa3c', 'type': 'tool_call'}]\n",
      "XXPSXL\n",
      "===================Tool Message===================\n",
      " content='0' name='check_stock' tool_call_id='6c2c77e4-3930-4ef6-9c63-8e2eb4c1aa3c'\n",
      "\n",
      "\n"
     ]
    }
   ],
   "source": [
    "call_agent(messages,llm_with_tools)\n",
    "call_tool(messages,tool_map)"
   ]
  },
  {
   "cell_type": "code",
   "execution_count": 9,
   "metadata": {},
   "outputs": [
    {
     "name": "stdout",
     "output_type": "stream",
     "text": [
      "_format_to_gapic_function_declaration\n",
      "{'type': 'function', 'function': {'name': 'check_stock', 'description': 'Check the stock for the given item', 'parameters': {'properties': {'item_name': {'description': 'The item name*', 'type': 'string'}}, 'required': ['item_name'], 'type': 'object'}}}\n",
      "_format_to_gapic_function_declaration\n",
      "{'type': 'function', 'function': {'name': 'notify_technicien', 'description': 'Notify the technicien that something goes wrong and instruct him on what need to be done.\\nThe technicien is the only way to interact with the machine', 'parameters': {'properties': {'title': {'description': 'Title of the notification to be send', 'type': 'string'}, 'criticity': {'description': 'Criticity of the action, varrying from 1 to 5, with: 1 -> low 2 -> medium 3 -> high 4 -> critical 5 -> extremly critical', 'type': 'integer'}, 'instructions': {'description': 'list of insctructions that the technicien need to follow during his intervention if there is any.', 'type': 'string'}}, 'required': ['title', 'criticity', 'instructions'], 'type': 'object'}}}\n",
      "_format_to_gapic_function_declaration\n",
      "{'type': 'function', 'function': {'name': 'retrieve_troubleshooting_guide', 'description': 'Search and return information from the troubleshooting guide\\n\\nArgs:\\n    query: The query to use to retrieve relevant informations, the query need to be as detailed as possible inorder to get most relevent information\\n\\nReturns: \\n    str: relevant information regarding the given query', 'parameters': {'properties': {'query': {'type': 'string'}}, 'required': ['query'], 'type': 'object'}}}\n",
      "_format_to_gapic_function_declaration\n",
      "{'type': 'function', 'function': {'name': 'order_item', 'description': \"Order the given item in case it doesn't existe the stock\", 'parameters': {'properties': {'item_name': {'description': 'name of item to be ordered.', 'type': 'string'}, 'supplier_infos': {'description': 'supplier contact informations.', 'type': 'string'}, 'quantity': {'description': 'number of element to be ordered.', 'type': 'integer'}}, 'required': ['item_name', 'supplier_infos', 'quantity'], 'type': 'object'}}}\n"
     ]
    },
    {
     "name": "stderr",
     "output_type": "stream",
     "text": [
      "This model can reply with multiple function calls in one response. Please don't rely on `additional_kwargs.function_call` as only the last one will be saved.Use `tool_calls` instead.\n"
     ]
    },
    {
     "name": "stdout",
     "output_type": "stream",
     "text": [
      "===================AI Message===================\n",
      " content='There are no XXPSXL pressure sensors in stock. I will order some and then notify the technician.\\n\\n' additional_kwargs={'function_call': {'name': 'notify_technicien', 'arguments': '{\"instructions\": \"The machine should not be used until the pressure sensor is replaced. A new order has been placed (order ID: ...).  The estimated delivery time is ... .\", \"title\": \"Pressure Sensor Replacement Needed - Machine Downtime\", \"criticity\": 3.0}'}} response_metadata={'is_blocked': False, 'safety_ratings': [], 'usage_metadata': {'prompt_token_count': 6149, 'candidates_token_count': 111, 'total_token_count': 6260, 'prompt_tokens_details': [{'modality': 1, 'token_count': 6149}], 'candidates_tokens_details': [{'modality': 1, 'token_count': 111}], 'cached_content_token_count': 0, 'cache_tokens_details': []}, 'finish_reason': 'STOP', 'avg_logprobs': -0.10120200251673793} id='run-281d441d-25a3-454a-b94e-38df22c96e86-0' tool_calls=[{'name': 'order_item', 'args': {'quantity': 5.0, 'item_name': 'XXPSXL', 'supplier_infos': 'GlobalTech Solutions: +1-555-123-4567, support@globaltechsolutions.com'}, 'id': 'b983b7a3-2f65-45a0-9efc-91db578f4a9c', 'type': 'tool_call'}, {'name': 'notify_technicien', 'args': {'instructions': 'The machine should not be used until the pressure sensor is replaced. A new order has been placed (order ID: ...).  The estimated delivery time is ... .', 'title': 'Pressure Sensor Replacement Needed - Machine Downtime', 'criticity': 3.0}, 'id': '8585075b-d19c-468f-9b7d-21d9467b12f5', 'type': 'tool_call'}] usage_metadata={'input_tokens': 6149, 'output_tokens': 111, 'total_tokens': 6260}\n",
      "\n",
      "\n",
      "[{'name': 'order_item', 'args': {'quantity': 5.0, 'item_name': 'XXPSXL', 'supplier_infos': 'GlobalTech Solutions: +1-555-123-4567, support@globaltechsolutions.com'}, 'id': 'b983b7a3-2f65-45a0-9efc-91db578f4a9c', 'type': 'tool_call'}, {'name': 'notify_technicien', 'args': {'instructions': 'The machine should not be used until the pressure sensor is replaced. A new order has been placed (order ID: ...).  The estimated delivery time is ... .', 'title': 'Pressure Sensor Replacement Needed - Machine Downtime', 'criticity': 3.0}, 'id': '8585075b-d19c-468f-9b7d-21d9467b12f5', 'type': 'tool_call'}]\n"
     ]
    }
   ],
   "source": [
    "call_agent(messages,llm_with_tools)"
   ]
  },
  {
   "cell_type": "code",
   "execution_count": 11,
   "metadata": {},
   "outputs": [
    {
     "name": "stdout",
     "output_type": "stream",
     "text": [
      "===================Tool Message===================\n",
      " content='5 element of XXPSXL has been ordred from GlobalTech Solutions: +1-555-123-4567, support@globaltechsolutions.com' name='order_item' tool_call_id='b983b7a3-2f65-45a0-9efc-91db578f4a9c'\n",
      "\n",
      "\n",
      "===================Tool Message===================\n",
      " content='Notification had beed send' name='notify_technicien' tool_call_id='8585075b-d19c-468f-9b7d-21d9467b12f5'\n",
      "\n",
      "\n"
     ]
    }
   ],
   "source": [
    "call_tool(messages,tool_map)"
   ]
  },
  {
   "cell_type": "code",
   "execution_count": 12,
   "metadata": {},
   "outputs": [
    {
     "name": "stdout",
     "output_type": "stream",
     "text": [
      "_format_to_gapic_function_declaration\n",
      "{'type': 'function', 'function': {'name': 'check_stock', 'description': 'Check the stock for the given item', 'parameters': {'properties': {'item_name': {'description': 'The item name*', 'type': 'string'}}, 'required': ['item_name'], 'type': 'object'}}}\n",
      "_format_to_gapic_function_declaration\n",
      "{'type': 'function', 'function': {'name': 'notify_technicien', 'description': 'Notify the technicien that something goes wrong and instruct him on what need to be done.\\nThe technicien is the only way to interact with the machine', 'parameters': {'properties': {'title': {'description': 'Title of the notification to be send', 'type': 'string'}, 'criticity': {'description': 'Criticity of the action, varrying from 1 to 5, with: 1 -> low 2 -> medium 3 -> high 4 -> critical 5 -> extremly critical', 'type': 'integer'}, 'instructions': {'description': 'list of insctructions that the technicien need to follow during his intervention if there is any.', 'type': 'string'}}, 'required': ['title', 'criticity', 'instructions'], 'type': 'object'}}}\n",
      "_format_to_gapic_function_declaration\n",
      "{'type': 'function', 'function': {'name': 'retrieve_troubleshooting_guide', 'description': 'Search and return information from the troubleshooting guide\\n\\nArgs:\\n    query: The query to use to retrieve relevant informations, the query need to be as detailed as possible inorder to get most relevent information\\n\\nReturns: \\n    str: relevant information regarding the given query', 'parameters': {'properties': {'query': {'type': 'string'}}, 'required': ['query'], 'type': 'object'}}}\n",
      "_format_to_gapic_function_declaration\n",
      "{'type': 'function', 'function': {'name': 'order_item', 'description': \"Order the given item in case it doesn't existe the stock\", 'parameters': {'properties': {'item_name': {'description': 'name of item to be ordered.', 'type': 'string'}, 'supplier_infos': {'description': 'supplier contact informations.', 'type': 'string'}, 'quantity': {'description': 'number of element to be ordered.', 'type': 'integer'}}, 'required': ['item_name', 'supplier_infos', 'quantity'], 'type': 'object'}}}\n",
      "===================AI Message===================\n",
      " content=\"Okay. I've ordered 5 XXPSXL pressure sensors from GlobalTech Solutions. The technician has been notified.  The machine should remain offline until the part arrives and is installed.\\n\" additional_kwargs={} response_metadata={'is_blocked': False, 'safety_ratings': [], 'usage_metadata': {'prompt_token_count': 6312, 'candidates_token_count': 39, 'total_token_count': 6351, 'prompt_tokens_details': [{'modality': 1, 'token_count': 6312}], 'candidates_tokens_details': [{'modality': 1, 'token_count': 39}], 'cached_content_token_count': 0, 'cache_tokens_details': []}, 'finish_reason': 'STOP', 'avg_logprobs': -0.036094252879802995} id='run-33718153-51f9-4f08-961a-be5078004bd9-0' usage_metadata={'input_tokens': 6312, 'output_tokens': 39, 'total_tokens': 6351}\n",
      "\n",
      "\n",
      "[]\n"
     ]
    }
   ],
   "source": [
    "call_agent(messages,llm_with_tools)"
   ]
  },
  {
   "cell_type": "code",
   "execution_count": 15,
   "metadata": {},
   "outputs": [
    {
     "data": {
      "text/plain": [
       "[{'name': 'order_item',\n",
       "  'args': {'quantity': 5.0,\n",
       "   'item_name': 'XXPSXL',\n",
       "   'supplier_infos': 'GlobalTech Solutions: +1-555-123-4567, support@globaltechsolutions.com'},\n",
       "  'id': 'b983b7a3-2f65-45a0-9efc-91db578f4a9c',\n",
       "  'type': 'tool_call'},\n",
       " {'name': 'notify_technicien',\n",
       "  'args': {'instructions': 'The machine should not be used until the pressure sensor is replaced. A new order has been placed (order ID: ...).  The estimated delivery time is ... .',\n",
       "   'title': 'Pressure Sensor Replacement Needed - Machine Downtime',\n",
       "   'criticity': 3.0},\n",
       "  'id': '8585075b-d19c-468f-9b7d-21d9467b12f5',\n",
       "  'type': 'tool_call'}]"
      ]
     },
     "execution_count": 15,
     "metadata": {},
     "output_type": "execute_result"
    }
   ],
   "source": [
    "messages[-4].tool_calls"
   ]
  },
  {
   "cell_type": "code",
   "execution_count": null,
   "metadata": {},
   "outputs": [],
   "source": []
  }
 ],
 "metadata": {
  "kernelspec": {
   "display_name": "venv",
   "language": "python",
   "name": "python3"
  },
  "language_info": {
   "codemirror_mode": {
    "name": "ipython",
    "version": 3
   },
   "file_extension": ".py",
   "mimetype": "text/x-python",
   "name": "python",
   "nbconvert_exporter": "python",
   "pygments_lexer": "ipython3",
   "version": "3.12.9"
  }
 },
 "nbformat": 4,
 "nbformat_minor": 2
}
