{
 "cells": [
  {
   "cell_type": "markdown",
   "metadata": {},
   "source": [
    "I'm using this NB to generate synthetic data to be used for my RAG"
   ]
  },
  {
   "cell_type": "code",
   "execution_count": 6,
   "metadata": {},
   "outputs": [],
   "source": [
    "from langgraph.graph import START, END, StateGraph\n",
    "from langchain_core.messages import HumanMessage, SystemMessage\n",
    "from typing import  TypedDict, List\n",
    "from langchain_google_vertexai import ChatVertexAI\n",
    "from langgraph.checkpoint.memory import MemorySaver\n",
    "from IPython.display import Image, display\n",
    "\n",
    "from langchain_core.runnables.graph import MermaidDrawMethod\n",
    "from IPython.display import display_markdown\n"
   ]
  },
  {
   "cell_type": "code",
   "execution_count": 22,
   "metadata": {},
   "outputs": [],
   "source": [
    "plan_prompt = \"\"\"You are an expert technical writer and a machine repair specialist. Your task is to generate detailed 15 page or more,  documentation for repairing a fictional machine named : X3000 TurboFixer.\n",
    "Generate the documentation for the user's request and the initial outline.\"\"\"\n",
    "\n",
    "draft_prompt = \"\"\"\n",
    "You are an expert technical writer and a machine repair specialist. Your task is to generate detailed 15 page documentation for repairing and using X3000 TurboFixer machine.\n",
    "Generate the documentation for the user's request and the initial outline.\n",
    "If the user provides critique,or sections to be added,  respond with a revised version of your previous attempts.\n",
    "\"\"\"\n"
   ]
  },
  {
   "cell_type": "code",
   "execution_count": 8,
   "metadata": {},
   "outputs": [],
   "source": [
    "memory = MemorySaver()"
   ]
  },
  {
   "cell_type": "code",
   "execution_count": 9,
   "metadata": {},
   "outputs": [],
   "source": [
    "model = ChatVertexAI(\n",
    "    model=\"gemini-1.5-flash-001\",\n",
    "    temperature=0.6,\n",
    "    max_retries=2,\n",
    ")  #reduce inference cost"
   ]
  },
  {
   "cell_type": "code",
   "execution_count": null,
   "metadata": {},
   "outputs": [],
   "source": [
    "class AgentState(TypedDict):\n",
    "    task: str\n",
    "    plan: str\n",
    "    draft: str\n",
    "    plan_critiques: List[str]\n",
    "    draft_critiques: List[str]\n"
   ]
  },
  {
   "cell_type": "code",
   "execution_count": 26,
   "metadata": {},
   "outputs": [],
   "source": [
    "def generate_plan(state: AgentState):\n",
    "    content =plan_prompt\n",
    "    if \"plan_critiques\" in state and len(state[\"plan_critiques\"])>0:\n",
    "        critiques =\"\\n\\n\".join(state[\"plan_critiques\"])\n",
    "        content = content + f\"\\n\\n here is the user's critiques and feedback : {critiques}\"\n",
    "    messages = [\n",
    "        SystemMessage(content=content),\n",
    "        HumanMessage(content=state[\"task\"])\n",
    "        ]\n",
    "    response = model.invoke(messages)\n",
    "    return {\"plan\": response.content}\n",
    "\n",
    "def planner_critique(state:AgentState):\n",
    "    resp = input(\"Is the plan is good?\\n\")\n",
    "\n",
    "    if resp.lower() ==\"yes\":\n",
    "        critiques =[]\n",
    "    else :\n",
    "        critiques = input(\"please provide your critiques, separated by ',' ?\\n\").split[',']\n",
    "    return {\"plan_critiques\":critiques}"
   ]
  },
  {
   "cell_type": "code",
   "execution_count": 27,
   "metadata": {},
   "outputs": [],
   "source": [
    "def draf(state: AgentState):\n",
    "    system_content = draft_prompt\n",
    "    if \"draft_critiques\" in state and len(state[\"draft_critiques\"])>0:\n",
    "        critiques =\"\\n\\n\".join(state[\"draft_critiques\"])\n",
    "        system_content = system_content + f\"\\n\\n here is the user's critiques and feedback : {critiques}\"\n",
    "\n",
    "    user_content =f\"{state['task']} \\n\\n here is my plan : \\n\\n {state['plan']}\"\n",
    "    messages = [\n",
    "        SystemMessage(content=system_content),\n",
    "        HumanMessage(content=user_content)\n",
    "    ]\n",
    "    response = model.invoke(messages)\n",
    "    return {\"draf\": response.content}\n",
    "\n",
    "def draft_critique(state:AgentState):\n",
    "    resp = input(\"Is the Doc is good?\\n\")\n",
    "    if resp.lower() ==\"yes\":\n",
    "        critiques = []\n",
    "    else :\n",
    "        critiques = input(\"please provide your critiques, separated by ',' ?\\n\").split[',']\n",
    "    return {\"draft_critiques\":critiques}"
   ]
  },
  {
   "cell_type": "code",
   "execution_count": 28,
   "metadata": {},
   "outputs": [],
   "source": [
    "def is_plan_good(state):\n",
    "    if len(state[\"plan_critiques\"]) >0 :\n",
    "        return \"planner\"\n",
    "    else :\n",
    "        return \"doc_generator\"\n",
    "\n",
    "def is_docs_good(state):\n",
    "    if len(state[\"draft_critiques\"]) >0 :\n",
    "        return \"doc_generator\"\n",
    "    else :\n",
    "        return END"
   ]
  },
  {
   "cell_type": "code",
   "execution_count": 31,
   "metadata": {},
   "outputs": [],
   "source": [
    "builder = StateGraph(AgentState)\n",
    "\n",
    "builder.add_node(\"planner\", generate_plan)\n",
    "builder.add_node(\"planner_critique\", planner_critique)\n",
    "builder.add_node(\"doc_generator\", draf)\n",
    "builder.add_node(\"draf_critique\", draft_critique)\n",
    "\n",
    "builder.add_edge(START, \"planner\")\n",
    "builder.add_edge(\"planner\", \"planner_critique\")\n",
    "builder.add_edge(\"doc_generator\", \"draf_critique\")\n",
    "\n",
    "builder.add_conditional_edges(\n",
    "    \"planner_critique\",\n",
    "    is_plan_good,\n",
    "    {\"doc_generator\":\"doc_generator\",\"planner\":\"planner\"}\n",
    ")\n",
    "builder.add_conditional_edges(\n",
    "    \"draf_critique\",\n",
    "    is_docs_good,\n",
    "    {END:END,\"doc_generator\":\"doc_generator\"}\n",
    ")\n",
    "graph = builder.compile(checkpointer=memory)"
   ]
  },
  {
   "cell_type": "code",
   "execution_count": 32,
   "metadata": {},
   "outputs": [
    {
     "data": {
      "image/png": "[encoded data removed]",
      "text/plain": [
       "<IPython.core.display.Image object>"
      ]
     },
     "metadata": {},
     "output_type": "display_data"
    }
   ],
   "source": [
    "display(\n",
    "    Image(\n",
    "        graph.get_graph().draw_mermaid_png(\n",
    "            draw_method=MermaidDrawMethod.API,\n",
    "        )\n",
    "    )\n",
    ")"
   ]
  },
  {
   "cell_type": "code",
   "execution_count": null,
   "metadata": {},
   "outputs": [],
   "source": [
    "thread = {\"configurable\": {\"thread_id\": \"1\"}}\n",
    "\n",
    "for s in graph.stream({\n",
    "    'task': \"Could you please generate a documentation for X3000 TurboFixer machine?\"\n",
    "}, thread):\n",
    "    display_markdown(s)"
   ]
  }
 ],
 "metadata": {
  "kernelspec": {
   "display_name": "venv",
   "language": "python",
   "name": "python3"
  },
  "language_info": {
   "codemirror_mode": {
    "name": "ipython",
    "version": 3
   },
   "file_extension": ".py",
   "mimetype": "text/x-python",
   "name": "python",
   "nbconvert_exporter": "python",
   "pygments_lexer": "ipython3",
   "version": "3.12.8"
  }
 },
 "nbformat": 4,
 "nbformat_minor": 2
}
